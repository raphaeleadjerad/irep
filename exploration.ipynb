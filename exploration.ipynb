{
 "cells": [
  {
   "cell_type": "code",
   "execution_count": 1,
   "metadata": {},
   "outputs": [],
   "source": [
    "# Importation des bases"
   ]
  },
  {
   "cell_type": "code",
   "execution_count": 3,
   "metadata": {},
   "outputs": [
    {
     "data": {
      "text/plain": [
       "['radjerad/irep/2019/.keep',\n",
       " 'radjerad/irep/2019/Prelevements.csv',\n",
       " 'radjerad/irep/2019/Prod_dechets_dangereux.csv',\n",
       " 'radjerad/irep/2019/Prod_dechets_non_dangereux.csv',\n",
       " 'radjerad/irep/2019/Trait_dechets_dangereux.csv',\n",
       " 'radjerad/irep/2019/Trait_dechets_non_dangereux.csv',\n",
       " 'radjerad/irep/2019/emissions.csv',\n",
       " 'radjerad/irep/2019/etablissements.csv',\n",
       " 'radjerad/irep/2019/rejets.csv']"
      ]
     },
     "execution_count": 3,
     "metadata": {},
     "output_type": "execute_result"
    }
   ],
   "source": [
    "import os\n",
    "import s3fs\n",
    "import pandas as pd\n",
    "# Create filesystem object\n",
    "S3_ENDPOINT_URL = \"https://\" + os.environ[\"AWS_S3_ENDPOINT\"]\n",
    "fs = s3fs.S3FileSystem(client_kwargs={'endpoint_url': S3_ENDPOINT_URL})\n",
    "BUCKET = \"radjerad/irep/2019\"\n",
    "fs.ls(BUCKET)"
   ]
  },
  {
   "cell_type": "code",
   "execution_count": 9,
   "metadata": {},
   "outputs": [],
   "source": [
    "BUCKET = \"radjerad/irep/2019\"\n",
    "FILE_KEY_S3 = \"etablissements.csv\"\n",
    "FILE_PATH_S3 = BUCKET + \"/\" + FILE_KEY_S3\n",
    "\n",
    "with fs.open(FILE_PATH_S3, mode=\"rb\") as file_in:\n",
    "    etab = pd.read_csv(file_in, sep=\";\")"
   ]
  },
  {
   "cell_type": "code",
   "execution_count": 7,
   "metadata": {},
   "outputs": [
    {
     "data": {
      "text/html": [
       "<div>\n",
       "<style scoped>\n",
       "    .dataframe tbody tr th:only-of-type {\n",
       "        vertical-align: middle;\n",
       "    }\n",
       "\n",
       "    .dataframe tbody tr th {\n",
       "        vertical-align: top;\n",
       "    }\n",
       "\n",
       "    .dataframe thead th {\n",
       "        text-align: right;\n",
       "    }\n",
       "</style>\n",
       "<table border=\"1\" class=\"dataframe\">\n",
       "  <thead>\n",
       "    <tr style=\"text-align: right;\">\n",
       "      <th></th>\n",
       "      <th>identifiant</th>\n",
       "      <th>nom_etablissement</th>\n",
       "      <th>numero_siret</th>\n",
       "      <th>adresse</th>\n",
       "      <th>code_postal</th>\n",
       "      <th>commune</th>\n",
       "      <th>departement</th>\n",
       "      <th>region</th>\n",
       "      <th>coordonnees_x</th>\n",
       "      <th>coordonnees_y</th>\n",
       "      <th>code_epsg</th>\n",
       "      <th>code_ape</th>\n",
       "      <th>libelle_ape</th>\n",
       "      <th>code_eprtr</th>\n",
       "      <th>libelle_eprtr</th>\n",
       "    </tr>\n",
       "  </thead>\n",
       "  <tbody>\n",
       "    <tr>\n",
       "      <th>0</th>\n",
       "      <td>9073402</td>\n",
       "      <td>STEP - BEZIERS</td>\n",
       "      <td>41003460701688</td>\n",
       "      <td>Plaine Saint Pierre</td>\n",
       "      <td>34500</td>\n",
       "      <td>BEZIERS</td>\n",
       "      <td>HERAULT</td>\n",
       "      <td>OCCITANIE</td>\n",
       "      <td>672948.910000</td>\n",
       "      <td>1.813634e+06</td>\n",
       "      <td>27572.0</td>\n",
       "      <td>3700Z</td>\n",
       "      <td>Collecte et traitement des eaux usées</td>\n",
       "      <td>5.(f)</td>\n",
       "      <td>Installations de traitement des eaux urbaines ...</td>\n",
       "    </tr>\n",
       "    <tr>\n",
       "      <th>1</th>\n",
       "      <td>9076401</td>\n",
       "      <td>STEP - Pont de l'aveugle</td>\n",
       "      <td>20006710600241</td>\n",
       "      <td>17 avenue de l'adour</td>\n",
       "      <td>64600</td>\n",
       "      <td>ANGLET</td>\n",
       "      <td>PYRENEES-ATLANTIQUES</td>\n",
       "      <td>NOUVELLE-AQUITAINE</td>\n",
       "      <td>-1.498014</td>\n",
       "      <td>4.350209e+01</td>\n",
       "      <td>4326.0</td>\n",
       "      <td>3700Z</td>\n",
       "      <td>Collecte et traitement des eaux usées</td>\n",
       "      <td>5.(f)</td>\n",
       "      <td>Installations de traitement des eaux urbaines ...</td>\n",
       "    </tr>\n",
       "    <tr>\n",
       "      <th>2</th>\n",
       "      <td>9076202</td>\n",
       "      <td>STEP - Loison Sous Lens</td>\n",
       "      <td>57202552600813</td>\n",
       "      <td>1 route de lens</td>\n",
       "      <td>62218</td>\n",
       "      <td>LOISON-SOUS-LENS</td>\n",
       "      <td>PAS-DE-CALAIS</td>\n",
       "      <td>HAUTS-DE-FRANCE</td>\n",
       "      <td>2.856548</td>\n",
       "      <td>5.043594e+01</td>\n",
       "      <td>4326.0</td>\n",
       "      <td>3700Z</td>\n",
       "      <td>Collecte et traitement des eaux usées</td>\n",
       "      <td>5.(f)</td>\n",
       "      <td>Installations de traitement des eaux urbaines ...</td>\n",
       "    </tr>\n",
       "    <tr>\n",
       "      <th>3</th>\n",
       "      <td>9077801</td>\n",
       "      <td>SIAAP - Site Seine Aval</td>\n",
       "      <td>25755000400044</td>\n",
       "      <td>BP 104</td>\n",
       "      <td>78603</td>\n",
       "      <td>MAISONS-LAFFITTE</td>\n",
       "      <td>YVELINES</td>\n",
       "      <td>ILE-DE-FRANCE</td>\n",
       "      <td>2.140590</td>\n",
       "      <td>4.898410e+01</td>\n",
       "      <td>4326.0</td>\n",
       "      <td>3700Z</td>\n",
       "      <td>Collecte et traitement des eaux usées</td>\n",
       "      <td>5.(f)</td>\n",
       "      <td>Installations de traitement des eaux urbaines ...</td>\n",
       "    </tr>\n",
       "    <tr>\n",
       "      <th>4</th>\n",
       "      <td>9079001</td>\n",
       "      <td>UDEP-BELFORT</td>\n",
       "      <td>20006905200070</td>\n",
       "      <td>Boulevard Dunant (entrée par Allée des Grands ...</td>\n",
       "      <td>90000</td>\n",
       "      <td>BELFORT</td>\n",
       "      <td>TERRITOIRE-DE-BELFORT</td>\n",
       "      <td>BOURGOGNE-FRANCHE-COMTE</td>\n",
       "      <td>6.861504</td>\n",
       "      <td>4.762541e+01</td>\n",
       "      <td>4326.0</td>\n",
       "      <td>3700Z</td>\n",
       "      <td>Collecte et traitement des eaux usées</td>\n",
       "      <td>5.(f)</td>\n",
       "      <td>Installations de traitement des eaux urbaines ...</td>\n",
       "    </tr>\n",
       "  </tbody>\n",
       "</table>\n",
       "</div>"
      ],
      "text/plain": [
       "   identifiant         nom_etablissement    numero_siret  \\\n",
       "0      9073402            STEP - BEZIERS  41003460701688   \n",
       "1      9076401  STEP - Pont de l'aveugle  20006710600241   \n",
       "2      9076202   STEP - Loison Sous Lens  57202552600813   \n",
       "3      9077801   SIAAP - Site Seine Aval  25755000400044   \n",
       "4      9079001              UDEP-BELFORT  20006905200070   \n",
       "\n",
       "                                             adresse  code_postal  \\\n",
       "0                                Plaine Saint Pierre        34500   \n",
       "1                               17 avenue de l'adour        64600   \n",
       "2                                    1 route de lens        62218   \n",
       "3                                             BP 104        78603   \n",
       "4  Boulevard Dunant (entrée par Allée des Grands ...        90000   \n",
       "\n",
       "            commune            departement                   region  \\\n",
       "0           BEZIERS                HERAULT                OCCITANIE   \n",
       "1            ANGLET   PYRENEES-ATLANTIQUES       NOUVELLE-AQUITAINE   \n",
       "2  LOISON-SOUS-LENS          PAS-DE-CALAIS          HAUTS-DE-FRANCE   \n",
       "3  MAISONS-LAFFITTE               YVELINES            ILE-DE-FRANCE   \n",
       "4           BELFORT  TERRITOIRE-DE-BELFORT  BOURGOGNE-FRANCHE-COMTE   \n",
       "\n",
       "   coordonnees_x  coordonnees_y  code_epsg code_ape  \\\n",
       "0  672948.910000   1.813634e+06    27572.0    3700Z   \n",
       "1      -1.498014   4.350209e+01     4326.0    3700Z   \n",
       "2       2.856548   5.043594e+01     4326.0    3700Z   \n",
       "3       2.140590   4.898410e+01     4326.0    3700Z   \n",
       "4       6.861504   4.762541e+01     4326.0    3700Z   \n",
       "\n",
       "                             libelle_ape code_eprtr  \\\n",
       "0  Collecte et traitement des eaux usées      5.(f)   \n",
       "1  Collecte et traitement des eaux usées      5.(f)   \n",
       "2  Collecte et traitement des eaux usées      5.(f)   \n",
       "3  Collecte et traitement des eaux usées      5.(f)   \n",
       "4  Collecte et traitement des eaux usées      5.(f)   \n",
       "\n",
       "                                       libelle_eprtr  \n",
       "0  Installations de traitement des eaux urbaines ...  \n",
       "1  Installations de traitement des eaux urbaines ...  \n",
       "2  Installations de traitement des eaux urbaines ...  \n",
       "3  Installations de traitement des eaux urbaines ...  \n",
       "4  Installations de traitement des eaux urbaines ...  "
      ]
     },
     "execution_count": 7,
     "metadata": {},
     "output_type": "execute_result"
    }
   ],
   "source": [
    "etab.head()"
   ]
  },
  {
   "cell_type": "code",
   "execution_count": 8,
   "metadata": {},
   "outputs": [
    {
     "data": {
      "text/plain": [
       "(8963, 15)"
      ]
     },
     "execution_count": 8,
     "metadata": {},
     "output_type": "execute_result"
    }
   ],
   "source": [
    "etab.shape # 8963"
   ]
  },
  {
   "cell_type": "code",
   "execution_count": 10,
   "metadata": {},
   "outputs": [],
   "source": [
    "FILE_KEY_S3 = \"emissions.csv\"\n",
    "FILE_PATH_S3 = BUCKET + \"/\" + FILE_KEY_S3\n",
    "with fs.open(FILE_PATH_S3, mode=\"rb\") as file_in:\n",
    "    emissions = pd.read_csv(file_in, sep=\";\")"
   ]
  },
  {
   "cell_type": "code",
   "execution_count": 11,
   "metadata": {},
   "outputs": [
    {
     "data": {
      "text/html": [
       "<div>\n",
       "<style scoped>\n",
       "    .dataframe tbody tr th:only-of-type {\n",
       "        vertical-align: middle;\n",
       "    }\n",
       "\n",
       "    .dataframe tbody tr th {\n",
       "        vertical-align: top;\n",
       "    }\n",
       "\n",
       "    .dataframe thead th {\n",
       "        text-align: right;\n",
       "    }\n",
       "</style>\n",
       "<table border=\"1\" class=\"dataframe\">\n",
       "  <thead>\n",
       "    <tr style=\"text-align: right;\">\n",
       "      <th></th>\n",
       "      <th>identifiant</th>\n",
       "      <th>nom_etablissement</th>\n",
       "      <th>annee_emission</th>\n",
       "      <th>milieu</th>\n",
       "      <th>polluant</th>\n",
       "      <th>quantite</th>\n",
       "      <th>unite</th>\n",
       "    </tr>\n",
       "  </thead>\n",
       "  <tbody>\n",
       "    <tr>\n",
       "      <th>0</th>\n",
       "      <td>3300377</td>\n",
       "      <td>MACON ENERGIES SERVICES</td>\n",
       "      <td>2019</td>\n",
       "      <td>Air</td>\n",
       "      <td>Dioxyde de carbone (CO2) d'origine non biomasse</td>\n",
       "      <td>16300000.0</td>\n",
       "      <td>kg/an</td>\n",
       "    </tr>\n",
       "    <tr>\n",
       "      <th>1</th>\n",
       "      <td>9069928</td>\n",
       "      <td>CYCLIFE FRANCE CENTRACO</td>\n",
       "      <td>2019</td>\n",
       "      <td>Air</td>\n",
       "      <td>Hydroflurocarbures (HFC)</td>\n",
       "      <td>311.0</td>\n",
       "      <td>kg/an</td>\n",
       "    </tr>\n",
       "    <tr>\n",
       "      <th>2</th>\n",
       "      <td>9069905</td>\n",
       "      <td>EDF - CNPE de Penly</td>\n",
       "      <td>2019</td>\n",
       "      <td>Air</td>\n",
       "      <td>Hexafluorure de soufre (SF6)</td>\n",
       "      <td>880.0</td>\n",
       "      <td>kg/an</td>\n",
       "    </tr>\n",
       "    <tr>\n",
       "      <th>3</th>\n",
       "      <td>9069905</td>\n",
       "      <td>EDF - CNPE de Penly</td>\n",
       "      <td>2019</td>\n",
       "      <td>Air</td>\n",
       "      <td>Hydroflurocarbures (HFC)</td>\n",
       "      <td>247.0</td>\n",
       "      <td>kg/an</td>\n",
       "    </tr>\n",
       "    <tr>\n",
       "      <th>4</th>\n",
       "      <td>9074902</td>\n",
       "      <td>STEU - Les Cinq Ponts</td>\n",
       "      <td>2019</td>\n",
       "      <td>Sol</td>\n",
       "      <td>Phosphore total</td>\n",
       "      <td>55900.0</td>\n",
       "      <td>kg/an</td>\n",
       "    </tr>\n",
       "  </tbody>\n",
       "</table>\n",
       "</div>"
      ],
      "text/plain": [
       "   identifiant        nom_etablissement  annee_emission milieu  \\\n",
       "0      3300377  MACON ENERGIES SERVICES            2019    Air   \n",
       "1      9069928  CYCLIFE FRANCE CENTRACO            2019    Air   \n",
       "2      9069905      EDF - CNPE de Penly            2019    Air   \n",
       "3      9069905      EDF - CNPE de Penly            2019    Air   \n",
       "4      9074902    STEU - Les Cinq Ponts            2019    Sol   \n",
       "\n",
       "                                          polluant    quantite  unite  \n",
       "0  Dioxyde de carbone (CO2) d'origine non biomasse  16300000.0  kg/an  \n",
       "1                         Hydroflurocarbures (HFC)       311.0  kg/an  \n",
       "2                     Hexafluorure de soufre (SF6)       880.0  kg/an  \n",
       "3                         Hydroflurocarbures (HFC)       247.0  kg/an  \n",
       "4                                  Phosphore total     55900.0  kg/an  "
      ]
     },
     "execution_count": 11,
     "metadata": {},
     "output_type": "execute_result"
    }
   ],
   "source": [
    "emissions.head()"
   ]
  },
  {
   "cell_type": "code",
   "execution_count": 12,
   "metadata": {},
   "outputs": [
    {
     "data": {
      "text/plain": [
       "(7032, 7)"
      ]
     },
     "execution_count": 12,
     "metadata": {},
     "output_type": "execute_result"
    }
   ],
   "source": [
    "emissions.shape # 7032"
   ]
  },
  {
   "cell_type": "code",
   "execution_count": 13,
   "metadata": {},
   "outputs": [
    {
     "data": {
      "text/plain": [
       "2019    7032\n",
       "Name: annee_emission, dtype: int64"
      ]
     },
     "execution_count": 13,
     "metadata": {},
     "output_type": "execute_result"
    }
   ],
   "source": [
    "emissions[\"annee_emission\"].value_counts()"
   ]
  },
  {
   "cell_type": "code",
   "execution_count": 14,
   "metadata": {},
   "outputs": [
    {
     "data": {
      "text/plain": [
       "Air               4403\n",
       "Eau (direct)      1311\n",
       "Eau (indirect)     757\n",
       "Sol                561\n",
       "Name: milieu, dtype: int64"
      ]
     },
     "execution_count": 14,
     "metadata": {},
     "output_type": "execute_result"
    }
   ],
   "source": [
    "emissions[\"milieu\"].value_counts()"
   ]
  },
  {
   "cell_type": "code",
   "execution_count": 15,
   "metadata": {},
   "outputs": [],
   "source": [
    "FILE_KEY_S3 = \"Prod_dechets_dangereux.csv\"\n",
    "FILE_PATH_S3 = BUCKET + \"/\" + FILE_KEY_S3\n",
    "with fs.open(FILE_PATH_S3, mode=\"rb\") as file_in:\n",
    "    dechets_dang = pd.read_csv(file_in, sep=\";\")"
   ]
  },
  {
   "cell_type": "code",
   "execution_count": 16,
   "metadata": {},
   "outputs": [
    {
     "data": {
      "text/plain": [
       "(72207, 12)"
      ]
     },
     "execution_count": 16,
     "metadata": {},
     "output_type": "execute_result"
    }
   ],
   "source": [
    "dechets_dang.shape # 72207"
   ]
  },
  {
   "cell_type": "code",
   "execution_count": 17,
   "metadata": {},
   "outputs": [
    {
     "data": {
      "text/html": [
       "<div>\n",
       "<style scoped>\n",
       "    .dataframe tbody tr th:only-of-type {\n",
       "        vertical-align: middle;\n",
       "    }\n",
       "\n",
       "    .dataframe tbody tr th {\n",
       "        vertical-align: top;\n",
       "    }\n",
       "\n",
       "    .dataframe thead th {\n",
       "        text-align: right;\n",
       "    }\n",
       "</style>\n",
       "<table border=\"1\" class=\"dataframe\">\n",
       "  <thead>\n",
       "    <tr style=\"text-align: right;\">\n",
       "      <th></th>\n",
       "      <th>identifiant</th>\n",
       "      <th>nom_etablissement</th>\n",
       "      <th>dechet</th>\n",
       "      <th>annee</th>\n",
       "      <th>code_operation_eliminatio_valorisation</th>\n",
       "      <th>libelle_operation_eliminatio_valorisation</th>\n",
       "      <th>code_departement</th>\n",
       "      <th>pays</th>\n",
       "      <th>code_dechet</th>\n",
       "      <th>libelle_dechet</th>\n",
       "      <th>quantite</th>\n",
       "      <th>unite</th>\n",
       "    </tr>\n",
       "  </thead>\n",
       "  <tbody>\n",
       "    <tr>\n",
       "      <th>0</th>\n",
       "      <td>3012705</td>\n",
       "      <td>Knauf Insulation Lannemezan</td>\n",
       "      <td>Production de déchets dangereux</td>\n",
       "      <td>2019</td>\n",
       "      <td>D10</td>\n",
       "      <td>D10 Incinération à terre</td>\n",
       "      <td>62</td>\n",
       "      <td>NaN</td>\n",
       "      <td>11 01 11*</td>\n",
       "      <td>Liquides aqueux de rinçage contenant des subst...</td>\n",
       "      <td>13.0</td>\n",
       "      <td>tonnes/an</td>\n",
       "    </tr>\n",
       "    <tr>\n",
       "      <th>1</th>\n",
       "      <td>3012705</td>\n",
       "      <td>Knauf Insulation Lannemezan</td>\n",
       "      <td>Production de déchets dangereux</td>\n",
       "      <td>2019</td>\n",
       "      <td>D13</td>\n",
       "      <td>D13 Regroupement préalablement à l'une des opé...</td>\n",
       "      <td>62</td>\n",
       "      <td>NaN</td>\n",
       "      <td>07 07 04*</td>\n",
       "      <td>Autres solvants, liquides de lavage et liqueur...</td>\n",
       "      <td>141.0</td>\n",
       "      <td>tonnes/an</td>\n",
       "    </tr>\n",
       "    <tr>\n",
       "      <th>2</th>\n",
       "      <td>3012705</td>\n",
       "      <td>Knauf Insulation Lannemezan</td>\n",
       "      <td>Production de déchets dangereux</td>\n",
       "      <td>2019</td>\n",
       "      <td>D5</td>\n",
       "      <td>D5 Mise en décharge spécialement aménagée (par...</td>\n",
       "      <td>54</td>\n",
       "      <td>NaN</td>\n",
       "      <td>11 01 11*</td>\n",
       "      <td>Liquides aqueux de rinçage contenant des subst...</td>\n",
       "      <td>23.0</td>\n",
       "      <td>tonnes/an</td>\n",
       "    </tr>\n",
       "    <tr>\n",
       "      <th>3</th>\n",
       "      <td>3012705</td>\n",
       "      <td>Knauf Insulation Lannemezan</td>\n",
       "      <td>Production de déchets dangereux</td>\n",
       "      <td>2019</td>\n",
       "      <td>D9</td>\n",
       "      <td>D9 Traitement physico-chimique non spécifié ai...</td>\n",
       "      <td>57</td>\n",
       "      <td>NaN</td>\n",
       "      <td>07 07 04*</td>\n",
       "      <td>Autres solvants, liquides de lavage et liqueur...</td>\n",
       "      <td>37.0</td>\n",
       "      <td>tonnes/an</td>\n",
       "    </tr>\n",
       "    <tr>\n",
       "      <th>4</th>\n",
       "      <td>3012705</td>\n",
       "      <td>Knauf Insulation Lannemezan</td>\n",
       "      <td>Production de déchets dangereux</td>\n",
       "      <td>2019</td>\n",
       "      <td>R1</td>\n",
       "      <td>R1 Utilisation principale comme combustible ou...</td>\n",
       "      <td>57</td>\n",
       "      <td>NaN</td>\n",
       "      <td>15 02 02*</td>\n",
       "      <td>Absorbants, matériaux filtrants (y compris les...</td>\n",
       "      <td>64.0</td>\n",
       "      <td>tonnes/an</td>\n",
       "    </tr>\n",
       "  </tbody>\n",
       "</table>\n",
       "</div>"
      ],
      "text/plain": [
       "   identifiant            nom_etablissement                           dechet  \\\n",
       "0      3012705  Knauf Insulation Lannemezan  Production de déchets dangereux   \n",
       "1      3012705  Knauf Insulation Lannemezan  Production de déchets dangereux   \n",
       "2      3012705  Knauf Insulation Lannemezan  Production de déchets dangereux   \n",
       "3      3012705  Knauf Insulation Lannemezan  Production de déchets dangereux   \n",
       "4      3012705  Knauf Insulation Lannemezan  Production de déchets dangereux   \n",
       "\n",
       "   annee code_operation_eliminatio_valorisation  \\\n",
       "0   2019                                    D10   \n",
       "1   2019                                    D13   \n",
       "2   2019                                    D5    \n",
       "3   2019                                    D9    \n",
       "4   2019                                    R1    \n",
       "\n",
       "           libelle_operation_eliminatio_valorisation code_departement  pays  \\\n",
       "0                           D10 Incinération à terre               62   NaN   \n",
       "1  D13 Regroupement préalablement à l'une des opé...               62   NaN   \n",
       "2  D5 Mise en décharge spécialement aménagée (par...               54   NaN   \n",
       "3  D9 Traitement physico-chimique non spécifié ai...               57   NaN   \n",
       "4  R1 Utilisation principale comme combustible ou...               57   NaN   \n",
       "\n",
       "  code_dechet                                     libelle_dechet  quantite  \\\n",
       "0   11 01 11*  Liquides aqueux de rinçage contenant des subst...      13.0   \n",
       "1   07 07 04*  Autres solvants, liquides de lavage et liqueur...     141.0   \n",
       "2   11 01 11*  Liquides aqueux de rinçage contenant des subst...      23.0   \n",
       "3   07 07 04*  Autres solvants, liquides de lavage et liqueur...      37.0   \n",
       "4   15 02 02*  Absorbants, matériaux filtrants (y compris les...      64.0   \n",
       "\n",
       "       unite  \n",
       "0  tonnes/an  \n",
       "1  tonnes/an  \n",
       "2  tonnes/an  \n",
       "3  tonnes/an  \n",
       "4  tonnes/an  "
      ]
     },
     "execution_count": 17,
     "metadata": {},
     "output_type": "execute_result"
    }
   ],
   "source": [
    "dechets_dang.head()"
   ]
  },
  {
   "cell_type": "code",
   "execution_count": null,
   "metadata": {},
   "outputs": [],
   "source": []
  }
 ],
 "metadata": {
  "interpreter": {
   "hash": "ed5946f2a0d3f5e934efd92075c2a89b2cb5130d0efd6e4509a568bedf48ed26"
  },
  "kernelspec": {
   "display_name": "Python 3.10.4 ('basesspcloud')",
   "language": "python",
   "name": "python3"
  },
  "language_info": {
   "codemirror_mode": {
    "name": "ipython",
    "version": 3
   },
   "file_extension": ".py",
   "mimetype": "text/x-python",
   "name": "python",
   "nbconvert_exporter": "python",
   "pygments_lexer": "ipython3",
   "version": "3.10.4"
  },
  "orig_nbformat": 4
 },
 "nbformat": 4,
 "nbformat_minor": 2
}
