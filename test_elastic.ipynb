{
 "cells": [
  {
   "cell_type": "code",
   "execution_count": 3,
   "metadata": {},
   "outputs": [],
   "source": [
    "# Test elastic\n",
    "from elasticsearch import Elasticsearch\n",
    "HOST = 'elasticsearch-master.projet-ssplab'\n",
    "\n",
    "def elastic():\n",
    "    \"\"\"Connection avec Elastic sur le data lab\"\"\"\n",
    "    es = Elasticsearch([{'host': HOST, 'port': 9200, 'scheme': 'http'}], http_compress=True, request_timeout=200)\n",
    "    return es\n",
    "\n",
    "es = elastic()"
   ]
  },
  {
   "cell_type": "code",
   "execution_count": 4,
   "metadata": {},
   "outputs": [
    {
     "name": "stderr",
     "output_type": "stream",
     "text": [
      "/opt/conda/lib/python3.9/site-packages/elasticsearch/connection/base.py:200: ElasticsearchWarning: Elasticsearch built-in security features are not enabled. Without authentication, your cluster could be accessible to anyone. See https://www.elastic.co/guide/en/elasticsearch/reference/7.17/security-minimal-setup.html to enable security.\n",
      "  warnings.warn(message, category=ElasticsearchWarning)\n"
     ]
    },
    {
     "data": {
      "text/plain": [
       "{'count': 11184109,\n",
       " '_shards': {'total': 3, 'successful': 3, 'skipped': 0, 'failed': 0}}"
      ]
     },
     "execution_count": 4,
     "metadata": {},
     "output_type": "execute_result"
    }
   ],
   "source": [
    " # On compte les établissements indexés dans le moteur de recherche #\n",
    "es.count(index = \"sirus_2020\")"
   ]
  },
  {
   "cell_type": "code",
   "execution_count": 5,
   "metadata": {},
   "outputs": [
    {
     "data": {
      "text/plain": [
       "dict_keys(['rejets', 'etablissements', 'emissions', 'Trait_dechets_non_dangereux', 'Trait_dechets_dangereux', 'Prod_dechets_non_dangereux', 'Prod_dechets_dangereux', 'Prelevements'])"
      ]
     },
     "execution_count": 5,
     "metadata": {},
     "output_type": "execute_result"
    }
   ],
   "source": [
    "# Importation des bases\n",
    "\n",
    "import functions as fc\n",
    "\n",
    "dict_data = fc.read_all_raw(fc.list_bases)\n",
    "dict_data.keys()"
   ]
  },
  {
   "cell_type": "code",
   "execution_count": 6,
   "metadata": {},
   "outputs": [
    {
     "data": {
      "text/html": [
       "<div>\n",
       "<style scoped>\n",
       "    .dataframe tbody tr th:only-of-type {\n",
       "        vertical-align: middle;\n",
       "    }\n",
       "\n",
       "    .dataframe tbody tr th {\n",
       "        vertical-align: top;\n",
       "    }\n",
       "\n",
       "    .dataframe thead th {\n",
       "        text-align: right;\n",
       "    }\n",
       "</style>\n",
       "<table border=\"1\" class=\"dataframe\">\n",
       "  <thead>\n",
       "    <tr style=\"text-align: right;\">\n",
       "      <th></th>\n",
       "      <th>identifiant</th>\n",
       "      <th>nom_etablissement</th>\n",
       "      <th>numero_siret</th>\n",
       "      <th>adresse</th>\n",
       "      <th>code_postal</th>\n",
       "      <th>commune</th>\n",
       "      <th>departement</th>\n",
       "      <th>region</th>\n",
       "      <th>coordonnees_x</th>\n",
       "      <th>coordonnees_y</th>\n",
       "      <th>code_epsg</th>\n",
       "      <th>code_ape</th>\n",
       "      <th>libelle_ape</th>\n",
       "      <th>code_eprtr</th>\n",
       "      <th>libelle_eprtr</th>\n",
       "    </tr>\n",
       "  </thead>\n",
       "  <tbody>\n",
       "    <tr>\n",
       "      <th>0</th>\n",
       "      <td>9073402</td>\n",
       "      <td>STEP - BEZIERS</td>\n",
       "      <td>41003460701688</td>\n",
       "      <td>Plaine Saint Pierre</td>\n",
       "      <td>34500</td>\n",
       "      <td>BEZIERS</td>\n",
       "      <td>HERAULT</td>\n",
       "      <td>OCCITANIE</td>\n",
       "      <td>672948.91</td>\n",
       "      <td>1813634.13</td>\n",
       "      <td>27572.0</td>\n",
       "      <td>3700Z</td>\n",
       "      <td>Collecte et traitement des eaux usées</td>\n",
       "      <td>5.(f)</td>\n",
       "      <td>Installations de traitement des eaux urbaines ...</td>\n",
       "    </tr>\n",
       "  </tbody>\n",
       "</table>\n",
       "</div>"
      ],
      "text/plain": [
       "   identifiant nom_etablissement    numero_siret              adresse  \\\n",
       "0      9073402    STEP - BEZIERS  41003460701688  Plaine Saint Pierre   \n",
       "\n",
       "   code_postal  commune departement     region  coordonnees_x  coordonnees_y  \\\n",
       "0        34500  BEZIERS     HERAULT  OCCITANIE      672948.91     1813634.13   \n",
       "\n",
       "   code_epsg code_ape                            libelle_ape code_eprtr  \\\n",
       "0    27572.0    3700Z  Collecte et traitement des eaux usées      5.(f)   \n",
       "\n",
       "                                       libelle_eprtr  \n",
       "0  Installations de traitement des eaux urbaines ...  "
      ]
     },
     "execution_count": 6,
     "metadata": {},
     "output_type": "execute_result"
    }
   ],
   "source": [
    "dict_data['etablissements'].head(1)"
   ]
  },
  {
   "cell_type": "code",
   "execution_count": 7,
   "metadata": {},
   "outputs": [],
   "source": [
    "df = dict_data['etablissements']"
   ]
  },
  {
   "cell_type": "code",
   "execution_count": 8,
   "metadata": {},
   "outputs": [
    {
     "data": {
      "text/html": [
       "<div>\n",
       "<style scoped>\n",
       "    .dataframe tbody tr th:only-of-type {\n",
       "        vertical-align: middle;\n",
       "    }\n",
       "\n",
       "    .dataframe tbody tr th {\n",
       "        vertical-align: top;\n",
       "    }\n",
       "\n",
       "    .dataframe thead th {\n",
       "        text-align: right;\n",
       "    }\n",
       "</style>\n",
       "<table border=\"1\" class=\"dataframe\">\n",
       "  <thead>\n",
       "    <tr style=\"text-align: right;\">\n",
       "      <th></th>\n",
       "      <th>identifiant</th>\n",
       "      <th>nom_etablissement</th>\n",
       "      <th>adresse</th>\n",
       "      <th>code_postal</th>\n",
       "      <th>commune</th>\n",
       "      <th>departement</th>\n",
       "      <th>region</th>\n",
       "      <th>coordonnees_x</th>\n",
       "      <th>coordonnees_y</th>\n",
       "      <th>code_epsg</th>\n",
       "      <th>code_ape</th>\n",
       "      <th>libelle_ape</th>\n",
       "      <th>code_eprtr</th>\n",
       "      <th>libelle_eprtr</th>\n",
       "    </tr>\n",
       "  </thead>\n",
       "  <tbody>\n",
       "    <tr>\n",
       "      <th>7273</th>\n",
       "      <td>6506233</td>\n",
       "      <td>CPCU - CENTRALE DE BERCY</td>\n",
       "      <td>177, rue de Bercy</td>\n",
       "      <td>75012</td>\n",
       "      <td>PARIS-12E-ARRONDISSEMENT</td>\n",
       "      <td>PARIS</td>\n",
       "      <td>ILE-DE-FRANCE</td>\n",
       "      <td>2.37396</td>\n",
       "      <td>48.84329</td>\n",
       "      <td>4326.0</td>\n",
       "      <td>3530Z</td>\n",
       "      <td>Production et distribution de vapeur et d'air ...</td>\n",
       "      <td>1.(c)</td>\n",
       "      <td>Centrales thermiques et autres installations d...</td>\n",
       "    </tr>\n",
       "  </tbody>\n",
       "</table>\n",
       "</div>"
      ],
      "text/plain": [
       "      identifiant         nom_etablissement            adresse  code_postal  \\\n",
       "7273      6506233  CPCU - CENTRALE DE BERCY  177, rue de Bercy        75012   \n",
       "\n",
       "                       commune departement         region  coordonnees_x  \\\n",
       "7273  PARIS-12E-ARRONDISSEMENT       PARIS  ILE-DE-FRANCE        2.37396   \n",
       "\n",
       "      coordonnees_y  code_epsg code_ape  \\\n",
       "7273       48.84329     4326.0    3530Z   \n",
       "\n",
       "                                            libelle_ape code_eprtr  \\\n",
       "7273  Production et distribution de vapeur et d'air ...      1.(c)   \n",
       "\n",
       "                                          libelle_eprtr  \n",
       "7273  Centrales thermiques et autres installations d...  "
      ]
     },
     "execution_count": 8,
     "metadata": {},
     "output_type": "execute_result"
    }
   ],
   "source": [
    "df = df.drop('numero_siret', axis = 1) # Pour ne pas tricher\n",
    "\n",
    "# Un exemple pour démarrer\n",
    "df[df['identifiant']==6506233]"
   ]
  },
  {
   "cell_type": "code",
   "execution_count": 9,
   "metadata": {},
   "outputs": [
    {
     "data": {
      "text/html": [
       "<div>\n",
       "<style scoped>\n",
       "    .dataframe tbody tr th:only-of-type {\n",
       "        vertical-align: middle;\n",
       "    }\n",
       "\n",
       "    .dataframe tbody tr th {\n",
       "        vertical-align: top;\n",
       "    }\n",
       "\n",
       "    .dataframe thead th {\n",
       "        text-align: right;\n",
       "    }\n",
       "</style>\n",
       "<table border=\"1\" class=\"dataframe\">\n",
       "  <thead>\n",
       "    <tr style=\"text-align: right;\">\n",
       "      <th></th>\n",
       "      <th>identifiant</th>\n",
       "      <th>nom_etablissement</th>\n",
       "      <th>annee_emission</th>\n",
       "      <th>milieu</th>\n",
       "      <th>polluant</th>\n",
       "      <th>quantite</th>\n",
       "      <th>unite</th>\n",
       "    </tr>\n",
       "  </thead>\n",
       "  <tbody>\n",
       "    <tr>\n",
       "      <th>4550</th>\n",
       "      <td>6506233</td>\n",
       "      <td>CPCU - CENTRALE DE BERCY</td>\n",
       "      <td>2019</td>\n",
       "      <td>Air</td>\n",
       "      <td>Dioxyde de carbone (CO2) d'origine non biomasse</td>\n",
       "      <td>23800000.0</td>\n",
       "      <td>kg/an</td>\n",
       "    </tr>\n",
       "    <tr>\n",
       "      <th>4551</th>\n",
       "      <td>6506233</td>\n",
       "      <td>CPCU - CENTRALE DE BERCY</td>\n",
       "      <td>2019</td>\n",
       "      <td>Air</td>\n",
       "      <td>Dioxyde de carbone (CO2) total (d'origine biom...</td>\n",
       "      <td>30500000.0</td>\n",
       "      <td>kg/an</td>\n",
       "    </tr>\n",
       "  </tbody>\n",
       "</table>\n",
       "</div>"
      ],
      "text/plain": [
       "      identifiant         nom_etablissement  annee_emission milieu  \\\n",
       "4550      6506233  CPCU - CENTRALE DE BERCY            2019    Air   \n",
       "4551      6506233  CPCU - CENTRALE DE BERCY            2019    Air   \n",
       "\n",
       "                                               polluant    quantite  unite  \n",
       "4550    Dioxyde de carbone (CO2) d'origine non biomasse  23800000.0  kg/an  \n",
       "4551  Dioxyde de carbone (CO2) total (d'origine biom...  30500000.0  kg/an  "
      ]
     },
     "execution_count": 9,
     "metadata": {},
     "output_type": "execute_result"
    }
   ],
   "source": [
    "em = dict_data['emissions']\n",
    "em[em['identifiant']==6506233]"
   ]
  },
  {
   "cell_type": "code",
   "execution_count": 10,
   "metadata": {},
   "outputs": [
    {
     "name": "stderr",
     "output_type": "stream",
     "text": [
      "/opt/conda/lib/python3.9/site-packages/elasticsearch/connection/base.py:200: ElasticsearchWarning: Elasticsearch built-in security features are not enabled. Without authentication, your cluster could be accessible to anyone. See https://www.elastic.co/guide/en/elasticsearch/reference/7.17/security-minimal-setup.html to enable security.\n",
      "  warnings.warn(message, category=ElasticsearchWarning)\n"
     ]
    }
   ],
   "source": [
    "# Recherche dans l'ensemble des champs le meilleur écho (le plus pertinent) #\n",
    "#fullsearch = es.search(index = \"sirus_2020\", # l'index dans lequel on cherche\n",
    "#                              q = \"CPCU - CENTRALE DE BERCY\", # notre requête textuelle\n",
    "#                              size = 1) # taille de l'ensemble les échos souhaités\n",
    "# debug? unstable behaviour?\n",
    "fullsearch = es.search(index = \"sirus_2020\", # l'index dans lequel on cherche\n",
    "                       q = \"CPCU - CENTRALE DE BERCY\", # notre requête textuelle\n",
    "                              size = 1) # taille de l'ensemble les échos souhaités"
   ]
  },
  {
   "cell_type": "code",
   "execution_count": null,
   "metadata": {},
   "outputs": [],
   "source": []
  }
 ],
 "metadata": {
  "interpreter": {
   "hash": "ed5946f2a0d3f5e934efd92075c2a89b2cb5130d0efd6e4509a568bedf48ed26"
  },
  "kernelspec": {
   "display_name": "Python 3 (ipykernel)",
   "language": "python",
   "name": "python3"
  },
  "language_info": {
   "codemirror_mode": {
    "name": "ipython",
    "version": 3
   },
   "file_extension": ".py",
   "mimetype": "text/x-python",
   "name": "python",
   "nbconvert_exporter": "python",
   "pygments_lexer": "ipython3",
   "version": "3.9.12"
  }
 },
 "nbformat": 4,
 "nbformat_minor": 4
}
