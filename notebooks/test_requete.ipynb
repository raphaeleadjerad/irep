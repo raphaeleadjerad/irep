{
 "cells": [
  {
   "cell_type": "code",
   "execution_count": 129,
   "metadata": {},
   "outputs": [],
   "source": [
    "import numpy as np\n",
    "import pandas as pd\n",
    "from elasticsearch import Elasticsearch\n",
    "from sklearn.model_selection import train_test_split\n",
    "import geopandas as gpd"
   ]
  },
  {
   "cell_type": "code",
   "execution_count": 2,
   "metadata": {},
   "outputs": [],
   "source": [
    "\n",
    "HOST = 'elasticsearch-master.projet-ssplab'\n",
    "\n",
    "def elastic():\n",
    "    \"\"\"Connection avec Elastic sur le data lab\"\"\"\n",
    "    es = Elasticsearch([{'host': HOST, 'port': 9200, 'scheme': 'http'}], http_compress=True, request_timeout=200)\n",
    "    return es\n",
    "\n",
    "es = elastic()"
   ]
  },
  {
   "cell_type": "code",
   "execution_count": 3,
   "metadata": {},
   "outputs": [
    {
     "data": {
      "text/plain": [
       "dict_keys(['rejets', 'etablissements', 'emissions', 'Trait_dechets_non_dangereux', 'Trait_dechets_dangereux', 'Prod_dechets_non_dangereux', 'Prod_dechets_dangereux', 'Prelevements'])"
      ]
     },
     "execution_count": 3,
     "metadata": {},
     "output_type": "execute_result"
    }
   ],
   "source": [
    "# Importation des bases\n",
    "import functions as fc\n",
    "dict_data = fc.read_all_raw(fc.list_bases)\n",
    "dict_data.keys()"
   ]
  },
  {
   "cell_type": "code",
   "execution_count": 78,
   "metadata": {},
   "outputs": [],
   "source": [
    "df = dict_data[\"etablissements\"]\n",
    "df = df.rename({'numero_siret': \"numero_siret_true\"}, axis = 1)\n",
    "df[\"numero_siret_true\"] = df[\"numero_siret_true\"].astype(str)"
   ]
  },
  {
   "cell_type": "code",
   "execution_count": 122,
   "metadata": {},
   "outputs": [
    {
     "data": {
      "text/html": [
       "<div>\n",
       "<style scoped>\n",
       "    .dataframe tbody tr th:only-of-type {\n",
       "        vertical-align: middle;\n",
       "    }\n",
       "\n",
       "    .dataframe tbody tr th {\n",
       "        vertical-align: top;\n",
       "    }\n",
       "\n",
       "    .dataframe thead th {\n",
       "        text-align: right;\n",
       "    }\n",
       "</style>\n",
       "<table border=\"1\" class=\"dataframe\">\n",
       "  <thead>\n",
       "    <tr style=\"text-align: right;\">\n",
       "      <th></th>\n",
       "      <th>coordonnees_x</th>\n",
       "      <th>coordonnees_y</th>\n",
       "      <th>code_epsg</th>\n",
       "    </tr>\n",
       "  </thead>\n",
       "  <tbody>\n",
       "    <tr>\n",
       "      <th>0</th>\n",
       "      <td>672948.910000</td>\n",
       "      <td>1.813634e+06</td>\n",
       "      <td>27572.0</td>\n",
       "    </tr>\n",
       "    <tr>\n",
       "      <th>1</th>\n",
       "      <td>-1.498014</td>\n",
       "      <td>4.350209e+01</td>\n",
       "      <td>4326.0</td>\n",
       "    </tr>\n",
       "    <tr>\n",
       "      <th>2</th>\n",
       "      <td>2.856548</td>\n",
       "      <td>5.043594e+01</td>\n",
       "      <td>4326.0</td>\n",
       "    </tr>\n",
       "    <tr>\n",
       "      <th>3</th>\n",
       "      <td>2.140590</td>\n",
       "      <td>4.898410e+01</td>\n",
       "      <td>4326.0</td>\n",
       "    </tr>\n",
       "    <tr>\n",
       "      <th>4</th>\n",
       "      <td>6.861504</td>\n",
       "      <td>4.762541e+01</td>\n",
       "      <td>4326.0</td>\n",
       "    </tr>\n",
       "  </tbody>\n",
       "</table>\n",
       "</div>"
      ],
      "text/plain": [
       "   coordonnees_x  coordonnees_y  code_epsg\n",
       "0  672948.910000   1.813634e+06    27572.0\n",
       "1      -1.498014   4.350209e+01     4326.0\n",
       "2       2.856548   5.043594e+01     4326.0\n",
       "3       2.140590   4.898410e+01     4326.0\n",
       "4       6.861504   4.762541e+01     4326.0"
      ]
     },
     "execution_count": 122,
     "metadata": {},
     "output_type": "execute_result"
    }
   ],
   "source": [
    "df[[\"coordonnees_x\", \"coordonnees_y\", \"code_epsg\"]].head()"
   ]
  },
  {
   "cell_type": "code",
   "execution_count": 123,
   "metadata": {},
   "outputs": [
    {
     "data": {
      "text/plain": [
       "2154.0     7520\n",
       "4326.0      882\n",
       "27572.0     368\n",
       "4559.0       33\n",
       "2971.0        8\n",
       "3727.0        4\n",
       "Name: code_epsg, dtype: int64"
      ]
     },
     "execution_count": 123,
     "metadata": {},
     "output_type": "execute_result"
    }
   ],
   "source": [
    "df[\"code_epsg\"].value_counts()"
   ]
  },
  {
   "cell_type": "code",
   "execution_count": 79,
   "metadata": {},
   "outputs": [],
   "source": [
    "df[\"code_apet\"] = df[\"code_ape\"].str[:4]"
   ]
  },
  {
   "cell_type": "code",
   "execution_count": 130,
   "metadata": {},
   "outputs": [],
   "source": [
    "etab_not_null = df.dropna(subset = ['code_epsg'])\n",
    "etab_null = df.loc[df['code_epsg'].isnull()]\n",
    "gb = etab_not_null.groupby(\"code_epsg\")\n",
    "gb = [gb.get_group(x) for x in gb.groups]\n",
    "\n",
    "def transform_wgs84(df, epsg):\n",
    "    etab = gpd.GeoDataFrame(\n",
    "       df,\n",
    "        geometry=gpd.points_from_xy(\n",
    "            df['coordonnees_x'],\n",
    "            df['coordonnees_y']\n",
    "        ),\n",
    "        crs = epsg)\n",
    "    etab = etab.to_crs(4326)\n",
    "    etab['x'] = etab['geometry'].x \n",
    "    etab['y'] = etab['geometry'].y\n",
    "    etab = pd.DataFrame(etab)\n",
    "    return etab"
   ]
  },
  {
   "cell_type": "code",
   "execution_count": 131,
   "metadata": {},
   "outputs": [],
   "source": [
    "temp = [\n",
    "    transform_wgs84(\n",
    "        gb[idx],\n",
    "        gb[idx]['code_epsg'].iloc[0]\n",
    "    ) for idx in range(len(gb)) \n",
    "]\n",
    "temp = pd.concat(\n",
    "    temp\n",
    ")\n",
    "temp = pd.concat(\n",
    "    [temp, etab_null], axis = 1\n",
    ")\n",
    "\n"
   ]
  },
  {
   "cell_type": "code",
   "execution_count": 135,
   "metadata": {},
   "outputs": [
    {
     "data": {
      "text/html": [
       "<div>\n",
       "<style scoped>\n",
       "    .dataframe tbody tr th:only-of-type {\n",
       "        vertical-align: middle;\n",
       "    }\n",
       "\n",
       "    .dataframe tbody tr th {\n",
       "        vertical-align: top;\n",
       "    }\n",
       "\n",
       "    .dataframe thead th {\n",
       "        text-align: right;\n",
       "    }\n",
       "</style>\n",
       "<table border=\"1\" class=\"dataframe\">\n",
       "  <thead>\n",
       "    <tr style=\"text-align: right;\">\n",
       "      <th></th>\n",
       "      <th>x</th>\n",
       "      <th>y</th>\n",
       "    </tr>\n",
       "  </thead>\n",
       "  <tbody>\n",
       "    <tr>\n",
       "      <th>11</th>\n",
       "      <td>5.645619</td>\n",
       "      <td>45.253497</td>\n",
       "    </tr>\n",
       "    <tr>\n",
       "      <th>12</th>\n",
       "      <td>5.137700</td>\n",
       "      <td>45.658263</td>\n",
       "    </tr>\n",
       "    <tr>\n",
       "      <th>13</th>\n",
       "      <td>-1.583039</td>\n",
       "      <td>47.190602</td>\n",
       "    </tr>\n",
       "    <tr>\n",
       "      <th>16</th>\n",
       "      <td>7.405579</td>\n",
       "      <td>47.775791</td>\n",
       "    </tr>\n",
       "    <tr>\n",
       "      <th>34</th>\n",
       "      <td>-3.964126</td>\n",
       "      <td>48.587616</td>\n",
       "    </tr>\n",
       "  </tbody>\n",
       "</table>\n",
       "</div>"
      ],
      "text/plain": [
       "           x          y\n",
       "11  5.645619  45.253497\n",
       "12  5.137700  45.658263\n",
       "13 -1.583039  47.190602\n",
       "16  7.405579  47.775791\n",
       "34 -3.964126  48.587616"
      ]
     },
     "execution_count": 135,
     "metadata": {},
     "output_type": "execute_result"
    }
   ],
   "source": [
    "temp[['x', \"y\"]].head()"
   ]
  },
  {
   "cell_type": "code",
   "execution_count": 136,
   "metadata": {},
   "outputs": [],
   "source": [
    "X = temp"
   ]
  },
  {
   "cell_type": "code",
   "execution_count": 137,
   "metadata": {},
   "outputs": [],
   "source": [
    "X_train, X_test = train_test_split(\n",
    "     X, test_size=0.20, random_state=42)"
   ]
  },
  {
   "cell_type": "code",
   "execution_count": 141,
   "metadata": {},
   "outputs": [
    {
     "data": {
      "text/plain": [
       "Index(['identifiant', 'nom_etablissement', 'numero_siret_true', 'adresse',\n",
       "       'code_postal', 'commune', 'departement', 'region', 'coordonnees_x',\n",
       "       'coordonnees_y', 'code_epsg', 'code_ape', 'libelle_ape', 'code_eprtr',\n",
       "       'libelle_eprtr', 'code_apet', 'geometry', 'x', 'y', 'identifiant',\n",
       "       'nom_etablissement', 'numero_siret_true', 'adresse', 'code_postal',\n",
       "       'commune', 'departement', 'region', 'coordonnees_x', 'coordonnees_y',\n",
       "       'code_epsg', 'code_ape', 'libelle_ape', 'code_eprtr', 'libelle_eprtr',\n",
       "       'code_apet'],\n",
       "      dtype='object')"
      ]
     },
     "execution_count": 141,
     "metadata": {},
     "output_type": "execute_result"
    }
   ],
   "source": [
    "X_train.columns"
   ]
  },
  {
   "cell_type": "code",
   "execution_count": 142,
   "metadata": {},
   "outputs": [],
   "source": [
    "requete_type = '''{{ \n",
    "  \"query\": {{\n",
    "    \"bool\": {{\n",
    "      \"should\": [\n",
    "        {{ \"match\": {{ \"rs_denom\":   \"{nom_etablissement}\" }}}},\n",
    "        {{ \"match\": {{ \"sir_adr_et_com_lib\": \"{commune}\" }}}}\n",
    "      ],\n",
    "      \"filter\": [\n",
    "        {{ \"match\":  {{ \"adr_et_post\": \"{code_postal}\" }}}},\n",
    "        {{ \"prefix\":  {{ \"apet\": \"{code_apet}\" }}}},\n",
    "        {{\"geo_distance\": {\n",
    "          \"distance\": \"10km\",\n",
    "          \"location\": {\n",
    "            \"lat\": \"{x}\",\n",
    "            \"lon\": \"{y}\"}}}}\n",
    "      ]\n",
    "    }}\n",
    "  }},\n",
    "  \"size\": 1\n",
    "}}'''"
   ]
  },
  {
   "cell_type": "code",
   "execution_count": 143,
   "metadata": {},
   "outputs": [
    {
     "data": {
      "text/plain": [
       "(8963, 16)"
      ]
     },
     "execution_count": 143,
     "metadata": {},
     "output_type": "execute_result"
    }
   ],
   "source": [
    "df.shape"
   ]
  },
  {
   "cell_type": "code",
   "execution_count": 144,
   "metadata": {},
   "outputs": [
    {
     "ename": "KeyError",
     "evalue": "'\\n          \"distance\"'",
     "output_type": "error",
     "traceback": [
      "\u001b[0;31m---------------------------------------------------------------------------\u001b[0m",
      "\u001b[0;31mKeyError\u001b[0m                                  Traceback (most recent call last)",
      "File \u001b[0;32m~/local/bin/conda/envs/basesspcloud/lib/python3.10/site-packages/pandas/core/indexes/base.py:3621\u001b[0m, in \u001b[0;36mIndex.get_loc\u001b[0;34m(self, key, method, tolerance)\u001b[0m\n\u001b[1;32m   <a href='file:///home/coder/local/bin/conda/envs/basesspcloud/lib/python3.10/site-packages/pandas/core/indexes/base.py?line=3619'>3620</a>\u001b[0m \u001b[39mtry\u001b[39;00m:\n\u001b[0;32m-> <a href='file:///home/coder/local/bin/conda/envs/basesspcloud/lib/python3.10/site-packages/pandas/core/indexes/base.py?line=3620'>3621</a>\u001b[0m     \u001b[39mreturn\u001b[39;00m \u001b[39mself\u001b[39;49m\u001b[39m.\u001b[39;49m_engine\u001b[39m.\u001b[39;49mget_loc(casted_key)\n\u001b[1;32m   <a href='file:///home/coder/local/bin/conda/envs/basesspcloud/lib/python3.10/site-packages/pandas/core/indexes/base.py?line=3621'>3622</a>\u001b[0m \u001b[39mexcept\u001b[39;00m \u001b[39mKeyError\u001b[39;00m \u001b[39mas\u001b[39;00m err:\n",
      "File \u001b[0;32m~/local/bin/conda/envs/basesspcloud/lib/python3.10/site-packages/pandas/_libs/index.pyx:136\u001b[0m, in \u001b[0;36mpandas._libs.index.IndexEngine.get_loc\u001b[0;34m()\u001b[0m\n",
      "File \u001b[0;32m~/local/bin/conda/envs/basesspcloud/lib/python3.10/site-packages/pandas/_libs/index.pyx:160\u001b[0m, in \u001b[0;36mpandas._libs.index.IndexEngine.get_loc\u001b[0;34m()\u001b[0m\n",
      "File \u001b[0;32m~/local/bin/conda/envs/basesspcloud/lib/python3.10/site-packages/pandas/_libs/index.pyx:201\u001b[0m, in \u001b[0;36mpandas._libs.index.IndexEngine._get_loc_duplicates\u001b[0;34m()\u001b[0m\n",
      "File \u001b[0;32m~/local/bin/conda/envs/basesspcloud/lib/python3.10/site-packages/pandas/_libs/index.pyx:209\u001b[0m, in \u001b[0;36mpandas._libs.index.IndexEngine._maybe_get_bool_indexer\u001b[0;34m()\u001b[0m\n",
      "File \u001b[0;32m~/local/bin/conda/envs/basesspcloud/lib/python3.10/site-packages/pandas/_libs/index.pyx:107\u001b[0m, in \u001b[0;36mpandas._libs.index._unpack_bool_indexer\u001b[0;34m()\u001b[0m\n",
      "\u001b[0;31mKeyError\u001b[0m: '\\n          \"distance\"'",
      "\nThe above exception was the direct cause of the following exception:\n",
      "\u001b[0;31mKeyError\u001b[0m                                  Traceback (most recent call last)",
      "\u001b[1;32m/home/coder/work/irep/notebooks/test_requete.ipynb Cell 16'\u001b[0m in \u001b[0;36m<cell line: 9>\u001b[0;34m()\u001b[0m\n\u001b[1;32m     <a href='vscode-notebook-cell://user-radjerad-814448-0.kub.sspcloud.fr/home/coder/work/irep/notebooks/test_requete.ipynb#ch0000004vscode-remote?line=10'>11</a>\u001b[0m multiple_requetes\u001b[39m+\u001b[39m\u001b[39m=\u001b[39m header\n\u001b[1;32m     <a href='vscode-notebook-cell://user-radjerad-814448-0.kub.sspcloud.fr/home/coder/work/irep/notebooks/test_requete.ipynb#ch0000004vscode-remote?line=11'>12</a>\u001b[0m multiple_requetes\u001b[39m+\u001b[39m\u001b[39m=\u001b[39m \u001b[39m'\u001b[39m\u001b[39m\\n\u001b[39;00m\u001b[39m'\u001b[39m\n\u001b[0;32m---> <a href='vscode-notebook-cell://user-radjerad-814448-0.kub.sspcloud.fr/home/coder/work/irep/notebooks/test_requete.ipynb#ch0000004vscode-remote?line=12'>13</a>\u001b[0m multiple_requetes\u001b[39m+\u001b[39m\u001b[39m=\u001b[39m requete_type\u001b[39m.\u001b[39;49mformat_map(row)\u001b[39m.\u001b[39mreplace(\u001b[39m\"\u001b[39m\u001b[39m\\n\u001b[39;00m\u001b[39m\"\u001b[39m,\u001b[39m\"\u001b[39m\u001b[39m\"\u001b[39m)\n\u001b[1;32m     <a href='vscode-notebook-cell://user-radjerad-814448-0.kub.sspcloud.fr/home/coder/work/irep/notebooks/test_requete.ipynb#ch0000004vscode-remote?line=13'>14</a>\u001b[0m multiple_requetes\u001b[39m+\u001b[39m\u001b[39m=\u001b[39m \u001b[39m'\u001b[39m\u001b[39m\\n\u001b[39;00m\u001b[39m'\u001b[39m\n",
      "File \u001b[0;32m~/local/bin/conda/envs/basesspcloud/lib/python3.10/site-packages/pandas/core/series.py:958\u001b[0m, in \u001b[0;36mSeries.__getitem__\u001b[0;34m(self, key)\u001b[0m\n\u001b[1;32m    <a href='file:///home/coder/local/bin/conda/envs/basesspcloud/lib/python3.10/site-packages/pandas/core/series.py?line=954'>955</a>\u001b[0m     \u001b[39mreturn\u001b[39;00m \u001b[39mself\u001b[39m\u001b[39m.\u001b[39m_values[key]\n\u001b[1;32m    <a href='file:///home/coder/local/bin/conda/envs/basesspcloud/lib/python3.10/site-packages/pandas/core/series.py?line=956'>957</a>\u001b[0m \u001b[39melif\u001b[39;00m key_is_scalar:\n\u001b[0;32m--> <a href='file:///home/coder/local/bin/conda/envs/basesspcloud/lib/python3.10/site-packages/pandas/core/series.py?line=957'>958</a>\u001b[0m     \u001b[39mreturn\u001b[39;00m \u001b[39mself\u001b[39;49m\u001b[39m.\u001b[39;49m_get_value(key)\n\u001b[1;32m    <a href='file:///home/coder/local/bin/conda/envs/basesspcloud/lib/python3.10/site-packages/pandas/core/series.py?line=959'>960</a>\u001b[0m \u001b[39mif\u001b[39;00m is_hashable(key):\n\u001b[1;32m    <a href='file:///home/coder/local/bin/conda/envs/basesspcloud/lib/python3.10/site-packages/pandas/core/series.py?line=960'>961</a>\u001b[0m     \u001b[39m# Otherwise index.get_value will raise InvalidIndexError\u001b[39;00m\n\u001b[1;32m    <a href='file:///home/coder/local/bin/conda/envs/basesspcloud/lib/python3.10/site-packages/pandas/core/series.py?line=961'>962</a>\u001b[0m     \u001b[39mtry\u001b[39;00m:\n\u001b[1;32m    <a href='file:///home/coder/local/bin/conda/envs/basesspcloud/lib/python3.10/site-packages/pandas/core/series.py?line=962'>963</a>\u001b[0m         \u001b[39m# For labels that don't resolve as scalars like tuples and frozensets\u001b[39;00m\n",
      "File \u001b[0;32m~/local/bin/conda/envs/basesspcloud/lib/python3.10/site-packages/pandas/core/series.py:1069\u001b[0m, in \u001b[0;36mSeries._get_value\u001b[0;34m(self, label, takeable)\u001b[0m\n\u001b[1;32m   <a href='file:///home/coder/local/bin/conda/envs/basesspcloud/lib/python3.10/site-packages/pandas/core/series.py?line=1065'>1066</a>\u001b[0m     \u001b[39mreturn\u001b[39;00m \u001b[39mself\u001b[39m\u001b[39m.\u001b[39m_values[label]\n\u001b[1;32m   <a href='file:///home/coder/local/bin/conda/envs/basesspcloud/lib/python3.10/site-packages/pandas/core/series.py?line=1067'>1068</a>\u001b[0m \u001b[39m# Similar to Index.get_value, but we do not fall back to positional\u001b[39;00m\n\u001b[0;32m-> <a href='file:///home/coder/local/bin/conda/envs/basesspcloud/lib/python3.10/site-packages/pandas/core/series.py?line=1068'>1069</a>\u001b[0m loc \u001b[39m=\u001b[39m \u001b[39mself\u001b[39;49m\u001b[39m.\u001b[39;49mindex\u001b[39m.\u001b[39;49mget_loc(label)\n\u001b[1;32m   <a href='file:///home/coder/local/bin/conda/envs/basesspcloud/lib/python3.10/site-packages/pandas/core/series.py?line=1069'>1070</a>\u001b[0m \u001b[39mreturn\u001b[39;00m \u001b[39mself\u001b[39m\u001b[39m.\u001b[39mindex\u001b[39m.\u001b[39m_get_values_for_loc(\u001b[39mself\u001b[39m, loc, label)\n",
      "File \u001b[0;32m~/local/bin/conda/envs/basesspcloud/lib/python3.10/site-packages/pandas/core/indexes/base.py:3623\u001b[0m, in \u001b[0;36mIndex.get_loc\u001b[0;34m(self, key, method, tolerance)\u001b[0m\n\u001b[1;32m   <a href='file:///home/coder/local/bin/conda/envs/basesspcloud/lib/python3.10/site-packages/pandas/core/indexes/base.py?line=3620'>3621</a>\u001b[0m     \u001b[39mreturn\u001b[39;00m \u001b[39mself\u001b[39m\u001b[39m.\u001b[39m_engine\u001b[39m.\u001b[39mget_loc(casted_key)\n\u001b[1;32m   <a href='file:///home/coder/local/bin/conda/envs/basesspcloud/lib/python3.10/site-packages/pandas/core/indexes/base.py?line=3621'>3622</a>\u001b[0m \u001b[39mexcept\u001b[39;00m \u001b[39mKeyError\u001b[39;00m \u001b[39mas\u001b[39;00m err:\n\u001b[0;32m-> <a href='file:///home/coder/local/bin/conda/envs/basesspcloud/lib/python3.10/site-packages/pandas/core/indexes/base.py?line=3622'>3623</a>\u001b[0m     \u001b[39mraise\u001b[39;00m \u001b[39mKeyError\u001b[39;00m(key) \u001b[39mfrom\u001b[39;00m \u001b[39merr\u001b[39;00m\n\u001b[1;32m   <a href='file:///home/coder/local/bin/conda/envs/basesspcloud/lib/python3.10/site-packages/pandas/core/indexes/base.py?line=3623'>3624</a>\u001b[0m \u001b[39mexcept\u001b[39;00m \u001b[39mTypeError\u001b[39;00m:\n\u001b[1;32m   <a href='file:///home/coder/local/bin/conda/envs/basesspcloud/lib/python3.10/site-packages/pandas/core/indexes/base.py?line=3624'>3625</a>\u001b[0m     \u001b[39m# If we have a listlike key, _check_indexing_error will raise\u001b[39;00m\n\u001b[1;32m   <a href='file:///home/coder/local/bin/conda/envs/basesspcloud/lib/python3.10/site-packages/pandas/core/indexes/base.py?line=3625'>3626</a>\u001b[0m     \u001b[39m#  InvalidIndexError. Otherwise we fall through and re-raise\u001b[39;00m\n\u001b[1;32m   <a href='file:///home/coder/local/bin/conda/envs/basesspcloud/lib/python3.10/site-packages/pandas/core/indexes/base.py?line=3626'>3627</a>\u001b[0m     \u001b[39m#  the TypeError.\u001b[39;00m\n\u001b[1;32m   <a href='file:///home/coder/local/bin/conda/envs/basesspcloud/lib/python3.10/site-packages/pandas/core/indexes/base.py?line=3627'>3628</a>\u001b[0m     \u001b[39mself\u001b[39m\u001b[39m.\u001b[39m_check_indexing_error(key)\n",
      "\u001b[0;31mKeyError\u001b[0m: '\\n          \"distance\"'"
     ]
    }
   ],
   "source": [
    "# Il est nécessaire de spécifier l'index associé à chaque requête\n",
    "header = '{\"index\" : \"sirus_2020\"}'\n",
    "\n",
    "multiple_requetes = \"\"\n",
    "\n",
    "# On itère sur le dataframe d'établissements polluants pour ajouter une requête spécifique à chacun d'entre eux\n",
    "n_etab = X_train.shape[0] # Pour l'exemple, on prend les 10 premiers\n",
    "\n",
    "for index, row in X_train.iloc[0:n_etab][['nom_etablissement', 'commune', 'code_postal', 'code_apet', 'x', 'y']].iterrows():\n",
    "    \n",
    "    multiple_requetes+= header\n",
    "    multiple_requetes+= '\\n'\n",
    "    multiple_requetes+= requete_type.format_map(row).replace(\"\\n\",\"\")\n",
    "    multiple_requetes+= '\\n'"
   ]
  },
  {
   "cell_type": "code",
   "execution_count": 115,
   "metadata": {},
   "outputs": [
    {
     "name": "stderr",
     "output_type": "stream",
     "text": [
      "/home/coder/local/bin/conda/envs/basesspcloud/lib/python3.10/site-packages/elasticsearch/connection/base.py:200: ElasticsearchWarning: Elasticsearch built-in security features are not enabled. Without authentication, your cluster could be accessible to anyone. See https://www.elastic.co/guide/en/elasticsearch/reference/7.17/security-minimal-setup.html to enable security.\n",
      "  warnings.warn(message, category=ElasticsearchWarning)\n"
     ]
    }
   ],
   "source": [
    "res = es.msearch(body = multiple_requetes)"
   ]
  },
  {
   "cell_type": "code",
   "execution_count": 116,
   "metadata": {},
   "outputs": [
    {
     "data": {
      "text/plain": [
       "7170"
      ]
     },
     "execution_count": 116,
     "metadata": {},
     "output_type": "execute_result"
    }
   ],
   "source": [
    "len(res['responses'])"
   ]
  },
  {
   "cell_type": "code",
   "execution_count": 117,
   "metadata": {},
   "outputs": [],
   "source": [
    "X_train[\"siret_elastic\"] = [res['responses'][i]['hits']['hits'][0][\"_source\"][\"siret_id\"] if \\\n",
    "    res['responses'][i]['hits']['hits'] else np.NaN for i in range(X_train.shape[0]) ]"
   ]
  },
  {
   "cell_type": "code",
   "execution_count": 118,
   "metadata": {},
   "outputs": [
    {
     "data": {
      "text/html": [
       "<div>\n",
       "<style scoped>\n",
       "    .dataframe tbody tr th:only-of-type {\n",
       "        vertical-align: middle;\n",
       "    }\n",
       "\n",
       "    .dataframe tbody tr th {\n",
       "        vertical-align: top;\n",
       "    }\n",
       "\n",
       "    .dataframe thead th {\n",
       "        text-align: right;\n",
       "    }\n",
       "</style>\n",
       "<table border=\"1\" class=\"dataframe\">\n",
       "  <thead>\n",
       "    <tr style=\"text-align: right;\">\n",
       "      <th></th>\n",
       "      <th>siret_elastic</th>\n",
       "      <th>numero_siret_true</th>\n",
       "    </tr>\n",
       "  </thead>\n",
       "  <tbody>\n",
       "    <tr>\n",
       "      <th>543</th>\n",
       "      <td>31650260800029</td>\n",
       "      <td>30957502500031</td>\n",
       "    </tr>\n",
       "    <tr>\n",
       "      <th>2133</th>\n",
       "      <td>38972750400026</td>\n",
       "      <td>38972750400018</td>\n",
       "    </tr>\n",
       "    <tr>\n",
       "      <th>2683</th>\n",
       "      <td>NaN</td>\n",
       "      <td>31446627700048</td>\n",
       "    </tr>\n",
       "    <tr>\n",
       "      <th>5473</th>\n",
       "      <td>NaN</td>\n",
       "      <td>45236852500013</td>\n",
       "    </tr>\n",
       "    <tr>\n",
       "      <th>4793</th>\n",
       "      <td>31732564500024</td>\n",
       "      <td>31732564500024</td>\n",
       "    </tr>\n",
       "    <tr>\n",
       "      <th>5824</th>\n",
       "      <td>37844298200021</td>\n",
       "      <td>37844298200021</td>\n",
       "    </tr>\n",
       "    <tr>\n",
       "      <th>5581</th>\n",
       "      <td>NaN</td>\n",
       "      <td>30582329600077</td>\n",
       "    </tr>\n",
       "    <tr>\n",
       "      <th>3298</th>\n",
       "      <td>32127621400012</td>\n",
       "      <td>32127621400012</td>\n",
       "    </tr>\n",
       "    <tr>\n",
       "      <th>8268</th>\n",
       "      <td>24670048800017</td>\n",
       "      <td>21670482500019</td>\n",
       "    </tr>\n",
       "    <tr>\n",
       "      <th>8525</th>\n",
       "      <td>37941102800044</td>\n",
       "      <td>37941102800044</td>\n",
       "    </tr>\n",
       "    <tr>\n",
       "      <th>7373</th>\n",
       "      <td>78898818600011</td>\n",
       "      <td>78898818600011</td>\n",
       "    </tr>\n",
       "    <tr>\n",
       "      <th>4046</th>\n",
       "      <td>54207132900024</td>\n",
       "      <td>54207132900024</td>\n",
       "    </tr>\n",
       "    <tr>\n",
       "      <th>5744</th>\n",
       "      <td>31411950400186</td>\n",
       "      <td>31411950400186</td>\n",
       "    </tr>\n",
       "    <tr>\n",
       "      <th>800</th>\n",
       "      <td>49955693400028</td>\n",
       "      <td>49955693400028</td>\n",
       "    </tr>\n",
       "    <tr>\n",
       "      <th>4085</th>\n",
       "      <td>55204695504375</td>\n",
       "      <td>55204695502411</td>\n",
       "    </tr>\n",
       "    <tr>\n",
       "      <th>1405</th>\n",
       "      <td>NaN</td>\n",
       "      <td>80231910300031</td>\n",
       "    </tr>\n",
       "    <tr>\n",
       "      <th>56</th>\n",
       "      <td>25280334100137</td>\n",
       "      <td>25280334100137</td>\n",
       "    </tr>\n",
       "    <tr>\n",
       "      <th>69</th>\n",
       "      <td>13001018400211</td>\n",
       "      <td>20006677700018</td>\n",
       "    </tr>\n",
       "    <tr>\n",
       "      <th>4582</th>\n",
       "      <td>78162005900035</td>\n",
       "      <td>78162005900035</td>\n",
       "    </tr>\n",
       "    <tr>\n",
       "      <th>711</th>\n",
       "      <td>NaN</td>\n",
       "      <td>70980607900022</td>\n",
       "    </tr>\n",
       "  </tbody>\n",
       "</table>\n",
       "</div>"
      ],
      "text/plain": [
       "       siret_elastic numero_siret_true\n",
       "543   31650260800029    30957502500031\n",
       "2133  38972750400026    38972750400018\n",
       "2683             NaN    31446627700048\n",
       "5473             NaN    45236852500013\n",
       "4793  31732564500024    31732564500024\n",
       "5824  37844298200021    37844298200021\n",
       "5581             NaN    30582329600077\n",
       "3298  32127621400012    32127621400012\n",
       "8268  24670048800017    21670482500019\n",
       "8525  37941102800044    37941102800044\n",
       "7373  78898818600011    78898818600011\n",
       "4046  54207132900024    54207132900024\n",
       "5744  31411950400186    31411950400186\n",
       "800   49955693400028    49955693400028\n",
       "4085  55204695504375    55204695502411\n",
       "1405             NaN    80231910300031\n",
       "56    25280334100137    25280334100137\n",
       "69    13001018400211    20006677700018\n",
       "4582  78162005900035    78162005900035\n",
       "711              NaN    70980607900022"
      ]
     },
     "execution_count": 118,
     "metadata": {},
     "output_type": "execute_result"
    }
   ],
   "source": [
    "X_train[[\"siret_elastic\", \"numero_siret_true\"]].head(20)"
   ]
  },
  {
   "cell_type": "code",
   "execution_count": 119,
   "metadata": {},
   "outputs": [],
   "source": [
    "X_train[\"match\"] = (X_train[\"numero_siret_true\"] == X_train[\"siret_elastic\"])"
   ]
  },
  {
   "cell_type": "code",
   "execution_count": 120,
   "metadata": {},
   "outputs": [
    {
     "data": {
      "text/plain": [
       "True     0.505718\n",
       "False    0.494282\n",
       "Name: match, dtype: float64"
      ]
     },
     "execution_count": 120,
     "metadata": {},
     "output_type": "execute_result"
    }
   ],
   "source": [
    "X_train[\"match\"].value_counts()/X_train.shape[0]"
   ]
  },
  {
   "cell_type": "code",
   "execution_count": null,
   "metadata": {},
   "outputs": [],
   "source": []
  }
 ],
 "metadata": {
  "interpreter": {
   "hash": "ed5946f2a0d3f5e934efd92075c2a89b2cb5130d0efd6e4509a568bedf48ed26"
  },
  "kernelspec": {
   "display_name": "Python 3.10.4 ('basesspcloud')",
   "language": "python",
   "name": "python3"
  },
  "language_info": {
   "codemirror_mode": {
    "name": "ipython",
    "version": 3
   },
   "file_extension": ".py",
   "mimetype": "text/x-python",
   "name": "python",
   "nbconvert_exporter": "python",
   "pygments_lexer": "ipython3",
   "version": "3.10.4"
  },
  "orig_nbformat": 4
 },
 "nbformat": 4,
 "nbformat_minor": 2
}
