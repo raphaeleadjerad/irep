{
 "cells": [
  {
   "cell_type": "code",
   "execution_count": 2,
   "metadata": {},
   "outputs": [],
   "source": [
    "from elasticsearch import Elasticsearch\n",
    "HOST = 'elasticsearch-master.projet-ssplab'\n",
    "\n",
    "def elastic():\n",
    "    \"\"\"Connection avec Elastic sur le data lab\"\"\"\n",
    "    es = Elasticsearch([{'host': HOST, 'port': 9200, 'scheme': 'http'}], http_compress=True, request_timeout=200)\n",
    "    return es\n",
    "\n",
    "es = elastic()"
   ]
  },
  {
   "cell_type": "code",
   "execution_count": 3,
   "metadata": {},
   "outputs": [
    {
     "data": {
      "text/plain": [
       "dict_keys(['rejets', 'etablissements', 'emissions', 'Trait_dechets_non_dangereux', 'Trait_dechets_dangereux', 'Prod_dechets_non_dangereux', 'Prod_dechets_dangereux', 'Prelevements'])"
      ]
     },
     "execution_count": 3,
     "metadata": {},
     "output_type": "execute_result"
    }
   ],
   "source": [
    "# Importation des bases\n",
    "import functions as fc\n",
    "dict_data = fc.read_all_raw(fc.list_bases)\n",
    "dict_data.keys()"
   ]
  },
  {
   "cell_type": "code",
   "execution_count": 23,
   "metadata": {},
   "outputs": [],
   "source": [
    "df = dict_data[\"etablissements\"]\n",
    "df = df.rename({'numero_siret': \"numero_siret_true\"}, axis = 1)"
   ]
  },
  {
   "cell_type": "code",
   "execution_count": 25,
   "metadata": {},
   "outputs": [
    {
     "data": {
      "text/plain": [
       "0                                  Plaine Saint Pierre\n",
       "1                                 17 avenue de l'adour\n",
       "2                                      1 route de lens\n",
       "3                                               BP 104\n",
       "4    Boulevard Dunant (entrée par Allée des Grands ...\n",
       "Name: adresse, dtype: object"
      ]
     },
     "execution_count": 25,
     "metadata": {},
     "output_type": "execute_result"
    }
   ],
   "source": [
    "df[\"adresse\"].head()"
   ]
  },
  {
   "cell_type": "code",
   "execution_count": 5,
   "metadata": {},
   "outputs": [],
   "source": [
    "\n",
    "requete_type = '''{{ \n",
    "  \"query\": {{\n",
    "    \"bool\": {{\n",
    "      \"should\": [\n",
    "        {{ \"match\": {{ \"rs_denom\":   \"{nom_etablissement}\" }}}},\n",
    "        {{ \"match\": {{ \"geo_adresse\": \"{adresse}\" }}}},\n",
    "        {{ \"match\": {{ \"sir_adr_et_com_lib\": \"{commune}\" }}}}\n",
    "      ],\n",
    "      \"minimum_should_match\": 2,\n",
    "      \"filter\": [\n",
    "        {{ \"match\":  {{ \"adr_et_post\": \"{code_postal}\" }}}}\n",
    "      ]\n",
    "    }}\n",
    "  }},\n",
    "  \"size\": 1\n",
    "}}'''"
   ]
  },
  {
   "cell_type": "code",
   "execution_count": 31,
   "metadata": {},
   "outputs": [
    {
     "data": {
      "text/plain": [
       "0    3700\n",
       "1    3700\n",
       "2    3700\n",
       "3    3700\n",
       "4    3700\n",
       "Name: code_apet, dtype: object"
      ]
     },
     "execution_count": 31,
     "metadata": {},
     "output_type": "execute_result"
    }
   ],
   "source": [
    "df[\"code_apet\"] = df[\"code_ape\"].str[:4]\n",
    "df[\"code_apet\"].head()"
   ]
  },
  {
   "cell_type": "code",
   "execution_count": 32,
   "metadata": {},
   "outputs": [],
   "source": [
    "requete_type = '''{{ \n",
    "  \"query\": {{\n",
    "    \"bool\": {{\n",
    "      \"should\": [\n",
    "        {{ \"match\": {{ \"rs_denom\":   \"{nom_etablissement}\" }}}}\n",
    "      ],\n",
    "      \"filter\": [\n",
    "        {{ \"match\":  {{ \"adr_et_post\": \"{code_postal}\" }}}},\n",
    "        {{ \"prefix\":  {{ \"apet\": \"{code_apet}\" }}}}\n",
    "      ]\n",
    "    }}\n",
    "  }},\n",
    "  \"size\": 1\n",
    "}}'''"
   ]
  },
  {
   "cell_type": "code",
   "execution_count": 18,
   "metadata": {},
   "outputs": [
    {
     "data": {
      "text/plain": [
       "(8963, 15)"
      ]
     },
     "execution_count": 18,
     "metadata": {},
     "output_type": "execute_result"
    }
   ],
   "source": [
    "df.shape"
   ]
  },
  {
   "cell_type": "code",
   "execution_count": 22,
   "metadata": {},
   "outputs": [
    {
     "data": {
      "text/plain": [
       "0"
      ]
     },
     "execution_count": 22,
     "metadata": {},
     "output_type": "execute_result"
    }
   ],
   "source": [
    "df[\"adresse\"].isna().sum()"
   ]
  },
  {
   "cell_type": "code",
   "execution_count": null,
   "metadata": {},
   "outputs": [],
   "source": [
    "df[\"code_postal\"]"
   ]
  },
  {
   "cell_type": "code",
   "execution_count": 34,
   "metadata": {},
   "outputs": [],
   "source": [
    "# Il est nécessaire de spécifier l'index associé à chaque requête\n",
    "header = '{\"index\" : \"sirus_2020\"}'\n",
    "\n",
    "multiple_requetes = \"\"\n",
    "\n",
    "# On itère sur le dataframe d'établissements polluants pour ajouter une requête spécifique à chacun d'entre eux\n",
    "n_etab = df.shape[0] # Pour l'exemple, on prend les 10 premiers\n",
    "\n",
    "for index, row in df.iloc[0:n_etab][['nom_etablissement',  'code_postal', 'code_apet']].iterrows():\n",
    "    \n",
    "    multiple_requetes+= header\n",
    "    multiple_requetes+= '\\n'\n",
    "    multiple_requetes+= requete_type.format_map(row).replace(\"\\n\",\"\")\n",
    "    multiple_requetes+= '\\n'"
   ]
  },
  {
   "cell_type": "code",
   "execution_count": 35,
   "metadata": {},
   "outputs": [
    {
     "name": "stderr",
     "output_type": "stream",
     "text": [
      "/home/coder/local/bin/conda/envs/basesspcloud/lib/python3.10/site-packages/elasticsearch/connection/base.py:200: ElasticsearchWarning: Elasticsearch built-in security features are not enabled. Without authentication, your cluster could be accessible to anyone. See https://www.elastic.co/guide/en/elasticsearch/reference/7.17/security-minimal-setup.html to enable security.\n",
      "  warnings.warn(message, category=ElasticsearchWarning)\n"
     ]
    }
   ],
   "source": [
    "res = es.msearch(body = multiple_requetes)"
   ]
  },
  {
   "cell_type": "code",
   "execution_count": 36,
   "metadata": {},
   "outputs": [
    {
     "data": {
      "text/plain": [
       "[{'_index': 'sirus_2020_e_3_ngr_bool',\n",
       "  '_type': '_doc',\n",
       "  '_id': '24340076900044',\n",
       "  '_score': 1.0,\n",
       "  '_source': {'sirus_id': '243400769',\n",
       "   'nic': '00044',\n",
       "   'ape': '8411Z',\n",
       "   'apet': '3700Z',\n",
       "   'eff_3112_et': '17.0',\n",
       "   'eff_etp_et': '15.0',\n",
       "   'eff_et_effet_daaaammjj': '20181231',\n",
       "   'enseigne_et1': 'SERVICE ASSAINISSEMENT',\n",
       "   'nom_comm_et': '',\n",
       "   'adr_et_loc_geo': '3403202144',\n",
       "   'adr_et_compl': 'QUAI OUEST',\n",
       "   'adr_et_voie_num': '39',\n",
       "   'adr_et_voie_repet': '',\n",
       "   'adr_et_voie_type': 'BD',\n",
       "   'adr_et_voie_lib': 'DE VERDUN',\n",
       "   'adr_et_cedex': '',\n",
       "   'adr_et_distsp': '',\n",
       "   'sir_adr_et_com_lib': 'BEZIERS',\n",
       "   'adr_et_post': '34500',\n",
       "   'adr_et_l1': 'COMMUNAUTE AGGLO BEZIERS MEDITERRANEE',\n",
       "   'adr_et_l2': 'SERVICE ASSAINISSEMENT',\n",
       "   'adr_et_l3': 'QUAI OUEST',\n",
       "   'adr_et_l4': '39 BD DE VERDUN',\n",
       "   'adr_et_l5': '',\n",
       "   'adr_et_l6': '34500 BEZIERS',\n",
       "   'adr_et_l7': '',\n",
       "   'nic_siege': '00093',\n",
       "   'unite_type': '1',\n",
       "   'region': '76',\n",
       "   'adr_depcom': '34032',\n",
       "   'region_impl': '76',\n",
       "   'region_mult': 'QASI',\n",
       "   'tr_eff_etp': '41',\n",
       "   'cj': '7348',\n",
       "   'denom': 'COMMUNAUTE D AGGLOMERATION BEZIERS MEDITERRANEE',\n",
       "   'denom_condense': 'COMMUNAUTE AGGLO BEZIERS MEDITERRANEE',\n",
       "   'sigle': 'CABM',\n",
       "   'enseigne': '',\n",
       "   'eff_3112_unitelegale': '578.0',\n",
       "   'eff_etp_unitelegale': '527.0',\n",
       "   'eff_effet_daaaammjj_unitelegale': '20181231',\n",
       "   'siret_id': '24340076900044',\n",
       "   'siret': '24340076900044',\n",
       "   'longitude': '3.225023',\n",
       "   'latitude': '43.336234',\n",
       "   'geo_score': '0.97',\n",
       "   'geo_type': 'housenumber',\n",
       "   'geo_adresse': '39 Boulevard de Verdun 34500 Béziers',\n",
       "   'location': '43.336234, 3.225023'}}]"
      ]
     },
     "execution_count": 36,
     "metadata": {},
     "output_type": "execute_result"
    }
   ],
   "source": [
    "res['responses'][0]['hits']['hits']"
   ]
  },
  {
   "cell_type": "code",
   "execution_count": 9,
   "metadata": {},
   "outputs": [
    {
     "data": {
      "text/plain": [
       "'81162101000024'"
      ]
     },
     "execution_count": 9,
     "metadata": {},
     "output_type": "execute_result"
    }
   ],
   "source": [
    "# on rappatrie les siret trouvés \n",
    "res['responses'][0]['hits']['hits'][0][\"_source\"][\"siret_id\"]"
   ]
  },
  {
   "cell_type": "code",
   "execution_count": 37,
   "metadata": {},
   "outputs": [
    {
     "data": {
      "text/plain": [
       "8963"
      ]
     },
     "execution_count": 37,
     "metadata": {},
     "output_type": "execute_result"
    }
   ],
   "source": [
    "len(res['responses'])"
   ]
  },
  {
   "cell_type": "code",
   "execution_count": 38,
   "metadata": {},
   "outputs": [],
   "source": [
    "df[\"siret_elastic\"] = [res['responses'][i]['hits']['hits'][0][\"_source\"][\"siret_id\"] if res['responses'][i]['hits']['hits'] else np.NaN for i in range(df.shape[0]) ]"
   ]
  },
  {
   "cell_type": "code",
   "execution_count": 41,
   "metadata": {},
   "outputs": [
    {
     "data": {
      "text/html": [
       "<div>\n",
       "<style scoped>\n",
       "    .dataframe tbody tr th:only-of-type {\n",
       "        vertical-align: middle;\n",
       "    }\n",
       "\n",
       "    .dataframe tbody tr th {\n",
       "        vertical-align: top;\n",
       "    }\n",
       "\n",
       "    .dataframe thead th {\n",
       "        text-align: right;\n",
       "    }\n",
       "</style>\n",
       "<table border=\"1\" class=\"dataframe\">\n",
       "  <thead>\n",
       "    <tr style=\"text-align: right;\">\n",
       "      <th></th>\n",
       "      <th>siret_elastic</th>\n",
       "      <th>numero_siret_true</th>\n",
       "    </tr>\n",
       "  </thead>\n",
       "  <tbody>\n",
       "    <tr>\n",
       "      <th>0</th>\n",
       "      <td>24340076900044</td>\n",
       "      <td>41003460701688</td>\n",
       "    </tr>\n",
       "    <tr>\n",
       "      <th>1</th>\n",
       "      <td>NaN</td>\n",
       "      <td>20006710600241</td>\n",
       "    </tr>\n",
       "    <tr>\n",
       "      <th>2</th>\n",
       "      <td>21620523700086</td>\n",
       "      <td>57202552600813</td>\n",
       "    </tr>\n",
       "    <tr>\n",
       "      <th>3</th>\n",
       "      <td>NaN</td>\n",
       "      <td>25755000400044</td>\n",
       "    </tr>\n",
       "    <tr>\n",
       "      <th>4</th>\n",
       "      <td>20006905200070</td>\n",
       "      <td>20006905200070</td>\n",
       "    </tr>\n",
       "    <tr>\n",
       "      <th>5</th>\n",
       "      <td>NaN</td>\n",
       "      <td>57202552601142</td>\n",
       "    </tr>\n",
       "    <tr>\n",
       "      <th>6</th>\n",
       "      <td>20006755100156</td>\n",
       "      <td>25740097800017</td>\n",
       "    </tr>\n",
       "    <tr>\n",
       "      <th>7</th>\n",
       "      <td>NaN</td>\n",
       "      <td>85069047000016</td>\n",
       "    </tr>\n",
       "    <tr>\n",
       "      <th>8</th>\n",
       "      <td>50424344500013</td>\n",
       "      <td>24440064400039</td>\n",
       "    </tr>\n",
       "    <tr>\n",
       "      <th>9</th>\n",
       "      <td>30821885800170</td>\n",
       "      <td>20006925000021</td>\n",
       "    </tr>\n",
       "    <tr>\n",
       "      <th>10</th>\n",
       "      <td>69980426600707</td>\n",
       "      <td>24590041000011</td>\n",
       "    </tr>\n",
       "    <tr>\n",
       "      <th>11</th>\n",
       "      <td>21380170700075</td>\n",
       "      <td>20004071500019</td>\n",
       "    </tr>\n",
       "    <tr>\n",
       "      <th>12</th>\n",
       "      <td>31573284200242</td>\n",
       "      <td>30978871900057</td>\n",
       "    </tr>\n",
       "    <tr>\n",
       "      <th>13</th>\n",
       "      <td>NaN</td>\n",
       "      <td>50961196800017</td>\n",
       "    </tr>\n",
       "    <tr>\n",
       "      <th>14</th>\n",
       "      <td>25755000400085</td>\n",
       "      <td>25755000400085</td>\n",
       "    </tr>\n",
       "    <tr>\n",
       "      <th>15</th>\n",
       "      <td>NaN</td>\n",
       "      <td>55208131734074</td>\n",
       "    </tr>\n",
       "    <tr>\n",
       "      <th>16</th>\n",
       "      <td>NaN</td>\n",
       "      <td>57202552611174</td>\n",
       "    </tr>\n",
       "    <tr>\n",
       "      <th>17</th>\n",
       "      <td>NaN</td>\n",
       "      <td>41003460700938</td>\n",
       "    </tr>\n",
       "    <tr>\n",
       "      <th>18</th>\n",
       "      <td>42083039000019</td>\n",
       "      <td>24830054300183</td>\n",
       "    </tr>\n",
       "    <tr>\n",
       "      <th>19</th>\n",
       "      <td>24740001300030</td>\n",
       "      <td>24740001300048</td>\n",
       "    </tr>\n",
       "  </tbody>\n",
       "</table>\n",
       "</div>"
      ],
      "text/plain": [
       "     siret_elastic  numero_siret_true\n",
       "0   24340076900044     41003460701688\n",
       "1              NaN     20006710600241\n",
       "2   21620523700086     57202552600813\n",
       "3              NaN     25755000400044\n",
       "4   20006905200070     20006905200070\n",
       "5              NaN     57202552601142\n",
       "6   20006755100156     25740097800017\n",
       "7              NaN     85069047000016\n",
       "8   50424344500013     24440064400039\n",
       "9   30821885800170     20006925000021\n",
       "10  69980426600707     24590041000011\n",
       "11  21380170700075     20004071500019\n",
       "12  31573284200242     30978871900057\n",
       "13             NaN     50961196800017\n",
       "14  25755000400085     25755000400085\n",
       "15             NaN     55208131734074\n",
       "16             NaN     57202552611174\n",
       "17             NaN     41003460700938\n",
       "18  42083039000019     24830054300183\n",
       "19  24740001300030     24740001300048"
      ]
     },
     "execution_count": 41,
     "metadata": {},
     "output_type": "execute_result"
    }
   ],
   "source": [
    "df[[\"siret_elastic\", \"numero_siret_true\"]].head(20)"
   ]
  },
  {
   "cell_type": "code",
   "execution_count": 47,
   "metadata": {},
   "outputs": [
    {
     "data": {
      "text/plain": [
       "siret_elastic        object\n",
       "numero_siret_true    object\n",
       "dtype: object"
      ]
     },
     "execution_count": 47,
     "metadata": {},
     "output_type": "execute_result"
    }
   ],
   "source": [
    "df[[\"siret_elastic\", \"numero_siret_true\"]].dtypes"
   ]
  },
  {
   "cell_type": "code",
   "execution_count": 46,
   "metadata": {},
   "outputs": [],
   "source": [
    "df[\"numero_siret_true\"] = df[\"numero_siret_true\"].astype(str)"
   ]
  },
  {
   "cell_type": "code",
   "execution_count": 48,
   "metadata": {},
   "outputs": [],
   "source": [
    "df[\"match\"] = (df[\"numero_siret_true\"] == df[\"siret_elastic\"])"
   ]
  },
  {
   "cell_type": "code",
   "execution_count": 49,
   "metadata": {},
   "outputs": [
    {
     "data": {
      "text/plain": [
       "False    4533\n",
       "True     4430\n",
       "Name: match, dtype: int64"
      ]
     },
     "execution_count": 49,
     "metadata": {},
     "output_type": "execute_result"
    }
   ],
   "source": [
    "df[\"match\"].value_counts()"
   ]
  },
  {
   "cell_type": "code",
   "execution_count": null,
   "metadata": {},
   "outputs": [],
   "source": []
  }
 ],
 "metadata": {
  "interpreter": {
   "hash": "ed5946f2a0d3f5e934efd92075c2a89b2cb5130d0efd6e4509a568bedf48ed26"
  },
  "kernelspec": {
   "display_name": "Python 3.10.4 ('basesspcloud')",
   "language": "python",
   "name": "python3"
  },
  "language_info": {
   "codemirror_mode": {
    "name": "ipython",
    "version": 3
   },
   "file_extension": ".py",
   "mimetype": "text/x-python",
   "name": "python",
   "nbconvert_exporter": "python",
   "pygments_lexer": "ipython3",
   "version": "3.10.4"
  },
  "orig_nbformat": 4
 },
 "nbformat": 4,
 "nbformat_minor": 2
}
