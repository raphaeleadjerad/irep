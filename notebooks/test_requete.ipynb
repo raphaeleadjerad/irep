{
 "cells": [
  {
   "cell_type": "code",
   "execution_count": 1,
   "metadata": {},
   "outputs": [],
   "source": [
    "from elasticsearch import Elasticsearch\n",
    "HOST = 'elasticsearch-master.projet-ssplab'\n",
    "\n",
    "def elastic():\n",
    "    \"\"\"Connection avec Elastic sur le data lab\"\"\"\n",
    "    es = Elasticsearch([{'host': HOST, 'port': 9200, 'scheme': 'http'}], http_compress=True, request_timeout=200)\n",
    "    return es\n",
    "\n",
    "es = elastic()"
   ]
  },
  {
   "cell_type": "code",
   "execution_count": 2,
   "metadata": {},
   "outputs": [
    {
     "data": {
      "text/plain": [
       "dict_keys(['rejets', 'etablissements', 'emissions', 'Trait_dechets_non_dangereux', 'Trait_dechets_dangereux', 'Prod_dechets_non_dangereux', 'Prod_dechets_dangereux', 'Prelevements'])"
      ]
     },
     "execution_count": 2,
     "metadata": {},
     "output_type": "execute_result"
    }
   ],
   "source": [
    "# Importation des bases\n",
    "import functions as fc\n",
    "dict_data = fc.read_all_raw(fc.list_bases)\n",
    "dict_data.keys()"
   ]
  },
  {
   "cell_type": "code",
   "execution_count": 3,
   "metadata": {},
   "outputs": [],
   "source": [
    "df = dict_data[\"etablissements\"]\n",
    "df = df.rename({'numero_siret': \"numero_siret_true\"}, axis = 1)"
   ]
  },
  {
   "cell_type": "code",
   "execution_count": 6,
   "metadata": {},
   "outputs": [],
   "source": [
    "\n",
    "requete_type = '''{{ \n",
    "  \"query\": {{\n",
    "    \"bool\": {{\n",
    "      \"should\": [\n",
    "        {{ \"match\": {{ \"rs_denom\":   \"{nom_etablissement}\" }}}},\n",
    "        {{ \"match\": {{ \"geo_adresse\": \"{adresse}\" }}}},\n",
    "        {{ \"match\": {{ \"sir_adr_et_com_lib\": \"{commune}\" }}}}\n",
    "      ],\n",
    "      \"minimum_should_match\": 2,\n",
    "      \"filter\": [\n",
    "        {{ \"match\":  {{ \"adr_et_post\": \"{code_postal}\" }}}}\n",
    "      ]\n",
    "    }}\n",
    "  }},\n",
    "  \"size\": 1\n",
    "}}'''"
   ]
  },
  {
   "cell_type": "code",
   "execution_count": 7,
   "metadata": {},
   "outputs": [],
   "source": [
    "# Il est nécessaire de spécifier l'index associé à chaque requête\n",
    "header = '{\"index\" : \"sirus_2020\"}'\n",
    "\n",
    "multiple_requetes = \"\"\n",
    "\n",
    "# On itère sur le dataframe d'établissements polluants pour ajouter une requête spécifique à chacun d'entre eux\n",
    "n_etab = 10 # Pour l'exemple, on prend les 10 premiers\n",
    "\n",
    "for index, row in df.iloc[0:n_etab][['nom_etablissement', 'adresse', 'code_postal', 'commune']].iterrows():\n",
    "    \n",
    "    multiple_requetes+= header\n",
    "    multiple_requetes+= '\\n'\n",
    "    multiple_requetes+= requete_type.format_map(row).replace(\"\\n\",\"\")\n",
    "    multiple_requetes+= '\\n'"
   ]
  },
  {
   "cell_type": "code",
   "execution_count": 8,
   "metadata": {},
   "outputs": [
    {
     "name": "stderr",
     "output_type": "stream",
     "text": [
      "/home/coder/local/bin/conda/envs/basesspcloud/lib/python3.10/site-packages/elasticsearch/connection/base.py:200: ElasticsearchWarning: Elasticsearch built-in security features are not enabled. Without authentication, your cluster could be accessible to anyone. See https://www.elastic.co/guide/en/elasticsearch/reference/7.17/security-minimal-setup.html to enable security.\n",
      "  warnings.warn(message, category=ElasticsearchWarning)\n"
     ]
    }
   ],
   "source": [
    "res = es.msearch(body = multiple_requetes)"
   ]
  },
  {
   "cell_type": "code",
   "execution_count": 18,
   "metadata": {},
   "outputs": [
    {
     "data": {
      "text/plain": [
       "[{'_index': 'sirus_2020_e_3_ngr_bool',\n",
       "  '_type': '_doc',\n",
       "  '_id': '81162101000024',\n",
       "  '_score': 5.0,\n",
       "  '_source': {'sirus_id': '811621010',\n",
       "   'nic': '00024',\n",
       "   'ape': '8010Z',\n",
       "   'apet': '8010Z',\n",
       "   'eff_3112_et': '3.0',\n",
       "   'eff_etp_et': '2.0',\n",
       "   'eff_et_effet_daaaammjj': '20181231',\n",
       "   'enseigne_et1': '',\n",
       "   'nom_comm_et': '',\n",
       "   'adr_et_loc_geo': '3403200276',\n",
       "   'adr_et_compl': '',\n",
       "   'adr_et_voie_num': '15',\n",
       "   'adr_et_voie_repet': '',\n",
       "   'adr_et_voie_type': '',\n",
       "   'adr_et_voie_lib': 'PLAINE SAINT PIERRE',\n",
       "   'adr_et_cedex': '',\n",
       "   'adr_et_distsp': '',\n",
       "   'sir_adr_et_com_lib': 'BEZIERS',\n",
       "   'adr_et_post': '34500',\n",
       "   'adr_et_l1': 'ALTEA SECURITE BEZIERS',\n",
       "   'adr_et_l2': '',\n",
       "   'adr_et_l3': '',\n",
       "   'adr_et_l4': '15 PLAINE SAINT PIERRE',\n",
       "   'adr_et_l5': '',\n",
       "   'adr_et_l6': '34500 BEZIERS',\n",
       "   'adr_et_l7': '',\n",
       "   'nic_siege': '00024',\n",
       "   'unite_type': '1',\n",
       "   'region': '76',\n",
       "   'adr_depcom': '34032',\n",
       "   'region_impl': '76',\n",
       "   'region_mult': 'QASI',\n",
       "   'tr_eff_etp': '01',\n",
       "   'cj': '5710',\n",
       "   'denom': 'ALTEA SECURITE BEZIERS',\n",
       "   'denom_condense': 'ALTEA SECURITE BEZIERS',\n",
       "   'sigle': '',\n",
       "   'enseigne': '',\n",
       "   'eff_3112_unitelegale': '3.0',\n",
       "   'eff_etp_unitelegale': '2.0',\n",
       "   'eff_effet_daaaammjj_unitelegale': '20181231',\n",
       "   'siret_id': '81162101000024',\n",
       "   'siret': '81162101000024',\n",
       "   'longitude': '3.248369',\n",
       "   'latitude': '43.317212',\n",
       "   'geo_score': '0.96',\n",
       "   'geo_type': 'housenumber',\n",
       "   'geo_adresse': '15 Plaine Saint Pierre 34500 Béziers',\n",
       "   'location': '43.317212, 3.248369'}}]"
      ]
     },
     "execution_count": 18,
     "metadata": {},
     "output_type": "execute_result"
    }
   ],
   "source": [
    "res['responses'][0]['hits']['hits']"
   ]
  },
  {
   "cell_type": "code",
   "execution_count": 15,
   "metadata": {},
   "outputs": [
    {
     "data": {
      "text/plain": [
       "'81162101000024'"
      ]
     },
     "execution_count": 15,
     "metadata": {},
     "output_type": "execute_result"
    }
   ],
   "source": [
    "# on rappatrie les siret trouvés \n",
    "res['responses'][0]['hits']['hits'][0][\"_source\"][\"siret_id\"]"
   ]
  },
  {
   "cell_type": "code",
   "execution_count": 17,
   "metadata": {},
   "outputs": [
    {
     "data": {
      "text/plain": [
       "'87760842200011'"
      ]
     },
     "execution_count": 17,
     "metadata": {},
     "output_type": "execute_result"
    }
   ],
   "source": [
    "res['responses'][1]['hits']['hits'][0][\"_source\"][\"siret_id\"]"
   ]
  },
  {
   "cell_type": "code",
   "execution_count": 16,
   "metadata": {},
   "outputs": [
    {
     "data": {
      "text/html": [
       "<div>\n",
       "<style scoped>\n",
       "    .dataframe tbody tr th:only-of-type {\n",
       "        vertical-align: middle;\n",
       "    }\n",
       "\n",
       "    .dataframe tbody tr th {\n",
       "        vertical-align: top;\n",
       "    }\n",
       "\n",
       "    .dataframe thead th {\n",
       "        text-align: right;\n",
       "    }\n",
       "</style>\n",
       "<table border=\"1\" class=\"dataframe\">\n",
       "  <thead>\n",
       "    <tr style=\"text-align: right;\">\n",
       "      <th></th>\n",
       "      <th>identifiant</th>\n",
       "      <th>nom_etablissement</th>\n",
       "      <th>numero_siret_true</th>\n",
       "      <th>adresse</th>\n",
       "      <th>code_postal</th>\n",
       "      <th>commune</th>\n",
       "      <th>departement</th>\n",
       "      <th>region</th>\n",
       "      <th>coordonnees_x</th>\n",
       "      <th>coordonnees_y</th>\n",
       "      <th>code_epsg</th>\n",
       "      <th>code_ape</th>\n",
       "      <th>libelle_ape</th>\n",
       "      <th>code_eprtr</th>\n",
       "      <th>libelle_eprtr</th>\n",
       "    </tr>\n",
       "  </thead>\n",
       "  <tbody>\n",
       "    <tr>\n",
       "      <th>0</th>\n",
       "      <td>9073402</td>\n",
       "      <td>STEP - BEZIERS</td>\n",
       "      <td>41003460701688</td>\n",
       "      <td>Plaine Saint Pierre</td>\n",
       "      <td>34500</td>\n",
       "      <td>BEZIERS</td>\n",
       "      <td>HERAULT</td>\n",
       "      <td>OCCITANIE</td>\n",
       "      <td>672948.910000</td>\n",
       "      <td>1.813634e+06</td>\n",
       "      <td>27572.0</td>\n",
       "      <td>3700Z</td>\n",
       "      <td>Collecte et traitement des eaux usées</td>\n",
       "      <td>5.(f)</td>\n",
       "      <td>Installations de traitement des eaux urbaines ...</td>\n",
       "    </tr>\n",
       "    <tr>\n",
       "      <th>1</th>\n",
       "      <td>9076401</td>\n",
       "      <td>STEP - Pont de l'aveugle</td>\n",
       "      <td>20006710600241</td>\n",
       "      <td>17 avenue de l'adour</td>\n",
       "      <td>64600</td>\n",
       "      <td>ANGLET</td>\n",
       "      <td>PYRENEES-ATLANTIQUES</td>\n",
       "      <td>NOUVELLE-AQUITAINE</td>\n",
       "      <td>-1.498014</td>\n",
       "      <td>4.350209e+01</td>\n",
       "      <td>4326.0</td>\n",
       "      <td>3700Z</td>\n",
       "      <td>Collecte et traitement des eaux usées</td>\n",
       "      <td>5.(f)</td>\n",
       "      <td>Installations de traitement des eaux urbaines ...</td>\n",
       "    </tr>\n",
       "    <tr>\n",
       "      <th>2</th>\n",
       "      <td>9076202</td>\n",
       "      <td>STEP - Loison Sous Lens</td>\n",
       "      <td>57202552600813</td>\n",
       "      <td>1 route de lens</td>\n",
       "      <td>62218</td>\n",
       "      <td>LOISON-SOUS-LENS</td>\n",
       "      <td>PAS-DE-CALAIS</td>\n",
       "      <td>HAUTS-DE-FRANCE</td>\n",
       "      <td>2.856548</td>\n",
       "      <td>5.043594e+01</td>\n",
       "      <td>4326.0</td>\n",
       "      <td>3700Z</td>\n",
       "      <td>Collecte et traitement des eaux usées</td>\n",
       "      <td>5.(f)</td>\n",
       "      <td>Installations de traitement des eaux urbaines ...</td>\n",
       "    </tr>\n",
       "    <tr>\n",
       "      <th>3</th>\n",
       "      <td>9077801</td>\n",
       "      <td>SIAAP - Site Seine Aval</td>\n",
       "      <td>25755000400044</td>\n",
       "      <td>BP 104</td>\n",
       "      <td>78603</td>\n",
       "      <td>MAISONS-LAFFITTE</td>\n",
       "      <td>YVELINES</td>\n",
       "      <td>ILE-DE-FRANCE</td>\n",
       "      <td>2.140590</td>\n",
       "      <td>4.898410e+01</td>\n",
       "      <td>4326.0</td>\n",
       "      <td>3700Z</td>\n",
       "      <td>Collecte et traitement des eaux usées</td>\n",
       "      <td>5.(f)</td>\n",
       "      <td>Installations de traitement des eaux urbaines ...</td>\n",
       "    </tr>\n",
       "    <tr>\n",
       "      <th>4</th>\n",
       "      <td>9079001</td>\n",
       "      <td>UDEP-BELFORT</td>\n",
       "      <td>20006905200070</td>\n",
       "      <td>Boulevard Dunant (entrée par Allée des Grands ...</td>\n",
       "      <td>90000</td>\n",
       "      <td>BELFORT</td>\n",
       "      <td>TERRITOIRE-DE-BELFORT</td>\n",
       "      <td>BOURGOGNE-FRANCHE-COMTE</td>\n",
       "      <td>6.861504</td>\n",
       "      <td>4.762541e+01</td>\n",
       "      <td>4326.0</td>\n",
       "      <td>3700Z</td>\n",
       "      <td>Collecte et traitement des eaux usées</td>\n",
       "      <td>5.(f)</td>\n",
       "      <td>Installations de traitement des eaux urbaines ...</td>\n",
       "    </tr>\n",
       "  </tbody>\n",
       "</table>\n",
       "</div>"
      ],
      "text/plain": [
       "   identifiant         nom_etablissement  numero_siret_true  \\\n",
       "0      9073402            STEP - BEZIERS     41003460701688   \n",
       "1      9076401  STEP - Pont de l'aveugle     20006710600241   \n",
       "2      9076202   STEP - Loison Sous Lens     57202552600813   \n",
       "3      9077801   SIAAP - Site Seine Aval     25755000400044   \n",
       "4      9079001              UDEP-BELFORT     20006905200070   \n",
       "\n",
       "                                             adresse  code_postal  \\\n",
       "0                                Plaine Saint Pierre        34500   \n",
       "1                               17 avenue de l'adour        64600   \n",
       "2                                    1 route de lens        62218   \n",
       "3                                             BP 104        78603   \n",
       "4  Boulevard Dunant (entrée par Allée des Grands ...        90000   \n",
       "\n",
       "            commune            departement                   region  \\\n",
       "0           BEZIERS                HERAULT                OCCITANIE   \n",
       "1            ANGLET   PYRENEES-ATLANTIQUES       NOUVELLE-AQUITAINE   \n",
       "2  LOISON-SOUS-LENS          PAS-DE-CALAIS          HAUTS-DE-FRANCE   \n",
       "3  MAISONS-LAFFITTE               YVELINES            ILE-DE-FRANCE   \n",
       "4           BELFORT  TERRITOIRE-DE-BELFORT  BOURGOGNE-FRANCHE-COMTE   \n",
       "\n",
       "   coordonnees_x  coordonnees_y  code_epsg code_ape  \\\n",
       "0  672948.910000   1.813634e+06    27572.0    3700Z   \n",
       "1      -1.498014   4.350209e+01     4326.0    3700Z   \n",
       "2       2.856548   5.043594e+01     4326.0    3700Z   \n",
       "3       2.140590   4.898410e+01     4326.0    3700Z   \n",
       "4       6.861504   4.762541e+01     4326.0    3700Z   \n",
       "\n",
       "                             libelle_ape code_eprtr  \\\n",
       "0  Collecte et traitement des eaux usées      5.(f)   \n",
       "1  Collecte et traitement des eaux usées      5.(f)   \n",
       "2  Collecte et traitement des eaux usées      5.(f)   \n",
       "3  Collecte et traitement des eaux usées      5.(f)   \n",
       "4  Collecte et traitement des eaux usées      5.(f)   \n",
       "\n",
       "                                       libelle_eprtr  \n",
       "0  Installations de traitement des eaux urbaines ...  \n",
       "1  Installations de traitement des eaux urbaines ...  \n",
       "2  Installations de traitement des eaux urbaines ...  \n",
       "3  Installations de traitement des eaux urbaines ...  \n",
       "4  Installations de traitement des eaux urbaines ...  "
      ]
     },
     "execution_count": 16,
     "metadata": {},
     "output_type": "execute_result"
    }
   ],
   "source": [
    "df[\"siret_elastic\"] = "
   ]
  },
  {
   "cell_type": "code",
   "execution_count": null,
   "metadata": {},
   "outputs": [],
   "source": []
  },
  {
   "cell_type": "code",
   "execution_count": null,
   "metadata": {},
   "outputs": [],
   "source": []
  }
 ],
 "metadata": {
  "interpreter": {
   "hash": "ed5946f2a0d3f5e934efd92075c2a89b2cb5130d0efd6e4509a568bedf48ed26"
  },
  "kernelspec": {
   "display_name": "Python 3.10.4 ('basesspcloud')",
   "language": "python",
   "name": "python3"
  },
  "language_info": {
   "codemirror_mode": {
    "name": "ipython",
    "version": 3
   },
   "file_extension": ".py",
   "mimetype": "text/x-python",
   "name": "python",
   "nbconvert_exporter": "python",
   "pygments_lexer": "ipython3",
   "version": "3.10.4"
  },
  "orig_nbformat": 4
 },
 "nbformat": 4,
 "nbformat_minor": 2
}
