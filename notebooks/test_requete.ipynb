{
 "cells": [
  {
   "cell_type": "code",
   "execution_count": 2,
   "metadata": {},
   "outputs": [],
   "source": [
    "from elasticsearch import Elasticsearch\n",
    "HOST = 'elasticsearch-master.projet-ssplab'\n",
    "\n",
    "def elastic():\n",
    "    \"\"\"Connection avec Elastic sur le data lab\"\"\"\n",
    "    es = Elasticsearch([{'host': HOST, 'port': 9200, 'scheme': 'http'}], http_compress=True, request_timeout=200)\n",
    "    return es\n",
    "\n",
    "es = elastic()"
   ]
  },
  {
   "cell_type": "code",
   "execution_count": 3,
   "metadata": {},
   "outputs": [
    {
     "data": {
      "text/plain": [
       "dict_keys(['rejets', 'etablissements', 'emissions', 'Trait_dechets_non_dangereux', 'Trait_dechets_dangereux', 'Prod_dechets_non_dangereux', 'Prod_dechets_dangereux', 'Prelevements'])"
      ]
     },
     "execution_count": 3,
     "metadata": {},
     "output_type": "execute_result"
    }
   ],
   "source": [
    "# Importation des bases\n",
    "import functions as fc\n",
    "dict_data = fc.read_all_raw(fc.list_bases)\n",
    "dict_data.keys()"
   ]
  },
  {
   "cell_type": "code",
   "execution_count": 23,
   "metadata": {},
   "outputs": [],
   "source": [
    "df = dict_data[\"etablissements\"]\n",
    "df = df.rename({'numero_siret': \"numero_siret_true\"}, axis = 1)"
   ]
  },
  {
   "cell_type": "code",
   "execution_count": 25,
   "metadata": {},
   "outputs": [
    {
     "data": {
      "text/plain": [
       "0                                  Plaine Saint Pierre\n",
       "1                                 17 avenue de l'adour\n",
       "2                                      1 route de lens\n",
       "3                                               BP 104\n",
       "4    Boulevard Dunant (entrée par Allée des Grands ...\n",
       "Name: adresse, dtype: object"
      ]
     },
     "execution_count": 25,
     "metadata": {},
     "output_type": "execute_result"
    }
   ],
   "source": [
    "df[\"adresse\"].head()"
   ]
  },
  {
   "cell_type": "code",
   "execution_count": 5,
   "metadata": {},
   "outputs": [],
   "source": [
    "\n",
    "requete_type = '''{{ \n",
    "  \"query\": {{\n",
    "    \"bool\": {{\n",
    "      \"should\": [\n",
    "        {{ \"match\": {{ \"rs_denom\":   \"{nom_etablissement}\" }}}},\n",
    "        {{ \"match\": {{ \"geo_adresse\": \"{adresse}\" }}}},\n",
    "        {{ \"match\": {{ \"sir_adr_et_com_lib\": \"{commune}\" }}}}\n",
    "      ],\n",
    "      \"minimum_should_match\": 2,\n",
    "      \"filter\": [\n",
    "        {{ \"match\":  {{ \"adr_et_post\": \"{code_postal}\" }}}}\n",
    "      ]\n",
    "    }}\n",
    "  }},\n",
    "  \"size\": 1\n",
    "}}'''"
   ]
  },
  {
   "cell_type": "code",
   "execution_count": 18,
   "metadata": {},
   "outputs": [
    {
     "data": {
      "text/plain": [
       "(8963, 15)"
      ]
     },
     "execution_count": 18,
     "metadata": {},
     "output_type": "execute_result"
    }
   ],
   "source": [
    "df.shape"
   ]
  },
  {
   "cell_type": "code",
   "execution_count": 22,
   "metadata": {},
   "outputs": [
    {
     "data": {
      "text/plain": [
       "0"
      ]
     },
     "execution_count": 22,
     "metadata": {},
     "output_type": "execute_result"
    }
   ],
   "source": [
    "df[\"adresse\"].isna().sum()"
   ]
  },
  {
   "cell_type": "code",
   "execution_count": null,
   "metadata": {},
   "outputs": [],
   "source": [
    "df[\"code_postal\"]"
   ]
  },
  {
   "cell_type": "code",
   "execution_count": 19,
   "metadata": {},
   "outputs": [],
   "source": [
    "# Il est nécessaire de spécifier l'index associé à chaque requête\n",
    "header = '{\"index\" : \"sirus_2020\"}'\n",
    "\n",
    "multiple_requetes = \"\"\n",
    "\n",
    "# On itère sur le dataframe d'établissements polluants pour ajouter une requête spécifique à chacun d'entre eux\n",
    "n_etab = df.shape[0] # Pour l'exemple, on prend les 10 premiers\n",
    "\n",
    "for index, row in df.iloc[0:n_etab][['nom_etablissement', 'adresse', 'code_postal', 'commune']].iterrows():\n",
    "    \n",
    "    multiple_requetes+= header\n",
    "    multiple_requetes+= '\\n'\n",
    "    multiple_requetes+= requete_type.format_map(row).replace(\"\\n\",\"\")\n",
    "    multiple_requetes+= '\\n'"
   ]
  },
  {
   "cell_type": "code",
   "execution_count": 20,
   "metadata": {},
   "outputs": [
    {
     "name": "stderr",
     "output_type": "stream",
     "text": [
      "/home/coder/local/bin/conda/envs/basesspcloud/lib/python3.10/site-packages/elasticsearch/connection/base.py:200: ElasticsearchWarning: Elasticsearch built-in security features are not enabled. Without authentication, your cluster could be accessible to anyone. See https://www.elastic.co/guide/en/elasticsearch/reference/7.17/security-minimal-setup.html to enable security.\n",
      "  warnings.warn(message, category=ElasticsearchWarning)\n"
     ]
    },
    {
     "ename": "RequestError",
     "evalue": "RequestError(400, 'x_content_parse_exception', '[1:149] [bool] failed to parse field [should]')",
     "output_type": "error",
     "traceback": [
      "\u001b[0;31m---------------------------------------------------------------------------\u001b[0m",
      "\u001b[0;31mRequestError\u001b[0m                              Traceback (most recent call last)",
      "\u001b[1;32m/home/coder/work/irep/notebooks/test_requete.ipynb Cell 7'\u001b[0m in \u001b[0;36m<cell line: 1>\u001b[0;34m()\u001b[0m\n\u001b[0;32m----> <a href='vscode-notebook-cell://user-radjerad-814448-0.kub.sspcloud.fr/home/coder/work/irep/notebooks/test_requete.ipynb#ch0000005vscode-remote?line=0'>1</a>\u001b[0m res \u001b[39m=\u001b[39m es\u001b[39m.\u001b[39;49mmsearch(body \u001b[39m=\u001b[39;49m multiple_requetes)\n",
      "File \u001b[0;32m~/local/bin/conda/envs/basesspcloud/lib/python3.10/site-packages/elasticsearch/client/utils.py:347\u001b[0m, in \u001b[0;36mquery_params.<locals>._wrapper.<locals>._wrapped\u001b[0;34m(*args, **kwargs)\u001b[0m\n\u001b[1;32m    <a href='file:///home/coder/local/bin/conda/envs/basesspcloud/lib/python3.10/site-packages/elasticsearch/client/utils.py?line=344'>345</a>\u001b[0m     \u001b[39mif\u001b[39;00m p \u001b[39min\u001b[39;00m kwargs:\n\u001b[1;32m    <a href='file:///home/coder/local/bin/conda/envs/basesspcloud/lib/python3.10/site-packages/elasticsearch/client/utils.py?line=345'>346</a>\u001b[0m         params[p] \u001b[39m=\u001b[39m kwargs\u001b[39m.\u001b[39mpop(p)\n\u001b[0;32m--> <a href='file:///home/coder/local/bin/conda/envs/basesspcloud/lib/python3.10/site-packages/elasticsearch/client/utils.py?line=346'>347</a>\u001b[0m \u001b[39mreturn\u001b[39;00m func(\u001b[39m*\u001b[39;49margs, params\u001b[39m=\u001b[39;49mparams, headers\u001b[39m=\u001b[39;49mheaders, \u001b[39m*\u001b[39;49m\u001b[39m*\u001b[39;49mkwargs)\n",
      "File \u001b[0;32m~/local/bin/conda/envs/basesspcloud/lib/python3.10/site-packages/elasticsearch/client/__init__.py:1226\u001b[0m, in \u001b[0;36mElasticsearch.msearch\u001b[0;34m(self, body, index, doc_type, params, headers)\u001b[0m\n\u001b[1;32m   <a href='file:///home/coder/local/bin/conda/envs/basesspcloud/lib/python3.10/site-packages/elasticsearch/client/__init__.py?line=1222'>1223</a>\u001b[0m     \u001b[39mraise\u001b[39;00m \u001b[39mValueError\u001b[39;00m(\u001b[39m\"\u001b[39m\u001b[39mEmpty value passed for a required argument \u001b[39m\u001b[39m'\u001b[39m\u001b[39mbody\u001b[39m\u001b[39m'\u001b[39m\u001b[39m.\u001b[39m\u001b[39m\"\u001b[39m)\n\u001b[1;32m   <a href='file:///home/coder/local/bin/conda/envs/basesspcloud/lib/python3.10/site-packages/elasticsearch/client/__init__.py?line=1224'>1225</a>\u001b[0m body \u001b[39m=\u001b[39m _bulk_body(\u001b[39mself\u001b[39m\u001b[39m.\u001b[39mtransport\u001b[39m.\u001b[39mserializer, body)\n\u001b[0;32m-> <a href='file:///home/coder/local/bin/conda/envs/basesspcloud/lib/python3.10/site-packages/elasticsearch/client/__init__.py?line=1225'>1226</a>\u001b[0m \u001b[39mreturn\u001b[39;00m \u001b[39mself\u001b[39;49m\u001b[39m.\u001b[39;49mtransport\u001b[39m.\u001b[39;49mperform_request(\n\u001b[1;32m   <a href='file:///home/coder/local/bin/conda/envs/basesspcloud/lib/python3.10/site-packages/elasticsearch/client/__init__.py?line=1226'>1227</a>\u001b[0m     \u001b[39m\"\u001b[39;49m\u001b[39mPOST\u001b[39;49m\u001b[39m\"\u001b[39;49m,\n\u001b[1;32m   <a href='file:///home/coder/local/bin/conda/envs/basesspcloud/lib/python3.10/site-packages/elasticsearch/client/__init__.py?line=1227'>1228</a>\u001b[0m     _make_path(index, doc_type, \u001b[39m\"\u001b[39;49m\u001b[39m_msearch\u001b[39;49m\u001b[39m\"\u001b[39;49m),\n\u001b[1;32m   <a href='file:///home/coder/local/bin/conda/envs/basesspcloud/lib/python3.10/site-packages/elasticsearch/client/__init__.py?line=1228'>1229</a>\u001b[0m     params\u001b[39m=\u001b[39;49mparams,\n\u001b[1;32m   <a href='file:///home/coder/local/bin/conda/envs/basesspcloud/lib/python3.10/site-packages/elasticsearch/client/__init__.py?line=1229'>1230</a>\u001b[0m     headers\u001b[39m=\u001b[39;49mheaders,\n\u001b[1;32m   <a href='file:///home/coder/local/bin/conda/envs/basesspcloud/lib/python3.10/site-packages/elasticsearch/client/__init__.py?line=1230'>1231</a>\u001b[0m     body\u001b[39m=\u001b[39;49mbody,\n\u001b[1;32m   <a href='file:///home/coder/local/bin/conda/envs/basesspcloud/lib/python3.10/site-packages/elasticsearch/client/__init__.py?line=1231'>1232</a>\u001b[0m )\n",
      "File \u001b[0;32m~/local/bin/conda/envs/basesspcloud/lib/python3.10/site-packages/elasticsearch/transport.py:466\u001b[0m, in \u001b[0;36mTransport.perform_request\u001b[0;34m(self, method, url, headers, params, body)\u001b[0m\n\u001b[1;32m    <a href='file:///home/coder/local/bin/conda/envs/basesspcloud/lib/python3.10/site-packages/elasticsearch/transport.py?line=463'>464</a>\u001b[0m             \u001b[39mraise\u001b[39;00m e\n\u001b[1;32m    <a href='file:///home/coder/local/bin/conda/envs/basesspcloud/lib/python3.10/site-packages/elasticsearch/transport.py?line=464'>465</a>\u001b[0m     \u001b[39melse\u001b[39;00m:\n\u001b[0;32m--> <a href='file:///home/coder/local/bin/conda/envs/basesspcloud/lib/python3.10/site-packages/elasticsearch/transport.py?line=465'>466</a>\u001b[0m         \u001b[39mraise\u001b[39;00m e\n\u001b[1;32m    <a href='file:///home/coder/local/bin/conda/envs/basesspcloud/lib/python3.10/site-packages/elasticsearch/transport.py?line=467'>468</a>\u001b[0m \u001b[39melse\u001b[39;00m:\n\u001b[1;32m    <a href='file:///home/coder/local/bin/conda/envs/basesspcloud/lib/python3.10/site-packages/elasticsearch/transport.py?line=468'>469</a>\u001b[0m     \u001b[39m# connection didn't fail, confirm it's live status\u001b[39;00m\n\u001b[1;32m    <a href='file:///home/coder/local/bin/conda/envs/basesspcloud/lib/python3.10/site-packages/elasticsearch/transport.py?line=469'>470</a>\u001b[0m     \u001b[39mself\u001b[39m\u001b[39m.\u001b[39mconnection_pool\u001b[39m.\u001b[39mmark_live(connection)\n",
      "File \u001b[0;32m~/local/bin/conda/envs/basesspcloud/lib/python3.10/site-packages/elasticsearch/transport.py:427\u001b[0m, in \u001b[0;36mTransport.perform_request\u001b[0;34m(self, method, url, headers, params, body)\u001b[0m\n\u001b[1;32m    <a href='file:///home/coder/local/bin/conda/envs/basesspcloud/lib/python3.10/site-packages/elasticsearch/transport.py?line=423'>424</a>\u001b[0m connection \u001b[39m=\u001b[39m \u001b[39mself\u001b[39m\u001b[39m.\u001b[39mget_connection()\n\u001b[1;32m    <a href='file:///home/coder/local/bin/conda/envs/basesspcloud/lib/python3.10/site-packages/elasticsearch/transport.py?line=425'>426</a>\u001b[0m \u001b[39mtry\u001b[39;00m:\n\u001b[0;32m--> <a href='file:///home/coder/local/bin/conda/envs/basesspcloud/lib/python3.10/site-packages/elasticsearch/transport.py?line=426'>427</a>\u001b[0m     status, headers_response, data \u001b[39m=\u001b[39m connection\u001b[39m.\u001b[39;49mperform_request(\n\u001b[1;32m    <a href='file:///home/coder/local/bin/conda/envs/basesspcloud/lib/python3.10/site-packages/elasticsearch/transport.py?line=427'>428</a>\u001b[0m         method,\n\u001b[1;32m    <a href='file:///home/coder/local/bin/conda/envs/basesspcloud/lib/python3.10/site-packages/elasticsearch/transport.py?line=428'>429</a>\u001b[0m         url,\n\u001b[1;32m    <a href='file:///home/coder/local/bin/conda/envs/basesspcloud/lib/python3.10/site-packages/elasticsearch/transport.py?line=429'>430</a>\u001b[0m         params,\n\u001b[1;32m    <a href='file:///home/coder/local/bin/conda/envs/basesspcloud/lib/python3.10/site-packages/elasticsearch/transport.py?line=430'>431</a>\u001b[0m         body,\n\u001b[1;32m    <a href='file:///home/coder/local/bin/conda/envs/basesspcloud/lib/python3.10/site-packages/elasticsearch/transport.py?line=431'>432</a>\u001b[0m         headers\u001b[39m=\u001b[39;49mheaders,\n\u001b[1;32m    <a href='file:///home/coder/local/bin/conda/envs/basesspcloud/lib/python3.10/site-packages/elasticsearch/transport.py?line=432'>433</a>\u001b[0m         ignore\u001b[39m=\u001b[39;49mignore,\n\u001b[1;32m    <a href='file:///home/coder/local/bin/conda/envs/basesspcloud/lib/python3.10/site-packages/elasticsearch/transport.py?line=433'>434</a>\u001b[0m         timeout\u001b[39m=\u001b[39;49mtimeout,\n\u001b[1;32m    <a href='file:///home/coder/local/bin/conda/envs/basesspcloud/lib/python3.10/site-packages/elasticsearch/transport.py?line=434'>435</a>\u001b[0m     )\n\u001b[1;32m    <a href='file:///home/coder/local/bin/conda/envs/basesspcloud/lib/python3.10/site-packages/elasticsearch/transport.py?line=436'>437</a>\u001b[0m     \u001b[39m# Lowercase all the header names for consistency in accessing them.\u001b[39;00m\n\u001b[1;32m    <a href='file:///home/coder/local/bin/conda/envs/basesspcloud/lib/python3.10/site-packages/elasticsearch/transport.py?line=437'>438</a>\u001b[0m     headers_response \u001b[39m=\u001b[39m {\n\u001b[1;32m    <a href='file:///home/coder/local/bin/conda/envs/basesspcloud/lib/python3.10/site-packages/elasticsearch/transport.py?line=438'>439</a>\u001b[0m         header\u001b[39m.\u001b[39mlower(): value \u001b[39mfor\u001b[39;00m header, value \u001b[39min\u001b[39;00m headers_response\u001b[39m.\u001b[39mitems()\n\u001b[1;32m    <a href='file:///home/coder/local/bin/conda/envs/basesspcloud/lib/python3.10/site-packages/elasticsearch/transport.py?line=439'>440</a>\u001b[0m     }\n",
      "File \u001b[0;32m~/local/bin/conda/envs/basesspcloud/lib/python3.10/site-packages/elasticsearch/connection/http_urllib3.py:291\u001b[0m, in \u001b[0;36mUrllib3HttpConnection.perform_request\u001b[0;34m(self, method, url, params, body, timeout, ignore, headers)\u001b[0m\n\u001b[1;32m    <a href='file:///home/coder/local/bin/conda/envs/basesspcloud/lib/python3.10/site-packages/elasticsearch/connection/http_urllib3.py?line=286'>287</a>\u001b[0m \u001b[39mif\u001b[39;00m \u001b[39mnot\u001b[39;00m (\u001b[39m200\u001b[39m \u001b[39m<\u001b[39m\u001b[39m=\u001b[39m response\u001b[39m.\u001b[39mstatus \u001b[39m<\u001b[39m \u001b[39m300\u001b[39m) \u001b[39mand\u001b[39;00m response\u001b[39m.\u001b[39mstatus \u001b[39mnot\u001b[39;00m \u001b[39min\u001b[39;00m ignore:\n\u001b[1;32m    <a href='file:///home/coder/local/bin/conda/envs/basesspcloud/lib/python3.10/site-packages/elasticsearch/connection/http_urllib3.py?line=287'>288</a>\u001b[0m     \u001b[39mself\u001b[39m\u001b[39m.\u001b[39mlog_request_fail(\n\u001b[1;32m    <a href='file:///home/coder/local/bin/conda/envs/basesspcloud/lib/python3.10/site-packages/elasticsearch/connection/http_urllib3.py?line=288'>289</a>\u001b[0m         method, full_url, url, orig_body, duration, response\u001b[39m.\u001b[39mstatus, raw_data\n\u001b[1;32m    <a href='file:///home/coder/local/bin/conda/envs/basesspcloud/lib/python3.10/site-packages/elasticsearch/connection/http_urllib3.py?line=289'>290</a>\u001b[0m     )\n\u001b[0;32m--> <a href='file:///home/coder/local/bin/conda/envs/basesspcloud/lib/python3.10/site-packages/elasticsearch/connection/http_urllib3.py?line=290'>291</a>\u001b[0m     \u001b[39mself\u001b[39;49m\u001b[39m.\u001b[39;49m_raise_error(response\u001b[39m.\u001b[39;49mstatus, raw_data)\n\u001b[1;32m    <a href='file:///home/coder/local/bin/conda/envs/basesspcloud/lib/python3.10/site-packages/elasticsearch/connection/http_urllib3.py?line=292'>293</a>\u001b[0m \u001b[39mself\u001b[39m\u001b[39m.\u001b[39mlog_request_success(\n\u001b[1;32m    <a href='file:///home/coder/local/bin/conda/envs/basesspcloud/lib/python3.10/site-packages/elasticsearch/connection/http_urllib3.py?line=293'>294</a>\u001b[0m     method, full_url, url, orig_body, response\u001b[39m.\u001b[39mstatus, raw_data, duration\n\u001b[1;32m    <a href='file:///home/coder/local/bin/conda/envs/basesspcloud/lib/python3.10/site-packages/elasticsearch/connection/http_urllib3.py?line=294'>295</a>\u001b[0m )\n\u001b[1;32m    <a href='file:///home/coder/local/bin/conda/envs/basesspcloud/lib/python3.10/site-packages/elasticsearch/connection/http_urllib3.py?line=296'>297</a>\u001b[0m \u001b[39mreturn\u001b[39;00m response\u001b[39m.\u001b[39mstatus, response_headers, raw_data\n",
      "File \u001b[0;32m~/local/bin/conda/envs/basesspcloud/lib/python3.10/site-packages/elasticsearch/connection/base.py:328\u001b[0m, in \u001b[0;36mConnection._raise_error\u001b[0;34m(self, status_code, raw_data)\u001b[0m\n\u001b[1;32m    <a href='file:///home/coder/local/bin/conda/envs/basesspcloud/lib/python3.10/site-packages/elasticsearch/connection/base.py?line=324'>325</a>\u001b[0m \u001b[39mexcept\u001b[39;00m (\u001b[39mValueError\u001b[39;00m, \u001b[39mTypeError\u001b[39;00m) \u001b[39mas\u001b[39;00m err:\n\u001b[1;32m    <a href='file:///home/coder/local/bin/conda/envs/basesspcloud/lib/python3.10/site-packages/elasticsearch/connection/base.py?line=325'>326</a>\u001b[0m     logger\u001b[39m.\u001b[39mwarning(\u001b[39m\"\u001b[39m\u001b[39mUndecodable raw error response from server: \u001b[39m\u001b[39m%s\u001b[39;00m\u001b[39m\"\u001b[39m, err)\n\u001b[0;32m--> <a href='file:///home/coder/local/bin/conda/envs/basesspcloud/lib/python3.10/site-packages/elasticsearch/connection/base.py?line=327'>328</a>\u001b[0m \u001b[39mraise\u001b[39;00m HTTP_EXCEPTIONS\u001b[39m.\u001b[39mget(status_code, TransportError)(\n\u001b[1;32m    <a href='file:///home/coder/local/bin/conda/envs/basesspcloud/lib/python3.10/site-packages/elasticsearch/connection/base.py?line=328'>329</a>\u001b[0m     status_code, error_message, additional_info\n\u001b[1;32m    <a href='file:///home/coder/local/bin/conda/envs/basesspcloud/lib/python3.10/site-packages/elasticsearch/connection/base.py?line=329'>330</a>\u001b[0m )\n",
      "\u001b[0;31mRequestError\u001b[0m: RequestError(400, 'x_content_parse_exception', '[1:149] [bool] failed to parse field [should]')"
     ]
    }
   ],
   "source": [
    "res = es.msearch(body = multiple_requetes)"
   ]
  },
  {
   "cell_type": "code",
   "execution_count": 8,
   "metadata": {},
   "outputs": [
    {
     "data": {
      "text/plain": [
       "[{'_index': 'sirus_2020_e_3_ngr_bool',\n",
       "  '_type': '_doc',\n",
       "  '_id': '81162101000024',\n",
       "  '_score': 5.0,\n",
       "  '_source': {'sirus_id': '811621010',\n",
       "   'nic': '00024',\n",
       "   'ape': '8010Z',\n",
       "   'apet': '8010Z',\n",
       "   'eff_3112_et': '3.0',\n",
       "   'eff_etp_et': '2.0',\n",
       "   'eff_et_effet_daaaammjj': '20181231',\n",
       "   'enseigne_et1': '',\n",
       "   'nom_comm_et': '',\n",
       "   'adr_et_loc_geo': '3403200276',\n",
       "   'adr_et_compl': '',\n",
       "   'adr_et_voie_num': '15',\n",
       "   'adr_et_voie_repet': '',\n",
       "   'adr_et_voie_type': '',\n",
       "   'adr_et_voie_lib': 'PLAINE SAINT PIERRE',\n",
       "   'adr_et_cedex': '',\n",
       "   'adr_et_distsp': '',\n",
       "   'sir_adr_et_com_lib': 'BEZIERS',\n",
       "   'adr_et_post': '34500',\n",
       "   'adr_et_l1': 'ALTEA SECURITE BEZIERS',\n",
       "   'adr_et_l2': '',\n",
       "   'adr_et_l3': '',\n",
       "   'adr_et_l4': '15 PLAINE SAINT PIERRE',\n",
       "   'adr_et_l5': '',\n",
       "   'adr_et_l6': '34500 BEZIERS',\n",
       "   'adr_et_l7': '',\n",
       "   'nic_siege': '00024',\n",
       "   'unite_type': '1',\n",
       "   'region': '76',\n",
       "   'adr_depcom': '34032',\n",
       "   'region_impl': '76',\n",
       "   'region_mult': 'QASI',\n",
       "   'tr_eff_etp': '01',\n",
       "   'cj': '5710',\n",
       "   'denom': 'ALTEA SECURITE BEZIERS',\n",
       "   'denom_condense': 'ALTEA SECURITE BEZIERS',\n",
       "   'sigle': '',\n",
       "   'enseigne': '',\n",
       "   'eff_3112_unitelegale': '3.0',\n",
       "   'eff_etp_unitelegale': '2.0',\n",
       "   'eff_effet_daaaammjj_unitelegale': '20181231',\n",
       "   'siret_id': '81162101000024',\n",
       "   'siret': '81162101000024',\n",
       "   'longitude': '3.248369',\n",
       "   'latitude': '43.317212',\n",
       "   'geo_score': '0.96',\n",
       "   'geo_type': 'housenumber',\n",
       "   'geo_adresse': '15 Plaine Saint Pierre 34500 Béziers',\n",
       "   'location': '43.317212, 3.248369'}}]"
      ]
     },
     "execution_count": 8,
     "metadata": {},
     "output_type": "execute_result"
    }
   ],
   "source": [
    "res['responses'][0]['hits']['hits']"
   ]
  },
  {
   "cell_type": "code",
   "execution_count": 9,
   "metadata": {},
   "outputs": [
    {
     "data": {
      "text/plain": [
       "'81162101000024'"
      ]
     },
     "execution_count": 9,
     "metadata": {},
     "output_type": "execute_result"
    }
   ],
   "source": [
    "# on rappatrie les siret trouvés \n",
    "res['responses'][0]['hits']['hits'][0][\"_source\"][\"siret_id\"]"
   ]
  },
  {
   "cell_type": "code",
   "execution_count": 10,
   "metadata": {},
   "outputs": [
    {
     "data": {
      "text/plain": [
       "'87760842200011'"
      ]
     },
     "execution_count": 10,
     "metadata": {},
     "output_type": "execute_result"
    }
   ],
   "source": [
    "res['responses'][1]['hits']['hits'][0][\"_source\"][\"siret_id\"]"
   ]
  },
  {
   "cell_type": "code",
   "execution_count": 16,
   "metadata": {},
   "outputs": [
    {
     "data": {
      "text/plain": [
       "['81162101000024', '87760842200011', '53295706500016']"
      ]
     },
     "execution_count": 16,
     "metadata": {},
     "output_type": "execute_result"
    }
   ],
   "source": [
    "[res['responses'][i]['hits']['hits'][0][\"_source\"][\"siret_id\"] for i in range(4) if res['responses'][i]['hits']['hits']]"
   ]
  },
  {
   "cell_type": "code",
   "execution_count": 17,
   "metadata": {},
   "outputs": [
    {
     "data": {
      "text/plain": [
       "['81162101000024', '87760842200011', '53295706500016', nan]"
      ]
     },
     "execution_count": 17,
     "metadata": {},
     "output_type": "execute_result"
    }
   ],
   "source": [
    "import numpy as np\n"
   ]
  },
  {
   "cell_type": "code",
   "execution_count": 16,
   "metadata": {},
   "outputs": [
    {
     "data": {
      "text/html": [
       "<div>\n",
       "<style scoped>\n",
       "    .dataframe tbody tr th:only-of-type {\n",
       "        vertical-align: middle;\n",
       "    }\n",
       "\n",
       "    .dataframe tbody tr th {\n",
       "        vertical-align: top;\n",
       "    }\n",
       "\n",
       "    .dataframe thead th {\n",
       "        text-align: right;\n",
       "    }\n",
       "</style>\n",
       "<table border=\"1\" class=\"dataframe\">\n",
       "  <thead>\n",
       "    <tr style=\"text-align: right;\">\n",
       "      <th></th>\n",
       "      <th>identifiant</th>\n",
       "      <th>nom_etablissement</th>\n",
       "      <th>numero_siret_true</th>\n",
       "      <th>adresse</th>\n",
       "      <th>code_postal</th>\n",
       "      <th>commune</th>\n",
       "      <th>departement</th>\n",
       "      <th>region</th>\n",
       "      <th>coordonnees_x</th>\n",
       "      <th>coordonnees_y</th>\n",
       "      <th>code_epsg</th>\n",
       "      <th>code_ape</th>\n",
       "      <th>libelle_ape</th>\n",
       "      <th>code_eprtr</th>\n",
       "      <th>libelle_eprtr</th>\n",
       "    </tr>\n",
       "  </thead>\n",
       "  <tbody>\n",
       "    <tr>\n",
       "      <th>0</th>\n",
       "      <td>9073402</td>\n",
       "      <td>STEP - BEZIERS</td>\n",
       "      <td>41003460701688</td>\n",
       "      <td>Plaine Saint Pierre</td>\n",
       "      <td>34500</td>\n",
       "      <td>BEZIERS</td>\n",
       "      <td>HERAULT</td>\n",
       "      <td>OCCITANIE</td>\n",
       "      <td>672948.910000</td>\n",
       "      <td>1.813634e+06</td>\n",
       "      <td>27572.0</td>\n",
       "      <td>3700Z</td>\n",
       "      <td>Collecte et traitement des eaux usées</td>\n",
       "      <td>5.(f)</td>\n",
       "      <td>Installations de traitement des eaux urbaines ...</td>\n",
       "    </tr>\n",
       "    <tr>\n",
       "      <th>1</th>\n",
       "      <td>9076401</td>\n",
       "      <td>STEP - Pont de l'aveugle</td>\n",
       "      <td>20006710600241</td>\n",
       "      <td>17 avenue de l'adour</td>\n",
       "      <td>64600</td>\n",
       "      <td>ANGLET</td>\n",
       "      <td>PYRENEES-ATLANTIQUES</td>\n",
       "      <td>NOUVELLE-AQUITAINE</td>\n",
       "      <td>-1.498014</td>\n",
       "      <td>4.350209e+01</td>\n",
       "      <td>4326.0</td>\n",
       "      <td>3700Z</td>\n",
       "      <td>Collecte et traitement des eaux usées</td>\n",
       "      <td>5.(f)</td>\n",
       "      <td>Installations de traitement des eaux urbaines ...</td>\n",
       "    </tr>\n",
       "    <tr>\n",
       "      <th>2</th>\n",
       "      <td>9076202</td>\n",
       "      <td>STEP - Loison Sous Lens</td>\n",
       "      <td>57202552600813</td>\n",
       "      <td>1 route de lens</td>\n",
       "      <td>62218</td>\n",
       "      <td>LOISON-SOUS-LENS</td>\n",
       "      <td>PAS-DE-CALAIS</td>\n",
       "      <td>HAUTS-DE-FRANCE</td>\n",
       "      <td>2.856548</td>\n",
       "      <td>5.043594e+01</td>\n",
       "      <td>4326.0</td>\n",
       "      <td>3700Z</td>\n",
       "      <td>Collecte et traitement des eaux usées</td>\n",
       "      <td>5.(f)</td>\n",
       "      <td>Installations de traitement des eaux urbaines ...</td>\n",
       "    </tr>\n",
       "    <tr>\n",
       "      <th>3</th>\n",
       "      <td>9077801</td>\n",
       "      <td>SIAAP - Site Seine Aval</td>\n",
       "      <td>25755000400044</td>\n",
       "      <td>BP 104</td>\n",
       "      <td>78603</td>\n",
       "      <td>MAISONS-LAFFITTE</td>\n",
       "      <td>YVELINES</td>\n",
       "      <td>ILE-DE-FRANCE</td>\n",
       "      <td>2.140590</td>\n",
       "      <td>4.898410e+01</td>\n",
       "      <td>4326.0</td>\n",
       "      <td>3700Z</td>\n",
       "      <td>Collecte et traitement des eaux usées</td>\n",
       "      <td>5.(f)</td>\n",
       "      <td>Installations de traitement des eaux urbaines ...</td>\n",
       "    </tr>\n",
       "    <tr>\n",
       "      <th>4</th>\n",
       "      <td>9079001</td>\n",
       "      <td>UDEP-BELFORT</td>\n",
       "      <td>20006905200070</td>\n",
       "      <td>Boulevard Dunant (entrée par Allée des Grands ...</td>\n",
       "      <td>90000</td>\n",
       "      <td>BELFORT</td>\n",
       "      <td>TERRITOIRE-DE-BELFORT</td>\n",
       "      <td>BOURGOGNE-FRANCHE-COMTE</td>\n",
       "      <td>6.861504</td>\n",
       "      <td>4.762541e+01</td>\n",
       "      <td>4326.0</td>\n",
       "      <td>3700Z</td>\n",
       "      <td>Collecte et traitement des eaux usées</td>\n",
       "      <td>5.(f)</td>\n",
       "      <td>Installations de traitement des eaux urbaines ...</td>\n",
       "    </tr>\n",
       "  </tbody>\n",
       "</table>\n",
       "</div>"
      ],
      "text/plain": [
       "   identifiant         nom_etablissement  numero_siret_true  \\\n",
       "0      9073402            STEP - BEZIERS     41003460701688   \n",
       "1      9076401  STEP - Pont de l'aveugle     20006710600241   \n",
       "2      9076202   STEP - Loison Sous Lens     57202552600813   \n",
       "3      9077801   SIAAP - Site Seine Aval     25755000400044   \n",
       "4      9079001              UDEP-BELFORT     20006905200070   \n",
       "\n",
       "                                             adresse  code_postal  \\\n",
       "0                                Plaine Saint Pierre        34500   \n",
       "1                               17 avenue de l'adour        64600   \n",
       "2                                    1 route de lens        62218   \n",
       "3                                             BP 104        78603   \n",
       "4  Boulevard Dunant (entrée par Allée des Grands ...        90000   \n",
       "\n",
       "            commune            departement                   region  \\\n",
       "0           BEZIERS                HERAULT                OCCITANIE   \n",
       "1            ANGLET   PYRENEES-ATLANTIQUES       NOUVELLE-AQUITAINE   \n",
       "2  LOISON-SOUS-LENS          PAS-DE-CALAIS          HAUTS-DE-FRANCE   \n",
       "3  MAISONS-LAFFITTE               YVELINES            ILE-DE-FRANCE   \n",
       "4           BELFORT  TERRITOIRE-DE-BELFORT  BOURGOGNE-FRANCHE-COMTE   \n",
       "\n",
       "   coordonnees_x  coordonnees_y  code_epsg code_ape  \\\n",
       "0  672948.910000   1.813634e+06    27572.0    3700Z   \n",
       "1      -1.498014   4.350209e+01     4326.0    3700Z   \n",
       "2       2.856548   5.043594e+01     4326.0    3700Z   \n",
       "3       2.140590   4.898410e+01     4326.0    3700Z   \n",
       "4       6.861504   4.762541e+01     4326.0    3700Z   \n",
       "\n",
       "                             libelle_ape code_eprtr  \\\n",
       "0  Collecte et traitement des eaux usées      5.(f)   \n",
       "1  Collecte et traitement des eaux usées      5.(f)   \n",
       "2  Collecte et traitement des eaux usées      5.(f)   \n",
       "3  Collecte et traitement des eaux usées      5.(f)   \n",
       "4  Collecte et traitement des eaux usées      5.(f)   \n",
       "\n",
       "                                       libelle_eprtr  \n",
       "0  Installations de traitement des eaux urbaines ...  \n",
       "1  Installations de traitement des eaux urbaines ...  \n",
       "2  Installations de traitement des eaux urbaines ...  \n",
       "3  Installations de traitement des eaux urbaines ...  \n",
       "4  Installations de traitement des eaux urbaines ...  "
      ]
     },
     "execution_count": 16,
     "metadata": {},
     "output_type": "execute_result"
    }
   ],
   "source": [
    "df[\"siret_elastic\"] = [res['responses'][i]['hits']['hits'][0][\"_source\"][\"siret_id\"] if res['responses'][i]['hits']['hits'] else np.NaN for i in range(4) ]"
   ]
  },
  {
   "cell_type": "code",
   "execution_count": null,
   "metadata": {},
   "outputs": [],
   "source": []
  },
  {
   "cell_type": "code",
   "execution_count": null,
   "metadata": {},
   "outputs": [],
   "source": []
  }
 ],
 "metadata": {
  "interpreter": {
   "hash": "ed5946f2a0d3f5e934efd92075c2a89b2cb5130d0efd6e4509a568bedf48ed26"
  },
  "kernelspec": {
   "display_name": "Python 3.10.4 ('basesspcloud')",
   "language": "python",
   "name": "python3"
  },
  "language_info": {
   "codemirror_mode": {
    "name": "ipython",
    "version": 3
   },
   "file_extension": ".py",
   "mimetype": "text/x-python",
   "name": "python",
   "nbconvert_exporter": "python",
   "pygments_lexer": "ipython3",
   "version": "3.10.4"
  },
  "orig_nbformat": 4
 },
 "nbformat": 4,
 "nbformat_minor": 2
}
