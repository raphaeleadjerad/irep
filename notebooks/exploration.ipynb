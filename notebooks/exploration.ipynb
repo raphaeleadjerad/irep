{
 "cells": [
  {
   "cell_type": "code",
   "execution_count": 1,
   "metadata": {},
   "outputs": [
    {
     "data": {
      "text/plain": [
       "dict_keys(['rejets', 'etablissements', 'emissions', 'Trait_dechets_non_dangereux', 'Trait_dechets_dangereux', 'Prod_dechets_non_dangereux', 'Prod_dechets_dangereux', 'Prelevements'])"
      ]
     },
     "execution_count": 1,
     "metadata": {},
     "output_type": "execute_result"
    }
   ],
   "source": [
    "# Importation des bases\n",
    "import pandas as pd\n",
    "import functions as fc\n",
    "\n",
    "dict_data = fc.read_all_raw(fc.list_bases)\n",
    "dict_data.keys()"
   ]
  },
  {
   "cell_type": "code",
   "execution_count": 2,
   "metadata": {},
   "outputs": [],
   "source": [
    "etab = dict_data['etablissements']\n",
    "etab_not_null = etab.dropna(subset = ['code_epsg'])\n",
    "etab_null = etab.loc[etab['code_epsg'].isnull()]\n",
    "gb = etab_not_null.groupby(\"code_epsg\")\n",
    "gb = [gb.get_group(x) for x in gb.groups]"
   ]
  },
  {
   "cell_type": "code",
   "execution_count": 16,
   "metadata": {},
   "outputs": [],
   "source": [
    "import geopandas as gpd\n",
    "\n",
    "def transform_wgs84(df, epsg):\n",
    "    etab = gpd.GeoDataFrame(\n",
    "        df,\n",
    "        geometry=gpd.points_from_xy(\n",
    "            df['coordonnees_x'],\n",
    "            df['coordonnees_y']\n",
    "        ),\n",
    "        crs = epsg)\n",
    "    etab = etab.to_crs(4326)\n",
    "    etab['x'] = etab['geometry'].x \n",
    "    etab['y'] = etab['geometry'].y\n",
    "    etab = pd.DataFrame(etab)\n",
    "    return etab\n",
    "    \n",
    "temp = [\n",
    "    transform_wgs84(\n",
    "        gb[idx],\n",
    "        gb[idx]['code_epsg'].iloc[0]\n",
    "    ) for idx in range(len(gb)) \n",
    "]\n",
    "temp = pd.concat(\n",
    "    temp\n",
    ")\n",
    "etab = pd.concat(\n",
    "    [toto, etab_null]\n",
    ")"
   ]
  },
  {
   "cell_type": "code",
   "execution_count": 19,
   "metadata": {},
   "outputs": [
    {
     "name": "stderr",
     "output_type": "stream",
     "text": [
      "/home/coder/local/bin/conda/envs/basesspcloud/lib/python3.10/site-packages/elasticsearch/connection/base.py:200: ElasticsearchWarning: Elasticsearch built-in security features are not enabled. Without authentication, your cluster could be accessible to anyone. See https://www.elastic.co/guide/en/elasticsearch/reference/7.17/security-minimal-setup.html to enable security.\n",
      "  warnings.warn(message, category=ElasticsearchWarning)\n"
     ]
    },
    {
     "data": {
      "text/html": [
       "<div>\n",
       "<style scoped>\n",
       "    .dataframe tbody tr th:only-of-type {\n",
       "        vertical-align: middle;\n",
       "    }\n",
       "\n",
       "    .dataframe tbody tr th {\n",
       "        vertical-align: top;\n",
       "    }\n",
       "\n",
       "    .dataframe thead th {\n",
       "        text-align: right;\n",
       "    }\n",
       "</style>\n",
       "<table border=\"1\" class=\"dataframe\">\n",
       "  <thead>\n",
       "    <tr style=\"text-align: right;\">\n",
       "      <th></th>\n",
       "      <th>sirus_id</th>\n",
       "      <th>nic</th>\n",
       "      <th>ape</th>\n",
       "      <th>apet</th>\n",
       "      <th>eff_3112_et</th>\n",
       "      <th>eff_etp_et</th>\n",
       "      <th>eff_et_effet_daaaammjj</th>\n",
       "      <th>enseigne_et1</th>\n",
       "      <th>nom_comm_et</th>\n",
       "      <th>adr_et_loc_geo</th>\n",
       "      <th>...</th>\n",
       "      <th>eff_etp_unitelegale</th>\n",
       "      <th>eff_effet_daaaammjj_unitelegale</th>\n",
       "      <th>siret_id</th>\n",
       "      <th>siret</th>\n",
       "      <th>longitude</th>\n",
       "      <th>latitude</th>\n",
       "      <th>geo_score</th>\n",
       "      <th>geo_type</th>\n",
       "      <th>geo_adresse</th>\n",
       "      <th>location</th>\n",
       "    </tr>\n",
       "  </thead>\n",
       "  <tbody>\n",
       "    <tr>\n",
       "      <th>0</th>\n",
       "      <td>213801707</td>\n",
       "      <td>00075</td>\n",
       "      <td>8411Z</td>\n",
       "      <td>3700Z</td>\n",
       "      <td></td>\n",
       "      <td></td>\n",
       "      <td></td>\n",
       "      <td>SERVICE ASSAINISSEMENT</td>\n",
       "      <td></td>\n",
       "      <td>38170</td>\n",
       "      <td>...</td>\n",
       "      <td>62.0</td>\n",
       "      <td>20181231</td>\n",
       "      <td>21380170700075</td>\n",
       "      <td>21380170700075</td>\n",
       "      <td>5.663968</td>\n",
       "      <td>45.257715</td>\n",
       "      <td>0.96</td>\n",
       "      <td>housenumber</td>\n",
       "      <td>2 Rue Fétola 38120 Fontanil-Cornillon</td>\n",
       "      <td>45.257715, 5.663968</td>\n",
       "    </tr>\n",
       "  </tbody>\n",
       "</table>\n",
       "<p>1 rows × 49 columns</p>\n",
       "</div>"
      ],
      "text/plain": [
       "    sirus_id    nic    ape   apet eff_3112_et eff_etp_et  \\\n",
       "0  213801707  00075  8411Z  3700Z                          \n",
       "\n",
       "  eff_et_effet_daaaammjj            enseigne_et1 nom_comm_et adr_et_loc_geo  \\\n",
       "0                         SERVICE ASSAINISSEMENT                      38170   \n",
       "\n",
       "   ... eff_etp_unitelegale eff_effet_daaaammjj_unitelegale        siret_id  \\\n",
       "0  ...                62.0                        20181231  21380170700075   \n",
       "\n",
       "            siret longitude   latitude geo_score     geo_type  \\\n",
       "0  21380170700075  5.663968  45.257715      0.96  housenumber   \n",
       "\n",
       "                             geo_adresse             location  \n",
       "0  2 Rue Fétola 38120 Fontanil-Cornillon  45.257715, 5.663968  \n",
       "\n",
       "[1 rows x 49 columns]"
      ]
     },
     "execution_count": 19,
     "metadata": {},
     "output_type": "execute_result"
    }
   ],
   "source": [
    "df = etab.copy()\n",
    "df = df.rename({'numero_siret': \"numero_siret_true\"}, axis = 1)\n",
    "df[\"code_apet\"] = df[\"code_ape\"].str[:4]\n",
    "\n",
    "requete_type = '''{{ \n",
    "  \"query\": {{\n",
    "    \"bool\": {{\n",
    "      \"should\": [\n",
    "        {{ \"match\": {{ \"rs_denom\":   \"{nom_etablissement}\" }}}}\n",
    "      ],\n",
    "      \"filter\": [\n",
    "        {{ \"match\":  {{ \"adr_et_post\": \"{code_postal}\" }}}},\n",
    "        {{ \"prefix\":  {{ \"apet\": \"{code_apet}\" }}}}\n",
    "      ]\n",
    "    }}\n",
    "  }},\n",
    "  \"size\": 1\n",
    "}}'''\n",
    "\n",
    "\n",
    "\n",
    "\n",
    "# Il est nécessaire de spécifier l'index associé à chaque requête\n",
    "header = '{\"index\" : \"sirus_2020\"}'\n",
    "\n",
    "multiple_requetes = \"\"\n",
    "\n",
    "# On itère sur le dataframe d'établissements polluants pour ajouter une requête spécifique à chacun d'entre eux\n",
    "for index, row in df.loc[:,['nom_etablissement',  'code_postal', 'code_apet']].iterrows():\n",
    "    \n",
    "    multiple_requetes+= header\n",
    "    multiple_requetes+= '\\n'\n",
    "    multiple_requetes+= requete_type.format_map(row).replace(\"\\n\",\"\")\n",
    "    multiple_requetes+= '\\n'\n",
    "\n",
    "\n",
    "\n",
    "res = fc.es.msearch(body = multiple_requetes, max_concurrent_searches = 500)\n",
    "\n",
    "temp = pd.json_normalize(res,record_path=[\"responses\"])\n",
    "\n",
    "def get_product_echo(echo):\n",
    "    if echo:\n",
    "        return echo[0]['_source']\n",
    "    else:\n",
    "        return None\n",
    "\n",
    "out_elastic = temp.apply(\n",
    "        lambda l: get_product_echo(l['hits.hits']),\n",
    "        axis=1, result_type=\"expand\")\n",
    "out_elastic.head(1)"
   ]
  },
  {
   "cell_type": "markdown",
   "metadata": {},
   "source": [
    "## Les émissions de CO2\n",
    "\n",
    "On va commencer par se focaliser sur les gros émetteurs de CO2"
   ]
  },
  {
   "cell_type": "code",
   "execution_count": null,
   "metadata": {},
   "outputs": [],
   "source": [
    "emissions = dict_data['emissions']\n",
    "emissions_co2 = emissions.loc[emissions['polluant'].str.contains(\"CO2\")]\n",
    "emissions_co2 = emissions_co2.loc[emissions_co2['polluant'].str.contains('total')]\n",
    "emissions_co2.head(1)"
   ]
  },
  {
   "cell_type": "code",
   "execution_count": null,
   "metadata": {},
   "outputs": [],
   "source": [
    "emissions_co2['quantite'].div(1000).plot.hist(logx = True)"
   ]
  },
  {
   "cell_type": "code",
   "execution_count": null,
   "metadata": {},
   "outputs": [],
   "source": [
    "dict_data.head(1)"
   ]
  },
  {
   "cell_type": "code",
   "execution_count": null,
   "metadata": {},
   "outputs": [],
   "source": [
    "dict_data['emissions'][\"annee_emission\"].value_counts()"
   ]
  },
  {
   "cell_type": "code",
   "execution_count": null,
   "metadata": {},
   "outputs": [],
   "source": [
    "dict_data['emissions'][\"milieu\"].value_counts()"
   ]
  },
  {
   "cell_type": "code",
   "execution_count": null,
   "metadata": {},
   "outputs": [],
   "source": [
    "dechets_dang = dict_data['Trait_dechets_dangereux']"
   ]
  },
  {
   "cell_type": "code",
   "execution_count": null,
   "metadata": {},
   "outputs": [],
   "source": [
    "dict_data['etablissements']['identifiant'].nunique()"
   ]
  },
  {
   "cell_type": "code",
   "execution_count": null,
   "metadata": {},
   "outputs": [],
   "source": [
    "dict_data['etablissements'].head(1)"
   ]
  },
  {
   "cell_type": "code",
   "execution_count": null,
   "metadata": {},
   "outputs": [],
   "source": [
    "dict_data"
   ]
  },
  {
   "cell_type": "code",
   "execution_count": null,
   "metadata": {},
   "outputs": [],
   "source": []
  }
 ],
 "metadata": {
  "interpreter": {
   "hash": "ed5946f2a0d3f5e934efd92075c2a89b2cb5130d0efd6e4509a568bedf48ed26"
  },
  "kernelspec": {
   "display_name": "Python 3 (ipykernel)",
   "language": "python",
   "name": "python3"
  },
  "language_info": {
   "codemirror_mode": {
    "name": "ipython",
    "version": 3
   },
   "file_extension": ".py",
   "mimetype": "text/x-python",
   "name": "python",
   "nbconvert_exporter": "python",
   "pygments_lexer": "ipython3",
   "version": "3.10.4"
  }
 },
 "nbformat": 4,
 "nbformat_minor": 4
}
