{
 "cells": [
  {
   "cell_type": "code",
   "execution_count": 181,
   "metadata": {},
   "outputs": [
    {
     "data": {
      "text/plain": [
       "dict_keys(['rejets', 'etablissements', 'emissions', 'Trait_dechets_non_dangereux', 'Trait_dechets_dangereux', 'Prod_dechets_non_dangereux', 'Prod_dechets_dangereux', 'Prelevements'])"
      ]
     },
     "execution_count": 181,
     "metadata": {},
     "output_type": "execute_result"
    }
   ],
   "source": [
    "# Importation des bases\n",
    "import pandas as pd\n",
    "import functions as fc\n",
    "import numpy as np\n",
    "\n",
    "dict_data = fc.read_all_raw(fc.list_bases)\n",
    "dict_data.keys()"
   ]
  },
  {
   "cell_type": "code",
   "execution_count": 188,
   "metadata": {},
   "outputs": [],
   "source": [
    "df = fc.clean_data_etab(\n",
    "    dict_data['etablissements']\n",
    "    )"
   ]
  },
  {
   "cell_type": "code",
   "execution_count": 208,
   "metadata": {},
   "outputs": [
    {
     "data": {
      "text/html": [
       "<div>\n",
       "<style scoped>\n",
       "    .dataframe tbody tr th:only-of-type {\n",
       "        vertical-align: middle;\n",
       "    }\n",
       "\n",
       "    .dataframe tbody tr th {\n",
       "        vertical-align: top;\n",
       "    }\n",
       "\n",
       "    .dataframe thead th {\n",
       "        text-align: right;\n",
       "    }\n",
       "</style>\n",
       "<table border=\"1\" class=\"dataframe\">\n",
       "  <thead>\n",
       "    <tr style=\"text-align: right;\">\n",
       "      <th></th>\n",
       "      <th>identifiant</th>\n",
       "      <th>nom_etablissement</th>\n",
       "      <th>numero_siret</th>\n",
       "      <th>adresse</th>\n",
       "      <th>code_postal</th>\n",
       "      <th>commune</th>\n",
       "      <th>departement</th>\n",
       "      <th>region</th>\n",
       "      <th>coordonnees_x</th>\n",
       "      <th>coordonnees_y</th>\n",
       "      <th>code_epsg</th>\n",
       "      <th>code_ape</th>\n",
       "      <th>libelle_ape</th>\n",
       "      <th>code_eprtr</th>\n",
       "      <th>libelle_eprtr</th>\n",
       "    </tr>\n",
       "  </thead>\n",
       "  <tbody>\n",
       "    <tr>\n",
       "      <th>0</th>\n",
       "      <td>9073402</td>\n",
       "      <td>STEP - BEZIERS</td>\n",
       "      <td>41003460701688</td>\n",
       "      <td>Plaine Saint Pierre</td>\n",
       "      <td>34500</td>\n",
       "      <td>BEZIERS</td>\n",
       "      <td>HERAULT</td>\n",
       "      <td>OCCITANIE</td>\n",
       "      <td>672948.91</td>\n",
       "      <td>1813634.13</td>\n",
       "      <td>27572.0</td>\n",
       "      <td>3700Z</td>\n",
       "      <td>Collecte et traitement des eaux usées</td>\n",
       "      <td>5.(f)</td>\n",
       "      <td>Installations de traitement des eaux urbaines ...</td>\n",
       "    </tr>\n",
       "  </tbody>\n",
       "</table>\n",
       "</div>"
      ],
      "text/plain": [
       "   identifiant nom_etablissement    numero_siret              adresse  \\\n",
       "0      9073402    STEP - BEZIERS  41003460701688  Plaine Saint Pierre   \n",
       "\n",
       "   code_postal  commune departement     region  coordonnees_x  coordonnees_y  \\\n",
       "0        34500  BEZIERS     HERAULT  OCCITANIE      672948.91     1813634.13   \n",
       "\n",
       "   code_epsg code_ape                            libelle_ape code_eprtr  \\\n",
       "0    27572.0    3700Z  Collecte et traitement des eaux usées      5.(f)   \n",
       "\n",
       "                                       libelle_eprtr  \n",
       "0  Installations de traitement des eaux urbaines ...  "
      ]
     },
     "execution_count": 208,
     "metadata": {},
     "output_type": "execute_result"
    }
   ],
   "source": [
    "dict_data['etablissements'].head(1)"
   ]
  },
  {
   "cell_type": "code",
   "execution_count": 296,
   "metadata": {},
   "outputs": [],
   "source": [
    "request_template = '''{{ \n",
    "  \"query\": {{\n",
    "    \"bool\": {{\n",
    "      \"should\": [\n",
    "        {{\"multi_match\" : {{\"query\":\"{nom_etablissement}\", \"type\":\"best_fields\", \"fields\": [ \"denom\", \"enseigne\", \"nom_comm_et\", \"adr_et_l1\",\"adr_et_l2\", \"denom_condense\", \"enseigne_et1\" ],\"tie_breaker\": 0.1}}}},\n",
    "        {{ \"match\": {{ \"sir_adr_et_com_lib\":  {{ \"query\":  \"{commune}\"  }} }} }}\n",
    "      ],\n",
    "      \"filter\": [\n",
    "        {{ \"prefix\":  {{ \"apet\": \"{code_apet}\" }}}},\n",
    "        {{ \"geo_distance\": {{\n",
    "                  \"distance\": \"10km\",\n",
    "                  \"location\": {{\n",
    "                        \"lat\": \"{y}\", \n",
    "                        \"lon\": \"{x}\"\n",
    "                              }}\n",
    "                            }}\n",
    "            }}\n",
    "      ]\n",
    "    }}\n",
    "  }},\n",
    "  \"size\": 1\n",
    "}}'''"
   ]
  },
  {
   "cell_type": "code",
   "execution_count": 305,
   "metadata": {},
   "outputs": [
    {
     "name": "stderr",
     "output_type": "stream",
     "text": [
      "/home/coder/local/bin/conda/envs/basesspcloud/lib/python3.10/site-packages/elasticsearch/connection/base.py:200: ElasticsearchWarning: Elasticsearch built-in security features are not enabled. Without authentication, your cluster could be accessible to anyone. See https://www.elastic.co/guide/en/elasticsearch/reference/7.17/security-minimal-setup.html to enable security.\n",
      "  warnings.warn(message, category=ElasticsearchWarning)\n"
     ]
    },
    {
     "name": "stdout",
     "output_type": "stream",
     "text": [
      "We found correct SIRET in 57.71% of cases\n"
     ]
    },
    {
     "name": "stderr",
     "output_type": "stream",
     "text": [
      "/home/coder/work/irep/notebooks/functions.py:99: SettingWithCopyWarning: \n",
      "A value is trying to be set on a copy of a slice from a DataFrame.\n",
      "Try using .loc[row_indexer,col_indexer] = value instead\n",
      "\n",
      "See the caveats in the documentation: https://pandas.pydata.org/pandas-docs/stable/user_guide/indexing.html#returning-a-view-versus-a-copy\n",
      "  df_temp[\"siret_elastic\"] = [res['responses'][i]['hits']['hits'][0][\"_source\"][\"siret_id\"] if \\\n",
      "/home/coder/work/irep/notebooks/functions.py:101: SettingWithCopyWarning: \n",
      "A value is trying to be set on a copy of a slice from a DataFrame.\n",
      "Try using .loc[row_indexer,col_indexer] = value instead\n",
      "\n",
      "See the caveats in the documentation: https://pandas.pydata.org/pandas-docs/stable/user_guide/indexing.html#returning-a-view-versus-a-copy\n",
      "  df_temp[\"match\"] = (df_temp[\"numero_siret_true\"].astype(str) == df_temp[\"siret_elastic\"].astype(str))\n",
      "/home/coder/work/irep/notebooks/functions.py:103: SettingWithCopyWarning: \n",
      "A value is trying to be set on a copy of a slice from a DataFrame.\n",
      "Try using .loc[row_indexer,col_indexer] = value instead\n",
      "\n",
      "See the caveats in the documentation: https://pandas.pydata.org/pandas-docs/stable/user_guide/indexing.html#returning-a-view-versus-a-copy\n",
      "  df_temp[\"nom_etab_elastic\"] = [res['responses'][i]['hits']['hits'][0][\"_source\"][\"denom\"] if \\\n",
      "/home/coder/work/irep/notebooks/functions.py:106: SettingWithCopyWarning: \n",
      "A value is trying to be set on a copy of a slice from a DataFrame.\n",
      "Try using .loc[row_indexer,col_indexer] = value instead\n",
      "\n",
      "See the caveats in the documentation: https://pandas.pydata.org/pandas-docs/stable/user_guide/indexing.html#returning-a-view-versus-a-copy\n",
      "  df_temp['nom_etablissement'] = df_temp['nom_etablissement'].astype(str)\n"
     ]
    }
   ],
   "source": [
    "fc = reload(fc)\n",
    "out = fc.pipeline_request(df.dropna(subset = [\"code_epsg\"]), request_template, cols = ['nom_etablissement',  'commune', 'code_apet', 'y', 'x'])"
   ]
  },
  {
   "cell_type": "code",
   "execution_count": 306,
   "metadata": {},
   "outputs": [
    {
     "data": {
      "text/html": [
       "<div>\n",
       "<style scoped>\n",
       "    .dataframe tbody tr th:only-of-type {\n",
       "        vertical-align: middle;\n",
       "    }\n",
       "\n",
       "    .dataframe tbody tr th {\n",
       "        vertical-align: top;\n",
       "    }\n",
       "\n",
       "    .dataframe thead th {\n",
       "        text-align: right;\n",
       "    }\n",
       "</style>\n",
       "<table border=\"1\" class=\"dataframe\">\n",
       "  <thead>\n",
       "    <tr style=\"text-align: right;\">\n",
       "      <th></th>\n",
       "      <th>nom_etablissement</th>\n",
       "      <th>code_ape</th>\n",
       "      <th>code_apet</th>\n",
       "      <th>nom_etab_elastic</th>\n",
       "    </tr>\n",
       "  </thead>\n",
       "  <tbody>\n",
       "    <tr>\n",
       "      <th>34</th>\n",
       "      <td>SCEA DAVID RIOU</td>\n",
       "      <td>0146Z</td>\n",
       "      <td>0146</td>\n",
       "      <td>SCEA DAVID RIOU</td>\n",
       "    </tr>\n",
       "    <tr>\n",
       "      <th>39</th>\n",
       "      <td>SO.BA.CA Carrière</td>\n",
       "      <td>0812Z</td>\n",
       "      <td>0812</td>\n",
       "      <td>SOCIETE BASQUE DE CARRIERES</td>\n",
       "    </tr>\n",
       "    <tr>\n",
       "      <th>40</th>\n",
       "      <td>SMDVDMAT TRIFYL</td>\n",
       "      <td>3821Z</td>\n",
       "      <td>3821</td>\n",
       "      <td>SYNDICAT MIXTE DEPARTEMENTAL POUR LA VALORISAT...</td>\n",
       "    </tr>\n",
       "    <tr>\n",
       "      <th>43</th>\n",
       "      <td>GROS ENVIRONNEMENT</td>\n",
       "      <td>4941A</td>\n",
       "      <td>4941</td>\n",
       "      <td>PAPREC GRAND EST</td>\n",
       "    </tr>\n",
       "    <tr>\n",
       "      <th>54</th>\n",
       "      <td>CASTAGNIER PERRET</td>\n",
       "      <td>3811Z</td>\n",
       "      <td>3811</td>\n",
       "      <td>ETABLISSEMENTS CASTAGNIER PERRET</td>\n",
       "    </tr>\n",
       "    <tr>\n",
       "      <th>...</th>\n",
       "      <td>...</td>\n",
       "      <td>...</td>\n",
       "      <td>...</td>\n",
       "      <td>...</td>\n",
       "    </tr>\n",
       "    <tr>\n",
       "      <th>8908</th>\n",
       "      <td>SCEA LEMOINE</td>\n",
       "      <td>0147Z</td>\n",
       "      <td>0147</td>\n",
       "      <td>LEMOINE</td>\n",
       "    </tr>\n",
       "    <tr>\n",
       "      <th>8909</th>\n",
       "      <td>EARL ROY Michel</td>\n",
       "      <td>0147Z</td>\n",
       "      <td>0147</td>\n",
       "      <td>EARL ROY</td>\n",
       "    </tr>\n",
       "    <tr>\n",
       "      <th>8944</th>\n",
       "      <td>DURAND Luc</td>\n",
       "      <td>4312A</td>\n",
       "      <td>4312</td>\n",
       "      <td>LUC DURAND</td>\n",
       "    </tr>\n",
       "    <tr>\n",
       "      <th>8954</th>\n",
       "      <td>LABORATOIRES RIVADIS SAS</td>\n",
       "      <td>2042Z</td>\n",
       "      <td>2042</td>\n",
       "      <td>LABORATOIRES RIVADIS SAS</td>\n",
       "    </tr>\n",
       "    <tr>\n",
       "      <th>8955</th>\n",
       "      <td>Centrale biogaz de Montauban de Bretagne</td>\n",
       "      <td>3511Z</td>\n",
       "      <td>3511</td>\n",
       "      <td>CENTRALE BIOGAZ DE MONTAUBAN-DE-BRETAGNE</td>\n",
       "    </tr>\n",
       "  </tbody>\n",
       "</table>\n",
       "<p>4435 rows × 4 columns</p>\n",
       "</div>"
      ],
      "text/plain": [
       "                             nom_etablissement code_ape code_apet  \\\n",
       "34                             SCEA DAVID RIOU    0146Z      0146   \n",
       "39                           SO.BA.CA Carrière    0812Z      0812   \n",
       "40                             SMDVDMAT TRIFYL    3821Z      3821   \n",
       "43                          GROS ENVIRONNEMENT    4941A      4941   \n",
       "54                           CASTAGNIER PERRET    3811Z      3811   \n",
       "...                                        ...      ...       ...   \n",
       "8908                              SCEA LEMOINE    0147Z      0147   \n",
       "8909                           EARL ROY Michel    0147Z      0147   \n",
       "8944                                DURAND Luc    4312A      4312   \n",
       "8954                  LABORATOIRES RIVADIS SAS    2042Z      2042   \n",
       "8955  Centrale biogaz de Montauban de Bretagne    3511Z      3511   \n",
       "\n",
       "                                       nom_etab_elastic  \n",
       "34                                      SCEA DAVID RIOU  \n",
       "39                          SOCIETE BASQUE DE CARRIERES  \n",
       "40    SYNDICAT MIXTE DEPARTEMENTAL POUR LA VALORISAT...  \n",
       "43                                     PAPREC GRAND EST  \n",
       "54                     ETABLISSEMENTS CASTAGNIER PERRET  \n",
       "...                                                 ...  \n",
       "8908                                            LEMOINE  \n",
       "8909                                           EARL ROY  \n",
       "8944                                         LUC DURAND  \n",
       "8954                           LABORATOIRES RIVADIS SAS  \n",
       "8955           CENTRALE BIOGAZ DE MONTAUBAN-DE-BRETAGNE  \n",
       "\n",
       "[4435 rows x 4 columns]"
      ]
     },
     "execution_count": 306,
     "metadata": {},
     "output_type": "execute_result"
    }
   ],
   "source": [
    "out.loc[df['match'], ['nom_etablissement',\"code_ape\", \"code_apet\", \"nom_etab_elastic\"]]"
   ]
  },
  {
   "cell_type": "code",
   "execution_count": 307,
   "metadata": {},
   "outputs": [
    {
     "data": {
      "text/html": [
       "<div>\n",
       "<style scoped>\n",
       "    .dataframe tbody tr th:only-of-type {\n",
       "        vertical-align: middle;\n",
       "    }\n",
       "\n",
       "    .dataframe tbody tr th {\n",
       "        vertical-align: top;\n",
       "    }\n",
       "\n",
       "    .dataframe thead th {\n",
       "        text-align: right;\n",
       "    }\n",
       "</style>\n",
       "<table border=\"1\" class=\"dataframe\">\n",
       "  <thead>\n",
       "    <tr style=\"text-align: right;\">\n",
       "      <th></th>\n",
       "      <th>nom_etablissement</th>\n",
       "      <th>code_ape</th>\n",
       "      <th>code_apet</th>\n",
       "      <th>nom_etab_elastic</th>\n",
       "    </tr>\n",
       "  </thead>\n",
       "  <tbody>\n",
       "    <tr>\n",
       "      <th>11</th>\n",
       "      <td>STEP - GRENOBLE / AQUAPOLE</td>\n",
       "      <td>3700Z</td>\n",
       "      <td>3700</td>\n",
       "      <td>COMMUNE DE FONTANIL CORNILLON</td>\n",
       "    </tr>\n",
       "    <tr>\n",
       "      <th>12</th>\n",
       "      <td>STEP Villefontaine/Traffeyere</td>\n",
       "      <td>3700Z</td>\n",
       "      <td>3700</td>\n",
       "      <td>SEDE ENVIRONNEMENT</td>\n",
       "    </tr>\n",
       "    <tr>\n",
       "      <th>13</th>\n",
       "      <td>STEP - Petite Californie</td>\n",
       "      <td>3700Z</td>\n",
       "      <td>3700</td>\n",
       "      <td>AFD44</td>\n",
       "    </tr>\n",
       "    <tr>\n",
       "      <th>16</th>\n",
       "      <td>STEP - MULHOUSE</td>\n",
       "      <td>3700Z</td>\n",
       "      <td>3700</td>\n",
       "      <td>COMMUNE DE MULHOUSE</td>\n",
       "    </tr>\n",
       "    <tr>\n",
       "      <th>40</th>\n",
       "      <td>SMDVDMAT TRIFYL</td>\n",
       "      <td>3821Z</td>\n",
       "      <td>3821</td>\n",
       "      <td>SYNDICAT MIXTE DEPARTEMENTAL POUR LA VALORISAT...</td>\n",
       "    </tr>\n",
       "    <tr>\n",
       "      <th>...</th>\n",
       "      <td>...</td>\n",
       "      <td>...</td>\n",
       "      <td>...</td>\n",
       "      <td>...</td>\n",
       "    </tr>\n",
       "    <tr>\n",
       "      <th>8937</th>\n",
       "      <td>CHB SAS - ISDI du Locum</td>\n",
       "      <td>0812Z</td>\n",
       "      <td>0812</td>\n",
       "      <td>SAGRADRANSE</td>\n",
       "    </tr>\n",
       "    <tr>\n",
       "      <th>8938</th>\n",
       "      <td>SABCOR</td>\n",
       "      <td>1011Z</td>\n",
       "      <td>1011</td>\n",
       "      <td>SOCIETE D'ABATTAGE DE BRIVE</td>\n",
       "    </tr>\n",
       "    <tr>\n",
       "      <th>8940</th>\n",
       "      <td>Les fromageries Saint-Saviol</td>\n",
       "      <td>1051C</td>\n",
       "      <td>1051</td>\n",
       "      <td>FROMAGERIES SAINT SAVIOL</td>\n",
       "    </tr>\n",
       "    <tr>\n",
       "      <th>8942</th>\n",
       "      <td>Luc DURAND</td>\n",
       "      <td>4312A</td>\n",
       "      <td>4312</td>\n",
       "      <td>LUC DURAND</td>\n",
       "    </tr>\n",
       "    <tr>\n",
       "      <th>8943</th>\n",
       "      <td>Kolbenschmidt France SAS</td>\n",
       "      <td>2811Z</td>\n",
       "      <td>2811</td>\n",
       "      <td>NaN</td>\n",
       "    </tr>\n",
       "  </tbody>\n",
       "</table>\n",
       "<p>3728 rows × 4 columns</p>\n",
       "</div>"
      ],
      "text/plain": [
       "                  nom_etablissement code_ape code_apet  \\\n",
       "11       STEP - GRENOBLE / AQUAPOLE    3700Z      3700   \n",
       "12    STEP Villefontaine/Traffeyere    3700Z      3700   \n",
       "13         STEP - Petite Californie    3700Z      3700   \n",
       "16                  STEP - MULHOUSE    3700Z      3700   \n",
       "40                  SMDVDMAT TRIFYL    3821Z      3821   \n",
       "...                             ...      ...       ...   \n",
       "8937        CHB SAS - ISDI du Locum    0812Z      0812   \n",
       "8938                         SABCOR    1011Z      1011   \n",
       "8940   Les fromageries Saint-Saviol    1051C      1051   \n",
       "8942                     Luc DURAND    4312A      4312   \n",
       "8943       Kolbenschmidt France SAS    2811Z      2811   \n",
       "\n",
       "                                       nom_etab_elastic  \n",
       "11                        COMMUNE DE FONTANIL CORNILLON  \n",
       "12                                   SEDE ENVIRONNEMENT  \n",
       "13                                                AFD44  \n",
       "16                                  COMMUNE DE MULHOUSE  \n",
       "40    SYNDICAT MIXTE DEPARTEMENTAL POUR LA VALORISAT...  \n",
       "...                                                 ...  \n",
       "8937                                        SAGRADRANSE  \n",
       "8938                        SOCIETE D'ABATTAGE DE BRIVE  \n",
       "8940                           FROMAGERIES SAINT SAVIOL  \n",
       "8942                                         LUC DURAND  \n",
       "8943                                                NaN  \n",
       "\n",
       "[3728 rows x 4 columns]"
      ]
     },
     "execution_count": 307,
     "metadata": {},
     "output_type": "execute_result"
    }
   ],
   "source": [
    "out.loc[~out['match'], ['nom_etablissement',\"code_ape\", \"code_apet\", \"nom_etab_elastic\"]]"
   ]
  },
  {
   "cell_type": "code",
   "execution_count": 308,
   "metadata": {},
   "outputs": [],
   "source": [
    "request_template_2 = '''{{ \n",
    "  \"query\": {{\n",
    "    \"bool\": {{\n",
    "      \"should\": [\n",
    "        {{\"multi_match\" : {{\"query\":\"{nom_etablissement}\", \"boost\": 30, \"type\":\"best_fields\", \"fields\": [ \"denom\", \"enseigne\", \"nom_comm_et\", \"adr_et_l1\",\"adr_et_l2\", \"denom_condense\", \"enseigne_et1\" ],\"tie_breaker\": 0.1}}}},\n",
    "        {{ \"match\": {{ \"sir_adr_et_com_lib\":  {{ \"query\":  \"{commune}\"  }} }} }}\n",
    "      ],\n",
    "      \"filter\": [\n",
    "        {{ \"match\":  {{ \"adr_et_post\": \"{code_postal}\" }} }}\n",
    "      ]\n",
    "    }}\n",
    "  }},\n",
    "  \"size\": 1\n",
    "}}'''"
   ]
  },
  {
   "cell_type": "code",
   "execution_count": 310,
   "metadata": {},
   "outputs": [],
   "source": [
    "df_no_match = out.loc[~df['match']].loc[:, df.columns]"
   ]
  },
  {
   "cell_type": "code",
   "execution_count": 311,
   "metadata": {},
   "outputs": [
    {
     "name": "stdout",
     "output_type": "stream",
     "text": [
      "We found correct SIRET in 11.89% of cases\n"
     ]
    },
    {
     "name": "stderr",
     "output_type": "stream",
     "text": [
      "/home/coder/local/bin/conda/envs/basesspcloud/lib/python3.10/site-packages/elasticsearch/connection/base.py:200: ElasticsearchWarning: Elasticsearch built-in security features are not enabled. Without authentication, your cluster could be accessible to anyone. See https://www.elastic.co/guide/en/elasticsearch/reference/7.17/security-minimal-setup.html to enable security.\n",
      "  warnings.warn(message, category=ElasticsearchWarning)\n"
     ]
    }
   ],
   "source": [
    "out_2 = fc.pipeline_request(df_no_match, request_template_2, cols = ['nom_etablissement',  'commune', 'code_postal'])"
   ]
  },
  {
   "cell_type": "code",
   "execution_count": 313,
   "metadata": {},
   "outputs": [
    {
     "data": {
      "text/html": [
       "<div>\n",
       "<style scoped>\n",
       "    .dataframe tbody tr th:only-of-type {\n",
       "        vertical-align: middle;\n",
       "    }\n",
       "\n",
       "    .dataframe tbody tr th {\n",
       "        vertical-align: top;\n",
       "    }\n",
       "\n",
       "    .dataframe thead th {\n",
       "        text-align: right;\n",
       "    }\n",
       "</style>\n",
       "<table border=\"1\" class=\"dataframe\">\n",
       "  <thead>\n",
       "    <tr style=\"text-align: right;\">\n",
       "      <th></th>\n",
       "      <th>nom_etablissement</th>\n",
       "      <th>code_ape</th>\n",
       "      <th>code_apet</th>\n",
       "      <th>nom_etab_elastic</th>\n",
       "      <th>numero_siret_true</th>\n",
       "      <th>siret_elastic</th>\n",
       "    </tr>\n",
       "  </thead>\n",
       "  <tbody>\n",
       "    <tr>\n",
       "      <th>63</th>\n",
       "      <td>MICRONOR</td>\n",
       "      <td>2561Z</td>\n",
       "      <td>2561</td>\n",
       "      <td>MICRONOR</td>\n",
       "      <td>68200029400038</td>\n",
       "      <td>68200029400038</td>\n",
       "    </tr>\n",
       "    <tr>\n",
       "      <th>74</th>\n",
       "      <td>JEAN PIERRE TALLEC L'HERITAGE DU GOUT</td>\n",
       "      <td>1013A</td>\n",
       "      <td>1013</td>\n",
       "      <td>JEAN-PIERRE TALLEC-L'HERITAGE DU GOUT</td>\n",
       "      <td>57202153300045</td>\n",
       "      <td>57202153300045</td>\n",
       "    </tr>\n",
       "    <tr>\n",
       "      <th>80</th>\n",
       "      <td>EARL DARE</td>\n",
       "      <td>0150Z</td>\n",
       "      <td>0150</td>\n",
       "      <td>EARL DARE</td>\n",
       "      <td>38822958500012</td>\n",
       "      <td>38822958500012</td>\n",
       "    </tr>\n",
       "    <tr>\n",
       "      <th>91</th>\n",
       "      <td>SCEA DES BRUYERES</td>\n",
       "      <td>0146Z</td>\n",
       "      <td>0146</td>\n",
       "      <td>DES BRUYERES</td>\n",
       "      <td>38276225000019</td>\n",
       "      <td>38276225000019</td>\n",
       "    </tr>\n",
       "    <tr>\n",
       "      <th>109</th>\n",
       "      <td>DEMOLITION AUTOMOBILE CROIX LUIZET</td>\n",
       "      <td>4511Z</td>\n",
       "      <td>4511</td>\n",
       "      <td>DEMOLITION AUTOS DE CROIX LUIZET</td>\n",
       "      <td>33458241800029</td>\n",
       "      <td>33458241800029</td>\n",
       "    </tr>\n",
       "    <tr>\n",
       "      <th>...</th>\n",
       "      <td>...</td>\n",
       "      <td>...</td>\n",
       "      <td>...</td>\n",
       "      <td>...</td>\n",
       "      <td>...</td>\n",
       "      <td>...</td>\n",
       "    </tr>\n",
       "    <tr>\n",
       "      <th>8674</th>\n",
       "      <td>Mairie</td>\n",
       "      <td>3811Z</td>\n",
       "      <td>3811</td>\n",
       "      <td>COMMUNE DE XERTIGNY</td>\n",
       "      <td>21880530700012</td>\n",
       "      <td>21880530700012</td>\n",
       "    </tr>\n",
       "    <tr>\n",
       "      <th>8678</th>\n",
       "      <td>LETOURNEUR MICHEL</td>\n",
       "      <td>4511Z</td>\n",
       "      <td>4511</td>\n",
       "      <td></td>\n",
       "      <td>90697142900020</td>\n",
       "      <td>90697142900020</td>\n",
       "    </tr>\n",
       "    <tr>\n",
       "      <th>8720</th>\n",
       "      <td>ALUMINIUM FERRI</td>\n",
       "      <td>2599B</td>\n",
       "      <td>2599</td>\n",
       "      <td>ALUMINIUM FERRI</td>\n",
       "      <td>58213749300026</td>\n",
       "      <td>58213749300026</td>\n",
       "    </tr>\n",
       "    <tr>\n",
       "      <th>8738</th>\n",
       "      <td>SARL BREMOND Freres ISDI</td>\n",
       "      <td>3821Z</td>\n",
       "      <td>3821</td>\n",
       "      <td>SARL BREMOND</td>\n",
       "      <td>32950383300017</td>\n",
       "      <td>32950383300017</td>\n",
       "    </tr>\n",
       "    <tr>\n",
       "      <th>8943</th>\n",
       "      <td>Kolbenschmidt France SAS</td>\n",
       "      <td>2811Z</td>\n",
       "      <td>2811</td>\n",
       "      <td>KS KOLBENSCHMIDT FRANCE</td>\n",
       "      <td>35190667200016</td>\n",
       "      <td>35190667200016</td>\n",
       "    </tr>\n",
       "  </tbody>\n",
       "</table>\n",
       "<p>521 rows × 6 columns</p>\n",
       "</div>"
      ],
      "text/plain": [
       "                          nom_etablissement code_ape code_apet  \\\n",
       "63                                 MICRONOR    2561Z      2561   \n",
       "74    JEAN PIERRE TALLEC L'HERITAGE DU GOUT    1013A      1013   \n",
       "80                                EARL DARE    0150Z      0150   \n",
       "91                        SCEA DES BRUYERES    0146Z      0146   \n",
       "109      DEMOLITION AUTOMOBILE CROIX LUIZET    4511Z      4511   \n",
       "...                                     ...      ...       ...   \n",
       "8674                                 Mairie    3811Z      3811   \n",
       "8678                      LETOURNEUR MICHEL    4511Z      4511   \n",
       "8720                        ALUMINIUM FERRI    2599B      2599   \n",
       "8738               SARL BREMOND Freres ISDI    3821Z      3821   \n",
       "8943               Kolbenschmidt France SAS    2811Z      2811   \n",
       "\n",
       "                           nom_etab_elastic  numero_siret_true   siret_elastic  \n",
       "63                                 MICRONOR     68200029400038  68200029400038  \n",
       "74    JEAN-PIERRE TALLEC-L'HERITAGE DU GOUT     57202153300045  57202153300045  \n",
       "80                                EARL DARE     38822958500012  38822958500012  \n",
       "91                             DES BRUYERES     38276225000019  38276225000019  \n",
       "109        DEMOLITION AUTOS DE CROIX LUIZET     33458241800029  33458241800029  \n",
       "...                                     ...                ...             ...  \n",
       "8674                    COMMUNE DE XERTIGNY     21880530700012  21880530700012  \n",
       "8678                                            90697142900020  90697142900020  \n",
       "8720                        ALUMINIUM FERRI     58213749300026  58213749300026  \n",
       "8738                           SARL BREMOND     32950383300017  32950383300017  \n",
       "8943                KS KOLBENSCHMIDT FRANCE     35190667200016  35190667200016  \n",
       "\n",
       "[521 rows x 6 columns]"
      ]
     },
     "execution_count": 313,
     "metadata": {},
     "output_type": "execute_result"
    }
   ],
   "source": [
    "out_2.loc[out_2['match'], ['nom_etablissement',\"code_ape\", \"code_apet\", \"nom_etab_elastic\", \"numero_siret_true\", \"siret_elastic\"]]"
   ]
  },
  {
   "cell_type": "code",
   "execution_count": 317,
   "metadata": {},
   "outputs": [
    {
     "name": "stdout",
     "output_type": "stream",
     "text": [
      "Performance après step2: 63.62%\n"
     ]
    }
   ],
   "source": [
    "perf_step2 = (out_2['match'].sum() + out['match'].sum())/df.dropna(subset = \"code_epsg\").shape[0]\n",
    "print(f\"Performance après step2: {perf_step2:.2%}\")"
   ]
  },
  {
   "cell_type": "markdown",
   "metadata": {},
   "source": [
    "Enjeu : trouver un critère statistique pour valider/invalider des paires elastic"
   ]
  },
  {
   "cell_type": "code",
   "execution_count": 321,
   "metadata": {},
   "outputs": [
    {
     "data": {
      "text/plain": [
       "<AxesSubplot:ylabel='Frequency'>"
      ]
     },
     "execution_count": 321,
     "metadata": {},
     "output_type": "execute_result"
    },
    {
     "data": {
      "image/png": "[encoded data removed]",
      "text/plain": [
       "<Figure size 432x288 with 1 Axes>"
      ]
     },
     "metadata": {
      "needs_background": "light"
     },
     "output_type": "display_data"
    }
   ],
   "source": [
    "out.loc[out['match'], \"textual_distance\"].plot.hist()"
   ]
  },
  {
   "cell_type": "code",
   "execution_count": 322,
   "metadata": {},
   "outputs": [
    {
     "data": {
      "text/plain": [
       "<AxesSubplot:ylabel='Frequency'>"
      ]
     },
     "execution_count": 322,
     "metadata": {},
     "output_type": "execute_result"
    },
    {
     "data": {
      "image/png": "[encoded data removed]",
      "text/plain": [
       "<Figure size 432x288 with 1 Axes>"
      ]
     },
     "metadata": {
      "needs_background": "light"
     },
     "output_type": "display_data"
    }
   ],
   "source": [
    "out.loc[~out['match'], \"textual_distance\"].plot.hist()"
   ]
  },
  {
   "cell_type": "markdown",
   "metadata": {},
   "source": [
    "## Les émissions de CO2\n",
    "\n",
    "On va commencer par se focaliser sur les gros émetteurs de CO2"
   ]
  },
  {
   "cell_type": "code",
   "execution_count": null,
   "metadata": {},
   "outputs": [],
   "source": [
    "emissions = dict_data['emissions']\n",
    "emissions_co2 = emissions.loc[emissions['polluant'].str.contains(\"CO2\")]\n",
    "emissions_co2 = emissions_co2.loc[emissions_co2['polluant'].str.contains('total')]\n",
    "emissions_co2.head(1)"
   ]
  },
  {
   "cell_type": "code",
   "execution_count": null,
   "metadata": {},
   "outputs": [],
   "source": [
    "emissions_co2['quantite'].div(1000).plot.hist(logx = True)"
   ]
  },
  {
   "cell_type": "code",
   "execution_count": null,
   "metadata": {},
   "outputs": [],
   "source": [
    "dict_data.head(1)"
   ]
  },
  {
   "cell_type": "code",
   "execution_count": null,
   "metadata": {},
   "outputs": [],
   "source": [
    "dict_data['emissions'][\"annee_emission\"].value_counts()"
   ]
  },
  {
   "cell_type": "code",
   "execution_count": null,
   "metadata": {},
   "outputs": [],
   "source": [
    "dict_data['emissions'][\"milieu\"].value_counts()"
   ]
  },
  {
   "cell_type": "code",
   "execution_count": null,
   "metadata": {},
   "outputs": [],
   "source": [
    "dechets_dang = dict_data['Trait_dechets_dangereux']"
   ]
  },
  {
   "cell_type": "code",
   "execution_count": null,
   "metadata": {},
   "outputs": [],
   "source": [
    "dict_data['etablissements']['identifiant'].nunique()"
   ]
  },
  {
   "cell_type": "code",
   "execution_count": null,
   "metadata": {},
   "outputs": [],
   "source": [
    "dict_data['etablissements'].head(1)"
   ]
  },
  {
   "cell_type": "code",
   "execution_count": null,
   "metadata": {},
   "outputs": [],
   "source": [
    "dict_data"
   ]
  },
  {
   "cell_type": "code",
   "execution_count": null,
   "metadata": {},
   "outputs": [],
   "source": []
  }
 ],
 "metadata": {
  "interpreter": {
   "hash": "ed5946f2a0d3f5e934efd92075c2a89b2cb5130d0efd6e4509a568bedf48ed26"
  },
  "kernelspec": {
   "display_name": "Python 3 (ipykernel)",
   "language": "python",
   "name": "python3"
  },
  "language_info": {
   "codemirror_mode": {
    "name": "ipython",
    "version": 3
   },
   "file_extension": ".py",
   "mimetype": "text/x-python",
   "name": "python",
   "nbconvert_exporter": "python",
   "pygments_lexer": "ipython3",
   "version": "3.10.4"
  }
 },
 "nbformat": 4,
 "nbformat_minor": 4
}
