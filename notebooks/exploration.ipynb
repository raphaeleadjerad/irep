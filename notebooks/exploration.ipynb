{
 "cells": [
  {
   "cell_type": "code",
   "execution_count": 1,
   "metadata": {},
   "outputs": [
    {
     "data": {
      "text/plain": [
       "dict_keys(['rejets', 'etablissements', 'emissions', 'Trait_dechets_non_dangereux', 'Trait_dechets_dangereux', 'Prod_dechets_non_dangereux', 'Prod_dechets_dangereux', 'Prelevements'])"
      ]
     },
     "execution_count": 1,
     "metadata": {},
     "output_type": "execute_result"
    }
   ],
   "source": [
    "# Importation des bases\n",
    "import pandas as pd\n",
    "import functions as fc\n",
    "import numpy as np\n",
    "\n",
    "dict_data = fc.read_all_raw(fc.list_bases)\n",
    "dict_data.keys()"
   ]
  },
  {
   "cell_type": "code",
   "execution_count": 2,
   "metadata": {},
   "outputs": [],
   "source": [
    "df = fc.clean_data_etab(\n",
    "    dict_data['etablissements']\n",
    "    )"
   ]
  },
  {
   "cell_type": "code",
   "execution_count": 3,
   "metadata": {},
   "outputs": [],
   "source": [
    "# 56 % de match\n",
    "request_template = '''{{ \n",
    "  \"query\": {{\n",
    "    \"bool\": {{\n",
    "      \"should\": [\n",
    "        {{\"multi_match\" : {{\"query\":\"{nom_etablissement}\",  \"type\":\"best_fields\", \"fields\": [ \"denom\", \"enseigne\", \"nom_comm_et\", \"adr_et_l1\",\"adr_et_l2\", \"denom_condense\", \"enseigne_et1\" ],\"tie_breaker\": 0.1}}}},\n",
    "        {{ \"match\": {{ \"sir_adr_et_com_lib\":  \"{commune}\" }}}}\n",
    "      ],\n",
    "      \"filter\": [\n",
    "        {{ \"prefix\":  {{ \"apet\": \"{code_apet}\" }}}}\n",
    "      ]\n",
    "    }}\n",
    "  }},\n",
    "  \"size\": 1\n",
    "}}'''\n",
    "\n"
   ]
  },
  {
   "cell_type": "code",
   "execution_count": 7,
   "metadata": {},
   "outputs": [
    {
     "data": {
      "text/plain": [
       "Index(['identifiant', 'nom_etablissement', 'numero_siret_true', 'adresse',\n",
       "       'code_postal', 'commune', 'departement', 'region', 'coordonnees_x',\n",
       "       'coordonnees_y', 'code_epsg', 'code_ape', 'libelle_ape', 'code_eprtr',\n",
       "       'libelle_eprtr', 'geometry', 'x', 'y', 'code_apet', 'siret_elastic',\n",
       "       'match', 'nom_etab_elastic', 'textual_distance'],\n",
       "      dtype='object')"
      ]
     },
     "execution_count": 7,
     "metadata": {},
     "output_type": "execute_result"
    }
   ],
   "source": [
    "df.columns"
   ]
  },
  {
   "cell_type": "code",
   "execution_count": 9,
   "metadata": {},
   "outputs": [
    {
     "name": "stderr",
     "output_type": "stream",
     "text": [
      "/home/coder/local/bin/conda/envs/basesspcloud/lib/python3.10/site-packages/elasticsearch/connection/base.py:200: ElasticsearchWarning: Elasticsearch built-in security features are not enabled. Without authentication, your cluster could be accessible to anyone. See https://www.elastic.co/guide/en/elasticsearch/reference/7.17/security-minimal-setup.html to enable security.\n",
      "  warnings.warn(message, category=ElasticsearchWarning)\n"
     ]
    },
    {
     "data": {
      "text/plain": [
       "{'sirus_2020_e_3_ngr_bool': {'mappings': {'properties': {'adr_depcom': {'type': 'text',\n",
       "     'fields': {'keyword': {'type': 'keyword', 'ignore_above': 256}}},\n",
       "    'adr_et_cedex': {'type': 'text',\n",
       "     'fields': {'keyword': {'type': 'keyword', 'ignore_above': 256}}},\n",
       "    'adr_et_compl': {'type': 'text',\n",
       "     'fields': {'keyword': {'type': 'keyword', 'ignore_above': 256}}},\n",
       "    'adr_et_distsp': {'type': 'text',\n",
       "     'fields': {'keyword': {'type': 'keyword', 'ignore_above': 256}}},\n",
       "    'adr_et_l1': {'type': 'text',\n",
       "     'fields': {'keyword': {'type': 'keyword', 'ignore_above': 256},\n",
       "      'ngr': {'type': 'text', 'analyzer': 'ngram_analyzer'},\n",
       "      'stem': {'type': 'text', 'analyzer': 'stemming'}},\n",
       "     'copy_to': ['fourretout', 'rs_adr'],\n",
       "     'norms': False},\n",
       "    'adr_et_l2': {'type': 'text',\n",
       "     'fields': {'keyword': {'type': 'keyword', 'ignore_above': 256},\n",
       "      'ngr': {'type': 'text', 'analyzer': 'ngram_analyzer'}},\n",
       "     'copy_to': ['fourretout', 'rs_adr'],\n",
       "     'norms': False},\n",
       "    'adr_et_l3': {'type': 'text',\n",
       "     'fields': {'keyword': {'type': 'keyword', 'ignore_above': 256}},\n",
       "     'copy_to': ['fourretout', 'rs_adr'],\n",
       "     'norms': False},\n",
       "    'adr_et_l4': {'type': 'text',\n",
       "     'fields': {'keyword': {'type': 'keyword', 'ignore_above': 256}}},\n",
       "    'adr_et_l5': {'type': 'text',\n",
       "     'fields': {'keyword': {'type': 'keyword', 'ignore_above': 256}}},\n",
       "    'adr_et_l6': {'type': 'text',\n",
       "     'fields': {'keyword': {'type': 'keyword', 'ignore_above': 256}}},\n",
       "    'adr_et_l7': {'type': 'text',\n",
       "     'fields': {'keyword': {'type': 'keyword', 'ignore_above': 256}}},\n",
       "    'adr_et_loc_geo': {'type': 'text',\n",
       "     'fields': {'depcom': {'type': 'text', 'analyzer': 'trunc5'},\n",
       "      'keyword': {'type': 'keyword', 'ignore_above': 256}}},\n",
       "    'adr_et_post': {'type': 'text',\n",
       "     'fields': {'keyword': {'type': 'keyword', 'ignore_above': 256}}},\n",
       "    'adr_et_voie_lib': {'type': 'text',\n",
       "     'fields': {'keyword': {'type': 'keyword', 'ignore_above': 256},\n",
       "      'ngr': {'type': 'text', 'analyzer': 'ngram_analyzer'}}},\n",
       "    'adr_et_voie_num': {'type': 'text',\n",
       "     'fields': {'keyword': {'type': 'keyword', 'ignore_above': 256}}},\n",
       "    'adr_et_voie_repet': {'type': 'text',\n",
       "     'fields': {'keyword': {'type': 'keyword', 'ignore_above': 256}}},\n",
       "    'adr_et_voie_type': {'type': 'text',\n",
       "     'fields': {'keyword': {'type': 'keyword', 'ignore_above': 256}}},\n",
       "    'ape': {'type': 'text',\n",
       "     'fields': {'2car': {'type': 'text', 'analyzer': 'trunc2'},\n",
       "      '3car': {'type': 'text', 'analyzer': 'trunc3'},\n",
       "      '4car': {'type': 'text', 'analyzer': 'trunc4'},\n",
       "      '5car': {'type': 'text', 'analyzer': 'trunc5'},\n",
       "      'div_naf': {'type': 'text', 'analyzer': 'trunc2'},\n",
       "      'keyword': {'type': 'keyword', 'ignore_above': 256},\n",
       "      'ngr': {'type': 'text', 'analyzer': 'ngram_analyzer'}}},\n",
       "    'apet': {'type': 'text',\n",
       "     'fields': {'2car': {'type': 'text', 'analyzer': 'trunc2'},\n",
       "      '3car': {'type': 'text', 'analyzer': 'trunc3'},\n",
       "      '4car': {'type': 'text', 'analyzer': 'trunc4'},\n",
       "      '5car': {'type': 'text', 'analyzer': 'trunc5'},\n",
       "      'div_naf': {'type': 'text', 'analyzer': 'trunc2'},\n",
       "      'keyword': {'type': 'keyword', 'ignore_above': 256},\n",
       "      'ngr': {'type': 'text', 'analyzer': 'ngram_analyzer'}}},\n",
       "    'cj': {'type': 'text',\n",
       "     'fields': {'keyword': {'type': 'keyword', 'ignore_above': 256}}},\n",
       "    'creat_daaaammjj': {'type': 'integer',\n",
       "     'fields': {'keyword': {'type': 'keyword', 'ignore_above': 256}}},\n",
       "    'denom': {'type': 'text',\n",
       "     'fields': {'acro': {'type': 'text',\n",
       "       'analyzer': 'acronym',\n",
       "       'search_analyzer': 'simple',\n",
       "       'fielddata': True},\n",
       "      'keyword': {'type': 'keyword', 'ignore_above': 256},\n",
       "      'ngr': {'type': 'text', 'analyzer': 'ngram_analyzer'},\n",
       "      'stem': {'type': 'text', 'analyzer': 'stemming'}},\n",
       "     'copy_to': ['fourretout', 'rs_denom'],\n",
       "     'norms': False,\n",
       "     'fielddata': True},\n",
       "    'denom_condense': {'type': 'text',\n",
       "     'fields': {'keyword': {'type': 'keyword', 'ignore_above': 256},\n",
       "      'ngr': {'type': 'text', 'analyzer': 'ngram_analyzer'},\n",
       "      'stem': {'type': 'text', 'norms': False, 'analyzer': 'stemming'}},\n",
       "     'copy_to': ['fourretout', 'rs_denom'],\n",
       "     'norms': False},\n",
       "    'eff_3112_et': {'type': 'integer',\n",
       "     'fields': {'keyword': {'type': 'keyword', 'ignore_above': 256}}},\n",
       "    'eff_3112_uniteLegale': {'type': 'integer',\n",
       "     'fields': {'keyword': {'type': 'keyword', 'ignore_above': 256}}},\n",
       "    'eff_3112_unitelegale': {'type': 'text',\n",
       "     'fields': {'keyword': {'type': 'keyword', 'ignore_above': 256}}},\n",
       "    'eff_effet_daaaammjj_uniteLegale': {'type': 'text',\n",
       "     'fields': {'keyword': {'type': 'keyword', 'ignore_above': 256}}},\n",
       "    'eff_effet_daaaammjj_unitelegale': {'type': 'text',\n",
       "     'fields': {'keyword': {'type': 'keyword', 'ignore_above': 256}}},\n",
       "    'eff_et_effet_daaaammjj': {'type': 'text',\n",
       "     'fields': {'keyword': {'type': 'keyword', 'ignore_above': 256}}},\n",
       "    'eff_etp_et': {'type': 'integer',\n",
       "     'fields': {'keyword': {'type': 'keyword', 'ignore_above': 256}}},\n",
       "    'eff_etp_uniteLegale': {'type': 'integer',\n",
       "     'fields': {'keyword': {'type': 'keyword', 'ignore_above': 256}}},\n",
       "    'eff_etp_unitelegale': {'type': 'text',\n",
       "     'fields': {'keyword': {'type': 'keyword', 'ignore_above': 256}}},\n",
       "    'enseigne': {'type': 'text',\n",
       "     'fields': {'keyword': {'type': 'keyword', 'ignore_above': 256},\n",
       "      'ngr': {'type': 'text', 'analyzer': 'ngram_analyzer'}},\n",
       "     'copy_to': ['fourretout', 'rs_denom']},\n",
       "    'enseigne_et1': {'type': 'text',\n",
       "     'fields': {'keyword': {'type': 'keyword', 'ignore_above': 256},\n",
       "      'ngr': {'type': 'text', 'analyzer': 'ngram_analyzer'}},\n",
       "     'copy_to': ['fourretout', 'rs_denom']},\n",
       "    'fourretout': {'type': 'text',\n",
       "     'fields': {'ngr': {'type': 'text', 'analyzer': 'ngram_analyzer'},\n",
       "      'stem': {'type': 'text',\n",
       "       'norms': False,\n",
       "       'analyzer': 'stemming',\n",
       "       'search_analyzer': 'search_syn_rs'}},\n",
       "     'norms': False},\n",
       "    'geo_adresse': {'type': 'text',\n",
       "     'fields': {'keyword': {'type': 'keyword', 'ignore_above': 256}}},\n",
       "    'geo_score': {'type': 'text',\n",
       "     'fields': {'keyword': {'type': 'keyword', 'ignore_above': 256}}},\n",
       "    'geo_type': {'type': 'text',\n",
       "     'fields': {'keyword': {'type': 'keyword', 'ignore_above': 256}}},\n",
       "    'latitude': {'type': 'text',\n",
       "     'fields': {'keyword': {'type': 'keyword', 'ignore_above': 256}}},\n",
       "    'location': {'type': 'geo_point', 'ignore_malformed': True},\n",
       "    'longitude': {'type': 'text',\n",
       "     'fields': {'keyword': {'type': 'keyword', 'ignore_above': 256}}},\n",
       "    'nic': {'type': 'text',\n",
       "     'fields': {'keyword': {'type': 'keyword', 'ignore_above': 256}}},\n",
       "    'nic_siege': {'type': 'text',\n",
       "     'fields': {'keyword': {'type': 'keyword', 'ignore_above': 256}}},\n",
       "    'nom_comm_et': {'type': 'text',\n",
       "     'fields': {'acro': {'type': 'text',\n",
       "       'analyzer': 'acronym',\n",
       "       'search_analyzer': 'simple',\n",
       "       'fielddata': True},\n",
       "      'keyword': {'type': 'keyword', 'ignore_above': 256},\n",
       "      'ngr': {'type': 'text', 'analyzer': 'ngram_analyzer'},\n",
       "      'stem': {'type': 'text', 'norms': False, 'analyzer': 'stemming'}},\n",
       "     'copy_to': ['fourretout', 'rs_denom'],\n",
       "     'norms': False},\n",
       "    'region': {'type': 'text',\n",
       "     'fields': {'keyword': {'type': 'keyword', 'ignore_above': 256}}},\n",
       "    'region_impl': {'type': 'text',\n",
       "     'fields': {'keyword': {'type': 'keyword', 'ignore_above': 256}}},\n",
       "    'region_mult': {'type': 'text',\n",
       "     'fields': {'keyword': {'type': 'keyword', 'ignore_above': 256}}},\n",
       "    'rs_adr': {'type': 'text',\n",
       "     'fields': {'ngr': {'type': 'text', 'analyzer': 'ngram_analyzer'},\n",
       "      'stem': {'type': 'text',\n",
       "       'norms': False,\n",
       "       'analyzer': 'stemming',\n",
       "       'search_analyzer': 'search_syn_rs'}},\n",
       "     'norms': False},\n",
       "    'rs_denom': {'type': 'text',\n",
       "     'fields': {'ngr': {'type': 'text', 'analyzer': 'ngram_analyzer'},\n",
       "      'stem': {'type': 'text',\n",
       "       'norms': False,\n",
       "       'analyzer': 'stemming',\n",
       "       'search_analyzer': 'search_syn_rs'}},\n",
       "     'norms': False},\n",
       "    'sigle': {'type': 'text',\n",
       "     'fields': {'keyword': {'type': 'keyword', 'ignore_above': 256},\n",
       "      'ngr': {'type': 'text', 'analyzer': 'ngram_analyzer'}},\n",
       "     'copy_to': ['fourretout', 'rs_denom'],\n",
       "     'analyzer': 'sigle'},\n",
       "    'sigle_denom': {'type': 'text',\n",
       "     'fields': {'keyword': {'type': 'keyword', 'ignore_above': 256}},\n",
       "     'copy_to': ['fourretout', 'rs_denom'],\n",
       "     'analyzer': 'sigle'},\n",
       "    'sigle_l1': {'type': 'text',\n",
       "     'fields': {'keyword': {'type': 'keyword', 'ignore_above': 256}},\n",
       "     'copy_to': ['fourretout', 'rs_denom'],\n",
       "     'analyzer': 'sigle'},\n",
       "    'sir_adr_et_com_lib': {'type': 'text',\n",
       "     'fields': {'keyword': {'type': 'keyword', 'ignore_above': 256},\n",
       "      'ngr': {'type': 'text', 'analyzer': 'ngram_analyzer'}}},\n",
       "    'siret': {'type': 'text',\n",
       "     'fields': {'keyword': {'type': 'keyword', 'ignore_above': 256}}},\n",
       "    'siret_id': {'type': 'text',\n",
       "     'fields': {'keyword': {'type': 'keyword', 'ignore_above': 256}}},\n",
       "    'sirus_id': {'type': 'text',\n",
       "     'fields': {'keyword': {'type': 'keyword', 'ignore_above': 256}}},\n",
       "    'tr_eff_etp': {'type': 'text',\n",
       "     'fields': {'keyword': {'type': 'keyword', 'ignore_above': 256}}},\n",
       "    'unite_type': {'type': 'text',\n",
       "     'fields': {'keyword': {'type': 'keyword', 'ignore_above': 256}}}}}}}"
      ]
     },
     "execution_count": 9,
     "metadata": {},
     "output_type": "execute_result"
    }
   ],
   "source": [
    "es = fc.elastic()\n",
    "es.indices.get_mapping(index = 'sirus_2020')"
   ]
  },
  {
   "cell_type": "code",
   "execution_count": 12,
   "metadata": {},
   "outputs": [],
   "source": [
    "# 69 %\n",
    "request_template = '''{{ \n",
    "  \"query\": {{\n",
    "    \"bool\": {{\n",
    "      \"should\": [\n",
    "        {{\"multi_match\" : {{\"query\":\"{nom_etablissement}\",  \"type\":\"best_fields\", \"fields\": [ \"denom\", \"enseigne\", \"nom_comm_et\", \"adr_et_l1\",\"adr_et_l2\", \"denom_condense\", \"enseigne_et1\" ],\"tie_breaker\": 0.1}}}},\n",
    "        {{ \"fuzzy\": {{ \"sir_adr_et_com_lib\":  \"{commune}\"}}}}\n",
    "      ],\n",
    "      \"filter\": [\n",
    "        {{ \"prefix\":  {{ \"apet\": \"{code_apet}\" }}}}\n",
    "      ]\n",
    "    }}\n",
    "  }},\n",
    "  \"size\": 1\n",
    "}}'''"
   ]
  },
  {
   "cell_type": "code",
   "execution_count": 24,
   "metadata": {},
   "outputs": [],
   "source": [
    "request_template = '''{{ \n",
    "  \"query\": {{\n",
    "    \"bool\": {{\n",
    "      \"should\": [\n",
    "        {{\"multi_match\" : {{\"query\":\"{nom_etablissement}\",  \"type\":\"best_fields\", \"fields\": [ \"denom\", \"enseigne\", \"nom_comm_et\", \"adr_et_l1\",\"adr_et_l2\", \"denom_condense\", \"enseigne_et1\" ],\"tie_breaker\": 0.1}}}},\n",
    "        {{ \"fuzzy\": {{ \"sir_adr_et_com_lib\":  {{\"value\":  \"{commune}\", \"fuzziness\": 1}}}}}}\n",
    "      ],\n",
    "      \"filter\": [\n",
    "        {{ \"prefix\":  {{ \"apet\": \"{code_apet}\" }}}}\n",
    "      ]\n",
    "    }}\n",
    "  }},\n",
    "  \"size\": 1\n",
    "}}'''"
   ]
  },
  {
   "cell_type": "code",
   "execution_count": 25,
   "metadata": {},
   "outputs": [
    {
     "name": "stdout",
     "output_type": "stream",
     "text": [
      "8963\n",
      "Matched OK False    0.69508\n",
      "True     0.30492\n",
      "Name: match, dtype: float64\n"
     ]
    },
    {
     "name": "stderr",
     "output_type": "stream",
     "text": [
      "/home/coder/local/bin/conda/envs/basesspcloud/lib/python3.10/site-packages/elasticsearch/connection/base.py:200: ElasticsearchWarning: Elasticsearch built-in security features are not enabled. Without authentication, your cluster could be accessible to anyone. See https://www.elastic.co/guide/en/elasticsearch/reference/7.17/security-minimal-setup.html to enable security.\n",
      "  warnings.warn(message, category=ElasticsearchWarning)\n"
     ]
    }
   ],
   "source": [
    "out = fc.pipeline_request(df, request_template, cols = ['nom_etablissement', 'commune','code_apet'])"
   ]
  },
  {
   "cell_type": "code",
   "execution_count": 5,
   "metadata": {},
   "outputs": [],
   "source": [
    "request_template_geo = '''{{\n",
    "\"query\": {{ \"bool\": {{ \"should\": {{ \"match\": {{ \"rs_denom\":   \"{nom_etablissement}\" }} }}, \"filter\": [ {{ \"geo_distance\": {{ \"distance\": \"0.5km\", \"location\": {{ \"lat\": \"{y}\",  \"lon\": \"{x}\" }}  }} }}]   }}  }}, \"size\": 1\n",
    "}}\n",
    "'''"
   ]
  },
  {
   "cell_type": "code",
   "execution_count": null,
   "metadata": {},
   "outputs": [],
   "source": [
    "out[[\"nom_etablissement\",\"nom_etab_elastic\", \"textual_distance\", \"match\"]].head(20)"
   ]
  },
  {
   "cell_type": "markdown",
   "metadata": {},
   "source": [
    "## Les émissions de CO2\n",
    "\n",
    "On va commencer par se focaliser sur les gros émetteurs de CO2"
   ]
  },
  {
   "cell_type": "code",
   "execution_count": null,
   "metadata": {},
   "outputs": [],
   "source": [
    "emissions = dict_data['emissions']\n",
    "emissions_co2 = emissions.loc[emissions['polluant'].str.contains(\"CO2\")]\n",
    "emissions_co2 = emissions_co2.loc[emissions_co2['polluant'].str.contains('total')]\n",
    "emissions_co2.head(1)"
   ]
  },
  {
   "cell_type": "code",
   "execution_count": null,
   "metadata": {},
   "outputs": [],
   "source": [
    "emissions_co2['quantite'].div(1000).plot.hist(logx = True)"
   ]
  },
  {
   "cell_type": "code",
   "execution_count": null,
   "metadata": {},
   "outputs": [],
   "source": [
    "dict_data.head(1)"
   ]
  },
  {
   "cell_type": "code",
   "execution_count": null,
   "metadata": {},
   "outputs": [],
   "source": [
    "dict_data['emissions'][\"annee_emission\"].value_counts()"
   ]
  },
  {
   "cell_type": "code",
   "execution_count": null,
   "metadata": {},
   "outputs": [],
   "source": [
    "dict_data['emissions'][\"milieu\"].value_counts()"
   ]
  },
  {
   "cell_type": "code",
   "execution_count": null,
   "metadata": {},
   "outputs": [],
   "source": [
    "dechets_dang = dict_data['Trait_dechets_dangereux']"
   ]
  },
  {
   "cell_type": "code",
   "execution_count": null,
   "metadata": {},
   "outputs": [],
   "source": [
    "dict_data['etablissements']['identifiant'].nunique()"
   ]
  },
  {
   "cell_type": "code",
   "execution_count": null,
   "metadata": {},
   "outputs": [],
   "source": [
    "dict_data['etablissements'].head(1)"
   ]
  },
  {
   "cell_type": "code",
   "execution_count": null,
   "metadata": {},
   "outputs": [],
   "source": [
    "dict_data"
   ]
  },
  {
   "cell_type": "code",
   "execution_count": null,
   "metadata": {},
   "outputs": [],
   "source": []
  }
 ],
 "metadata": {
  "interpreter": {
   "hash": "ed5946f2a0d3f5e934efd92075c2a89b2cb5130d0efd6e4509a568bedf48ed26"
  },
  "kernelspec": {
   "display_name": "Python 3 (ipykernel)",
   "language": "python",
   "name": "python3"
  },
  "language_info": {
   "codemirror_mode": {
    "name": "ipython",
    "version": 3
   },
   "file_extension": ".py",
   "mimetype": "text/x-python",
   "name": "python",
   "nbconvert_exporter": "python",
   "pygments_lexer": "ipython3",
   "version": "3.10.4"
  }
 },
 "nbformat": 4,
 "nbformat_minor": 4
}
