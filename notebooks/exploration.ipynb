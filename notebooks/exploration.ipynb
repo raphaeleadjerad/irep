{
 "cells": [
  {
   "cell_type": "code",
   "execution_count": null,
   "metadata": {},
   "outputs": [],
   "source": [
    "# Importation des bases\n",
    "import pandas as pd\n",
    "import functions as fc\n",
    "\n",
    "dict_data = fc.read_all_raw(fc.list_bases)\n",
    "dict_data.keys()"
   ]
  },
  {
   "cell_type": "code",
   "execution_count": null,
   "metadata": {},
   "outputs": [],
   "source": [
    "etab = dict_data['etablissements']\n",
    "etab_not_null = etab.dropna(subset = ['code_epsg'])\n",
    "etab_null = etab.loc[etab['code_epsg'].isnull()]\n",
    "gb = etab_not_null.groupby(\"code_epsg\")\n",
    "gb = [gb.get_group(x) for x in gb.groups]"
   ]
  },
  {
   "cell_type": "code",
   "execution_count": null,
   "metadata": {},
   "outputs": [],
   "source": [
    "temp = [\n",
    "    fc.transform_wgs84(\n",
    "        gb[idx],\n",
    "        gb[idx]['code_epsg'].iloc[0]\n",
    "    ) for idx in range(len(gb)) \n",
    "]\n",
    "temp = pd.concat(\n",
    "    temp\n",
    ")\n",
    "etab = pd.concat(\n",
    "    [temp, etab_null]\n",
    ")"
   ]
  },
  {
   "cell_type": "code",
   "execution_count": null,
   "metadata": {},
   "outputs": [],
   "source": [
    "df = etab.copy()\n",
    "df = df.rename({'numero_siret': \"numero_siret_true\"}, axis = 1)\n",
    "df[\"code_apet\"] = df[\"code_ape\"].str[:4]\n",
    "\n",
    "requete_type = '''{{ \n",
    "  \"query\": {{\n",
    "    \"bool\": {{\n",
    "      \"should\": [\n",
    "        {{ \"match\": {{ \"rs_denom\":   \"{nom_etablissement}\" }}}}\n",
    "      ],\n",
    "      \"filter\": [\n",
    "        {{ \"match\":  {{ \"adr_et_post\": \"{code_postal}\" }}}},\n",
    "        {{ \"prefix\":  {{ \"apet\": \"{code_apet}\" }}}}\n",
    "      ]\n",
    "    }}\n",
    "  }},\n",
    "  \"size\": 1\n",
    "}}'''\n",
    "\n",
    "\n",
    "\n",
    "\n",
    "# Il est nécessaire de spécifier l'index associé à chaque requête\n",
    "header = '{\"index\" : \"sirus_2020\"}'\n",
    "\n",
    "multiple_requetes = \"\"\n",
    "\n",
    "# On itère sur le dataframe d'établissements polluants pour ajouter une requête spécifique à chacun d'entre eux\n",
    "for index, row in df.loc[:,['nom_etablissement',  'code_postal', 'code_apet']].iterrows():\n",
    "    \n",
    "    multiple_requetes+= header\n",
    "    multiple_requetes+= '\\n'\n",
    "    multiple_requetes+= requete_type.format_map(row).replace(\"\\n\",\"\")\n",
    "    multiple_requetes+= '\\n'\n",
    "\n",
    "\n",
    "\n",
    "res = fc.es.msearch(body = multiple_requetes, max_concurrent_searches = 500)\n",
    "\n",
    "temp = pd.json_normalize(res,record_path=[\"responses\"])\n",
    "\n",
    "out_elastic = temp.apply(\n",
    "        lambda l: fc.get_product_echo(l['hits.hits']),\n",
    "        axis=1, result_type=\"expand\")\n",
    "out_elastic.head(1)"
   ]
  },
  {
   "cell_type": "code",
   "execution_count": null,
   "metadata": {},
   "outputs": [],
   "source": [
    "pd.concat(\n",
    "    [df, out_elastic]\n",
    "    )"
   ]
  },
  {
   "cell_type": "markdown",
   "metadata": {},
   "source": [
    "## Les émissions de CO2\n",
    "\n",
    "On va commencer par se focaliser sur les gros émetteurs de CO2"
   ]
  },
  {
   "cell_type": "code",
   "execution_count": null,
   "metadata": {},
   "outputs": [],
   "source": [
    "emissions = dict_data['emissions']\n",
    "emissions_co2 = emissions.loc[emissions['polluant'].str.contains(\"CO2\")]\n",
    "emissions_co2 = emissions_co2.loc[emissions_co2['polluant'].str.contains('total')]\n",
    "emissions_co2.head(1)"
   ]
  },
  {
   "cell_type": "code",
   "execution_count": null,
   "metadata": {},
   "outputs": [],
   "source": [
    "emissions_co2['quantite'].div(1000).plot.hist(logx = True)"
   ]
  },
  {
   "cell_type": "code",
   "execution_count": null,
   "metadata": {},
   "outputs": [],
   "source": [
    "dict_data.head(1)"
   ]
  },
  {
   "cell_type": "code",
   "execution_count": null,
   "metadata": {},
   "outputs": [],
   "source": [
    "dict_data['emissions'][\"annee_emission\"].value_counts()"
   ]
  },
  {
   "cell_type": "code",
   "execution_count": null,
   "metadata": {},
   "outputs": [],
   "source": [
    "dict_data['emissions'][\"milieu\"].value_counts()"
   ]
  },
  {
   "cell_type": "code",
   "execution_count": null,
   "metadata": {},
   "outputs": [],
   "source": [
    "dechets_dang = dict_data['Trait_dechets_dangereux']"
   ]
  },
  {
   "cell_type": "code",
   "execution_count": null,
   "metadata": {},
   "outputs": [],
   "source": [
    "dict_data['etablissements']['identifiant'].nunique()"
   ]
  },
  {
   "cell_type": "code",
   "execution_count": null,
   "metadata": {},
   "outputs": [],
   "source": [
    "dict_data['etablissements'].head(1)"
   ]
  },
  {
   "cell_type": "code",
   "execution_count": null,
   "metadata": {},
   "outputs": [],
   "source": [
    "dict_data"
   ]
  },
  {
   "cell_type": "code",
   "execution_count": null,
   "metadata": {},
   "outputs": [],
   "source": []
  }
 ],
 "metadata": {
  "interpreter": {
   "hash": "ed5946f2a0d3f5e934efd92075c2a89b2cb5130d0efd6e4509a568bedf48ed26"
  },
  "kernelspec": {
   "display_name": "Python 3 (ipykernel)",
   "language": "python",
   "name": "python3"
  },
  "language_info": {
   "codemirror_mode": {
    "name": "ipython",
    "version": 3
   },
   "file_extension": ".py",
   "mimetype": "text/x-python",
   "name": "python",
   "nbconvert_exporter": "python",
   "pygments_lexer": "ipython3",
   "version": "3.10.4"
  }
 },
 "nbformat": 4,
 "nbformat_minor": 4
}
