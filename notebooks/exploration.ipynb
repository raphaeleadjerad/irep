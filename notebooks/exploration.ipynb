{
 "cells": [
  {
   "cell_type": "code",
   "execution_count": null,
   "metadata": {},
   "outputs": [],
   "source": [
    "# Importation des bases\n",
    "import pandas as pd\n",
    "import functions as fc\n",
    "\n",
    "dict_data = fc.read_all_raw(fc.list_bases)\n",
    "dict_data.keys()"
   ]
  },
  {
   "cell_type": "code",
   "execution_count": null,
   "metadata": {},
   "outputs": [],
   "source": [
    "df = fc.clean_data_etab(\n",
    "    dict_data['etablissements']\n",
    "    )"
   ]
  },
  {
   "cell_type": "code",
   "execution_count": null,
   "metadata": {},
   "outputs": [],
   "source": [
    "request_template = '''\n",
    "{{ \n",
    "  \"query\": {{\n",
    "    \"bool\": {{\n",
    "      \"should\": [\n",
    "        {{ \"match\": {{ \"rs_denom\":   \"{nom_etablissement}\" }}}}\n",
    "      ],\n",
    "      \"filter\": [\n",
    "        {{ \"match\":  {{ \"adr_et_post\": \"{code_postal}\" }}}},\n",
    "        {{ \"prefix\":  {{ \"apet\": \"{code_apet}\" }}}}\n",
    "      ]\n",
    "    }}\n",
    "  }},\n",
    "  \"size\": 1\n",
    "}}'''\n",
    "\n",
    "out = fc.pipeline_request(df, request_template, cols = ['nom_etablissement',  'code_postal', 'code_apet'])\n"
   ]
  },
  {
   "cell_type": "code",
   "execution_count": null,
   "metadata": {},
   "outputs": [],
   "source": [
    "request_template_geo = '''{{\n",
    "\"query\": {{ \"bool\": {{ \"should\": {{ \"match\": {{ \"rs_denom\":   \"{nom_etablissement}\" }} }}, \"filter\": [ {{ \"geo_distance\": {{ \"distance\": \"0.5km\", \"location\": {{ \"lat\": \"{y}\",  \"lon\": \"{x}\" }}  }} }}]   }}  }}, \"size\": 1\n",
    "}}\n",
    "'''"
   ]
  },
  {
   "cell_type": "code",
   "execution_count": null,
   "metadata": {},
   "outputs": [],
   "source": [
    "out[\"match_ok\"].mean()"
   ]
  },
  {
   "cell_type": "markdown",
   "metadata": {},
   "source": [
    "## Les émissions de CO2\n",
    "\n",
    "On va commencer par se focaliser sur les gros émetteurs de CO2"
   ]
  },
  {
   "cell_type": "code",
   "execution_count": null,
   "metadata": {},
   "outputs": [],
   "source": [
    "emissions = dict_data['emissions']\n",
    "emissions_co2 = emissions.loc[emissions['polluant'].str.contains(\"CO2\")]\n",
    "emissions_co2 = emissions_co2.loc[emissions_co2['polluant'].str.contains('total')]\n",
    "emissions_co2.head(1)"
   ]
  },
  {
   "cell_type": "code",
   "execution_count": null,
   "metadata": {},
   "outputs": [],
   "source": [
    "emissions_co2['quantite'].div(1000).plot.hist(logx = True)"
   ]
  },
  {
   "cell_type": "code",
   "execution_count": null,
   "metadata": {},
   "outputs": [],
   "source": [
    "dict_data.head(1)"
   ]
  },
  {
   "cell_type": "code",
   "execution_count": null,
   "metadata": {},
   "outputs": [],
   "source": [
    "dict_data['emissions'][\"annee_emission\"].value_counts()"
   ]
  },
  {
   "cell_type": "code",
   "execution_count": null,
   "metadata": {},
   "outputs": [],
   "source": [
    "dict_data['emissions'][\"milieu\"].value_counts()"
   ]
  },
  {
   "cell_type": "code",
   "execution_count": null,
   "metadata": {},
   "outputs": [],
   "source": [
    "dechets_dang = dict_data['Trait_dechets_dangereux']"
   ]
  },
  {
   "cell_type": "code",
   "execution_count": null,
   "metadata": {},
   "outputs": [],
   "source": [
    "dict_data['etablissements']['identifiant'].nunique()"
   ]
  },
  {
   "cell_type": "code",
   "execution_count": null,
   "metadata": {},
   "outputs": [],
   "source": [
    "dict_data['etablissements'].head(1)"
   ]
  },
  {
   "cell_type": "code",
   "execution_count": null,
   "metadata": {},
   "outputs": [],
   "source": [
    "dict_data"
   ]
  },
  {
   "cell_type": "code",
   "execution_count": null,
   "metadata": {},
   "outputs": [],
   "source": []
  }
 ],
 "metadata": {
  "interpreter": {
   "hash": "ed5946f2a0d3f5e934efd92075c2a89b2cb5130d0efd6e4509a568bedf48ed26"
  },
  "kernelspec": {
   "display_name": "Python 3 (ipykernel)",
   "language": "python",
   "name": "python3"
  },
  "language_info": {
   "codemirror_mode": {
    "name": "ipython",
    "version": 3
   },
   "file_extension": ".py",
   "mimetype": "text/x-python",
   "name": "python",
   "nbconvert_exporter": "python",
   "pygments_lexer": "ipython3",
   "version": "3.10.4"
  }
 },
 "nbformat": 4,
 "nbformat_minor": 4
}
