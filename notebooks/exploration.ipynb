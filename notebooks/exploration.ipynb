{
 "cells": [
  {
   "cell_type": "code",
   "execution_count": 1,
   "metadata": {},
   "outputs": [
    {
     "data": {
      "text/plain": [
       "dict_keys(['rejets', 'etablissements', 'emissions', 'Trait_dechets_non_dangereux', 'Trait_dechets_dangereux', 'Prod_dechets_non_dangereux', 'Prod_dechets_dangereux', 'Prelevements'])"
      ]
     },
     "execution_count": 1,
     "metadata": {},
     "output_type": "execute_result"
    }
   ],
   "source": [
    "# Importation des bases\n",
    "import pandas as pd\n",
    "import functions as fc\n",
    "\n",
    "dict_data = fc.read_all_raw(fc.list_bases)\n",
    "dict_data.keys()"
   ]
  },
  {
   "cell_type": "code",
   "execution_count": 2,
   "metadata": {},
   "outputs": [],
   "source": [
    "etab = dict_data['etablissements']\n",
    "etab_not_null = etab.dropna(subset = ['code_epsg'])\n",
    "etab_null = etab.loc[etab['code_epsg'].isnull()]\n",
    "gb = etab_not_null.groupby(\"code_epsg\")\n",
    "gb = [gb.get_group(x) for x in gb.groups]"
   ]
  },
  {
   "cell_type": "code",
   "execution_count": 3,
   "metadata": {},
   "outputs": [],
   "source": [
    "template_search_simple = \"\"\"\n",
    "{\n",
    "  \"query\": {\n",
    "    \"bool\": {\n",
    "      \"should\":\n",
    "          { \"match\": { \"rs_denom\":   \"%s\"}}\n",
    "            }\n",
    "          }\n",
    "}\n",
    "\"\"\"\n",
    "\n",
    "template_search = \"\"\"\n",
    "{\n",
    "  \"query\": {\n",
    "    \"bool\": {\n",
    "      \"should\":\n",
    "          { \"match\": { \"rs_denom\":   \"%s\"}},\n",
    "      \"filter\": [\n",
    "            { \"prefix\":  { \"apet\": \"%s\" }}\n",
    "                ]\n",
    "            }\n",
    "          }\n",
    "}\n",
    "\"\"\"\n",
    "\n",
    "rs = etab['nom_etablissement'].iloc[0]\n",
    "apet = etab['code_ape'].iloc[0]\n",
    "\n",
    "req = template_search % (rs, apet)\n",
    "req_simple = template_search_simple % rs"
   ]
  },
  {
   "cell_type": "code",
   "execution_count": 4,
   "metadata": {},
   "outputs": [],
   "source": [
    "etab['x'] = etab['nom_etablissement'].apply(lambda s: template_search_simple % s)"
   ]
  },
  {
   "cell_type": "code",
   "execution_count": 99,
   "metadata": {},
   "outputs": [],
   "source": [
    "req = \"\".join(('{\"index\" : \"sirus_2020\"}\\n' + etab['x']).head(2))"
   ]
  },
  {
   "cell_type": "code",
   "execution_count": 111,
   "metadata": {},
   "outputs": [
    {
     "data": {
      "text/html": [
       "<div>\n",
       "<style scoped>\n",
       "    .dataframe tbody tr th:only-of-type {\n",
       "        vertical-align: middle;\n",
       "    }\n",
       "\n",
       "    .dataframe tbody tr th {\n",
       "        vertical-align: top;\n",
       "    }\n",
       "\n",
       "    .dataframe thead th {\n",
       "        text-align: right;\n",
       "    }\n",
       "</style>\n",
       "<table border=\"1\" class=\"dataframe\">\n",
       "  <thead>\n",
       "    <tr style=\"text-align: right;\">\n",
       "      <th></th>\n",
       "      <th>identifiant</th>\n",
       "      <th>nom_etablissement</th>\n",
       "      <th>numero_siret</th>\n",
       "      <th>adresse</th>\n",
       "      <th>code_postal</th>\n",
       "      <th>commune</th>\n",
       "      <th>departement</th>\n",
       "      <th>region</th>\n",
       "      <th>coordonnees_x</th>\n",
       "      <th>coordonnees_y</th>\n",
       "      <th>code_epsg</th>\n",
       "      <th>code_ape</th>\n",
       "      <th>libelle_ape</th>\n",
       "      <th>code_eprtr</th>\n",
       "      <th>libelle_eprtr</th>\n",
       "      <th>geometry</th>\n",
       "      <th>x</th>\n",
       "    </tr>\n",
       "  </thead>\n",
       "  <tbody>\n",
       "    <tr>\n",
       "      <th>0</th>\n",
       "      <td>9073402</td>\n",
       "      <td>STEP - BEZIERS</td>\n",
       "      <td>41003460701688</td>\n",
       "      <td>Plaine Saint Pierre</td>\n",
       "      <td>34500</td>\n",
       "      <td>BEZIERS</td>\n",
       "      <td>HERAULT</td>\n",
       "      <td>OCCITANIE</td>\n",
       "      <td>672948.91</td>\n",
       "      <td>1813634.13</td>\n",
       "      <td>27572.0</td>\n",
       "      <td>3700Z</td>\n",
       "      <td>Collecte et traitement des eaux usées</td>\n",
       "      <td>5.(f)</td>\n",
       "      <td>Installations de traitement des eaux urbaines ...</td>\n",
       "      <td>POINT (672948.910 1813634.130)</td>\n",
       "      <td>\\n{\\n  \"query\": {\\n    \"bool\": {\\n      \"shoul...</td>\n",
       "    </tr>\n",
       "  </tbody>\n",
       "</table>\n",
       "</div>"
      ],
      "text/plain": [
       "   identifiant nom_etablissement    numero_siret              adresse  \\\n",
       "0      9073402    STEP - BEZIERS  41003460701688  Plaine Saint Pierre   \n",
       "\n",
       "   code_postal  commune departement     region  coordonnees_x  coordonnees_y  \\\n",
       "0        34500  BEZIERS     HERAULT  OCCITANIE      672948.91     1813634.13   \n",
       "\n",
       "   code_epsg code_ape                            libelle_ape code_eprtr  \\\n",
       "0    27572.0    3700Z  Collecte et traitement des eaux usées      5.(f)   \n",
       "\n",
       "                                       libelle_eprtr  \\\n",
       "0  Installations de traitement des eaux urbaines ...   \n",
       "\n",
       "                         geometry  \\\n",
       "0  POINT (672948.910 1813634.130)   \n",
       "\n",
       "                                                   x  \n",
       "0  \\n{\\n  \"query\": {\\n    \"bool\": {\\n      \"shoul...  "
      ]
     },
     "execution_count": 111,
     "metadata": {},
     "output_type": "execute_result"
    }
   ],
   "source": [
    "etab.head(1)"
   ]
  },
  {
   "cell_type": "code",
   "execution_count": 19,
   "metadata": {},
   "outputs": [],
   "source": [
    "df = dict_data[\"etablissements\"]\n",
    "df = df.rename({'numero_siret': \"numero_siret_true\"}, axis = 1)\n",
    "df[\"code_apet\"] = df[\"code_ape\"].str[:4]\n",
    "\n",
    "requete_type = '''{{ \n",
    "  \"query\": {{\n",
    "    \"bool\": {{\n",
    "      \"should\": [\n",
    "        {{ \"match\": {{ \"rs_denom\":   \"{nom_etablissement}\" }}}}\n",
    "      ],\n",
    "      \"filter\": [\n",
    "        {{ \"match\":  {{ \"adr_et_post\": \"{code_postal}\" }}}},\n",
    "        {{ \"prefix\":  {{ \"apet\": \"{code_apet}\" }}}}\n",
    "      ]\n",
    "    }}\n",
    "  }},\n",
    "  \"size\": 1\n",
    "}}'''\n",
    "\n",
    "\n",
    "\n",
    "\n",
    "# Il est nécessaire de spécifier l'index associé à chaque requête\n",
    "header = '{\"index\" : \"sirus_2020\"}'\n",
    "\n",
    "multiple_requetes = \"\"\n",
    "\n",
    "# On itère sur le dataframe d'établissements polluants pour ajouter une requête spécifique à chacun d'entre eux\n",
    "n_etab = df.shape[0] # Pour l'exemple, on prend les 10 premiers\n",
    "\n",
    "for index, row in df.iloc[0:n_etab][['nom_etablissement',  'code_postal', 'code_apet']].iterrows():\n",
    "    \n",
    "    multiple_requetes+= header\n",
    "    multiple_requetes+= '\\n'\n",
    "    multiple_requetes+= requete_type.format_map(row).replace(\"\\n\",\"\")\n",
    "    multiple_requetes+= '\\n'\n",
    "\n"
   ]
  },
  {
   "cell_type": "code",
   "execution_count": 20,
   "metadata": {},
   "outputs": [
    {
     "name": "stderr",
     "output_type": "stream",
     "text": [
      "/home/coder/local/bin/conda/envs/basesspcloud/lib/python3.10/site-packages/elasticsearch/connection/base.py:200: ElasticsearchWarning: Elasticsearch built-in security features are not enabled. Without authentication, your cluster could be accessible to anyone. See https://www.elastic.co/guide/en/elasticsearch/reference/7.17/security-minimal-setup.html to enable security.\n",
      "  warnings.warn(message, category=ElasticsearchWarning)\n"
     ]
    }
   ],
   "source": [
    "res = fc.es.msearch(body = multiple_requetes, max_concurrent_searches = 500)"
   ]
  },
  {
   "cell_type": "code",
   "execution_count": 38,
   "metadata": {},
   "outputs": [
    {
     "data": {
      "text/html": [
       "<div>\n",
       "<style scoped>\n",
       "    .dataframe tbody tr th:only-of-type {\n",
       "        vertical-align: middle;\n",
       "    }\n",
       "\n",
       "    .dataframe tbody tr th {\n",
       "        vertical-align: top;\n",
       "    }\n",
       "\n",
       "    .dataframe thead th {\n",
       "        text-align: right;\n",
       "    }\n",
       "</style>\n",
       "<table border=\"1\" class=\"dataframe\">\n",
       "  <thead>\n",
       "    <tr style=\"text-align: right;\">\n",
       "      <th></th>\n",
       "      <th>hits.hits</th>\n",
       "    </tr>\n",
       "  </thead>\n",
       "  <tbody>\n",
       "    <tr>\n",
       "      <th>0</th>\n",
       "      <td>{'sirus_id': '243400769', 'nic': '00044', 'ape...</td>\n",
       "    </tr>\n",
       "    <tr>\n",
       "      <th>1</th>\n",
       "      <td>None</td>\n",
       "    </tr>\n",
       "    <tr>\n",
       "      <th>2</th>\n",
       "      <td>None</td>\n",
       "    </tr>\n",
       "    <tr>\n",
       "      <th>3</th>\n",
       "      <td>None</td>\n",
       "    </tr>\n",
       "    <tr>\n",
       "      <th>4</th>\n",
       "      <td>None</td>\n",
       "    </tr>\n",
       "    <tr>\n",
       "      <th>...</th>\n",
       "      <td>...</td>\n",
       "    </tr>\n",
       "    <tr>\n",
       "      <th>8958</th>\n",
       "      <td>None</td>\n",
       "    </tr>\n",
       "    <tr>\n",
       "      <th>8959</th>\n",
       "      <td>{'sirus_id': '606320190', 'nic': '00055', 'ape...</td>\n",
       "    </tr>\n",
       "    <tr>\n",
       "      <th>8960</th>\n",
       "      <td>None</td>\n",
       "    </tr>\n",
       "    <tr>\n",
       "      <th>8961</th>\n",
       "      <td>None</td>\n",
       "    </tr>\n",
       "    <tr>\n",
       "      <th>8962</th>\n",
       "      <td>None</td>\n",
       "    </tr>\n",
       "  </tbody>\n",
       "</table>\n",
       "<p>8963 rows × 1 columns</p>\n",
       "</div>"
      ],
      "text/plain": [
       "                                              hits.hits\n",
       "0     {'sirus_id': '243400769', 'nic': '00044', 'ape...\n",
       "1                                                  None\n",
       "2                                                  None\n",
       "3                                                  None\n",
       "4                                                  None\n",
       "...                                                 ...\n",
       "8958                                               None\n",
       "8959  {'sirus_id': '606320190', 'nic': '00055', 'ape...\n",
       "8960                                               None\n",
       "8961                                               None\n",
       "8962                                               None\n",
       "\n",
       "[8963 rows x 1 columns]"
      ]
     },
     "execution_count": 38,
     "metadata": {},
     "output_type": "execute_result"
    }
   ],
   "source": [
    "temp = pd.json_normalize(res,record_path=[\"responses\"])\n",
    "\n",
    "def get_product_echo(echo):\n",
    "    if echo:\n",
    "        return echo[0]['_source']\n",
    "    else:\n",
    "        return None\n",
    "pd.DataFrame(\n",
    "    temp['hits.hits'].apply(lambda echo: echo[0]['_source'] if echo else None)\n",
    ")\n",
    "\n",
    "temp.apply(\n",
    "        lambda l: get_product_echo(l['hits.hits'],\n",
    "                                   additional_vars=additional_vars, keyvars = keys),\n",
    "        axis=1, result_type=\"expand\")\n",
    "\n",
    ".apply(\n",
    "        lambda s: get_product_echo(s[\"x\"]['hits']['hits'],\n",
    "                                   additional_vars=additional_vars),\n",
    "        axis=1, result_type=\"expand\")"
   ]
  },
  {
   "cell_type": "code",
   "execution_count": 59,
   "metadata": {},
   "outputs": [],
   "source": [
    "def transform_wgs84(df, epsg):\n",
    "    etab = gpd.GeoDataFrame(\n",
    "        dict_data['etablissements'],\n",
    "        geometry=gpd.points_from_xy(\n",
    "            dict_data['etablissements']['coordonnees_x'],\n",
    "            dict_data['etablissements']['coordonnees_y']\n",
    "        ),\n",
    "        crs = epsg)\n",
    "    etab = etab.to_crs(4326)\n",
    "    etab['x'] = etab['geometry'].x \n",
    "    etab['y'] = etab['geometry'].y\n",
    "    etab = pd.DataFrame(etab)\n",
    "    return etab"
   ]
  },
  {
   "cell_type": "code",
   "execution_count": 66,
   "metadata": {},
   "outputs": [],
   "source": [
    "toto = [\n",
    "    transform_wgs84(\n",
    "        gb[idx],\n",
    "        gb[idx]['code_epsg'].iloc[0]\n",
    "    ) for idx in range(len(gb)) \n",
    "]\n",
    "toto = pd.concat(\n",
    "    toto\n",
    ")\n",
    "toto2 = pd.concat(\n",
    "    [toto, etab_not_null], axis = 1\n",
    ")"
   ]
  },
  {
   "cell_type": "code",
   "execution_count": 71,
   "metadata": {},
   "outputs": [
    {
     "data": {
      "text/plain": [
       "(8963, 16)"
      ]
     },
     "execution_count": 71,
     "metadata": {},
     "output_type": "execute_result"
    }
   ],
   "source": [
    "etab.shape"
   ]
  },
  {
   "cell_type": "code",
   "execution_count": 70,
   "metadata": {},
   "outputs": [
    {
     "data": {
      "text/html": [
       "<div>\n",
       "<style scoped>\n",
       "    .dataframe tbody tr th:only-of-type {\n",
       "        vertical-align: middle;\n",
       "    }\n",
       "\n",
       "    .dataframe tbody tr th {\n",
       "        vertical-align: top;\n",
       "    }\n",
       "\n",
       "    .dataframe thead th {\n",
       "        text-align: right;\n",
       "    }\n",
       "</style>\n",
       "<table border=\"1\" class=\"dataframe\">\n",
       "  <thead>\n",
       "    <tr style=\"text-align: right;\">\n",
       "      <th></th>\n",
       "      <th>identifiant</th>\n",
       "      <th>nom_etablissement</th>\n",
       "      <th>numero_siret</th>\n",
       "      <th>adresse</th>\n",
       "      <th>code_postal</th>\n",
       "      <th>commune</th>\n",
       "      <th>departement</th>\n",
       "      <th>region</th>\n",
       "      <th>coordonnees_x</th>\n",
       "      <th>coordonnees_y</th>\n",
       "      <th>code_epsg</th>\n",
       "      <th>code_ape</th>\n",
       "      <th>libelle_ape</th>\n",
       "      <th>code_eprtr</th>\n",
       "      <th>libelle_eprtr</th>\n",
       "      <th>geometry</th>\n",
       "      <th>x</th>\n",
       "      <th>y</th>\n",
       "    </tr>\n",
       "  </thead>\n",
       "  <tbody>\n",
       "    <tr>\n",
       "      <th>0</th>\n",
       "      <td>9073402</td>\n",
       "      <td>STEP - BEZIERS</td>\n",
       "      <td>41003460701688</td>\n",
       "      <td>Plaine Saint Pierre</td>\n",
       "      <td>34500</td>\n",
       "      <td>BEZIERS</td>\n",
       "      <td>HERAULT</td>\n",
       "      <td>OCCITANIE</td>\n",
       "      <td>672948.910000</td>\n",
       "      <td>1.813634e+06</td>\n",
       "      <td>27572.0</td>\n",
       "      <td>3700Z</td>\n",
       "      <td>Collecte et traitement des eaux usées</td>\n",
       "      <td>5.(f)</td>\n",
       "      <td>Installations de traitement des eaux urbaines ...</td>\n",
       "      <td>POINT (2.80299 6.40853)</td>\n",
       "      <td>2.802986</td>\n",
       "      <td>6.408532</td>\n",
       "    </tr>\n",
       "    <tr>\n",
       "      <th>1</th>\n",
       "      <td>9076401</td>\n",
       "      <td>STEP - Pont de l'aveugle</td>\n",
       "      <td>20006710600241</td>\n",
       "      <td>17 avenue de l'adour</td>\n",
       "      <td>64600</td>\n",
       "      <td>ANGLET</td>\n",
       "      <td>PYRENEES-ATLANTIQUES</td>\n",
       "      <td>NOUVELLE-AQUITAINE</td>\n",
       "      <td>-1.498014</td>\n",
       "      <td>4.350209e+01</td>\n",
       "      <td>4326.0</td>\n",
       "      <td>3700Z</td>\n",
       "      <td>Collecte et traitement des eaux usées</td>\n",
       "      <td>5.(f)</td>\n",
       "      <td>Installations de traitement des eaux urbaines ...</td>\n",
       "      <td>POINT (-1.36311 -5.98359)</td>\n",
       "      <td>-1.363105</td>\n",
       "      <td>-5.983586</td>\n",
       "    </tr>\n",
       "    <tr>\n",
       "      <th>2</th>\n",
       "      <td>9076202</td>\n",
       "      <td>STEP - Loison Sous Lens</td>\n",
       "      <td>57202552600813</td>\n",
       "      <td>1 route de lens</td>\n",
       "      <td>62218</td>\n",
       "      <td>LOISON-SOUS-LENS</td>\n",
       "      <td>PAS-DE-CALAIS</td>\n",
       "      <td>HAUTS-DE-FRANCE</td>\n",
       "      <td>2.856548</td>\n",
       "      <td>5.043594e+01</td>\n",
       "      <td>4326.0</td>\n",
       "      <td>3700Z</td>\n",
       "      <td>Collecte et traitement des eaux usées</td>\n",
       "      <td>5.(f)</td>\n",
       "      <td>Installations de traitement des eaux urbaines ...</td>\n",
       "      <td>POINT (-1.36308 -5.98354)</td>\n",
       "      <td>-1.363081</td>\n",
       "      <td>-5.983541</td>\n",
       "    </tr>\n",
       "  </tbody>\n",
       "</table>\n",
       "</div>"
      ],
      "text/plain": [
       "   identifiant         nom_etablissement    numero_siret  \\\n",
       "0      9073402            STEP - BEZIERS  41003460701688   \n",
       "1      9076401  STEP - Pont de l'aveugle  20006710600241   \n",
       "2      9076202   STEP - Loison Sous Lens  57202552600813   \n",
       "\n",
       "                adresse  code_postal           commune           departement  \\\n",
       "0   Plaine Saint Pierre        34500           BEZIERS               HERAULT   \n",
       "1  17 avenue de l'adour        64600            ANGLET  PYRENEES-ATLANTIQUES   \n",
       "2       1 route de lens        62218  LOISON-SOUS-LENS         PAS-DE-CALAIS   \n",
       "\n",
       "               region  coordonnees_x  coordonnees_y  code_epsg code_ape  \\\n",
       "0           OCCITANIE  672948.910000   1.813634e+06    27572.0    3700Z   \n",
       "1  NOUVELLE-AQUITAINE      -1.498014   4.350209e+01     4326.0    3700Z   \n",
       "2     HAUTS-DE-FRANCE       2.856548   5.043594e+01     4326.0    3700Z   \n",
       "\n",
       "                             libelle_ape code_eprtr  \\\n",
       "0  Collecte et traitement des eaux usées      5.(f)   \n",
       "1  Collecte et traitement des eaux usées      5.(f)   \n",
       "2  Collecte et traitement des eaux usées      5.(f)   \n",
       "\n",
       "                                       libelle_eprtr  \\\n",
       "0  Installations de traitement des eaux urbaines ...   \n",
       "1  Installations de traitement des eaux urbaines ...   \n",
       "2  Installations de traitement des eaux urbaines ...   \n",
       "\n",
       "                    geometry         x         y  \n",
       "0    POINT (2.80299 6.40853)  2.802986  6.408532  \n",
       "1  POINT (-1.36311 -5.98359) -1.363105 -5.983586  \n",
       "2  POINT (-1.36308 -5.98354) -1.363081 -5.983541  "
      ]
     },
     "execution_count": 70,
     "metadata": {},
     "output_type": "execute_result"
    }
   ],
   "source": [
    "toto.head(3)"
   ]
  },
  {
   "cell_type": "code",
   "execution_count": 12,
   "metadata": {},
   "outputs": [
    {
     "data": {
      "text/plain": [
       "'\\n{\\n  \"query\": {\\n    \"bool\": {\\n      \"should\":\\n          { \"match\": { \"rs_denom\":   \"STEP - BEZIERS\"}},\\n      \"filter\": [\\n          {\"geo_distance\": {\\n                  \"distance\": \"0.5km\",\\n                  \"location\": {\\n                        \"lat\": \"1813634.13\", \\n                        \"lon\": \"672948.91\"\\n                              }\\n                            }\\n            }, \\n            { \"prefix\":  { \"apet\": \"3700Z\" }}\\n                ]\\n            }\\n          }\\n}\\n'"
      ]
     },
     "execution_count": 12,
     "metadata": {},
     "output_type": "execute_result"
    }
   ],
   "source": [
    "# Premier essai identification etablissement\n",
    "\n",
    "etab = dict_data['etablissements']\n",
    "\n",
    "template_search = \"\"\"\n",
    "{\n",
    "  \"query\": {\n",
    "    \"bool\": {\n",
    "      \"should\":\n",
    "          { \"match\": { \"rs_denom\":   \"%s\"}},\n",
    "      \"filter\": [\n",
    "          {\"geo_distance\": {\n",
    "                  \"distance\": \"0.5km\",\n",
    "                  \"location\": {\n",
    "                        \"lat\": \"%s\", \n",
    "                        \"lon\": \"%s\"\n",
    "                              }\n",
    "                            }\n",
    "            }, \n",
    "            { \"prefix\":  { \"apet\": \"%s\" }}\n",
    "                ]\n",
    "            }\n",
    "          }\n",
    "}\n",
    "\"\"\"\n",
    "\n",
    "rs = etab['nom_etablissement'].iloc[0]\n",
    "lat = etab['coordonnees_y'].iloc[0]\n",
    "lon = etab['coordonnees_x'].iloc[0]\n",
    "apet = etab['code_ape'].iloc[0]\n",
    "\n",
    "template_search % (rs, lat, lon, apet)"
   ]
  },
  {
   "cell_type": "code",
   "execution_count": 5,
   "metadata": {},
   "outputs": [
    {
     "name": "stderr",
     "output_type": "stream",
     "text": [
      "/tmp/ipykernel_46286/4011918700.py:1: DeprecationWarning: The 'body' parameter is deprecated for the 'search' API and will be removed in a future version. Instead use API parameters directly. See https://github.com/elastic/elasticsearch-py/issues/1698 for more information\n",
      "  specificsearch = fc.es.search(index = 'sirus_2020', body =\n",
      "/home/coder/local/bin/conda/envs/basesspcloud/lib/python3.10/site-packages/elasticsearch/connection/base.py:200: ElasticsearchWarning: Elasticsearch built-in security features are not enabled. Without authentication, your cluster could be accessible to anyone. See https://www.elastic.co/guide/en/elasticsearch/reference/7.17/security-minimal-setup.html to enable security.\n",
      "  warnings.warn(message, category=ElasticsearchWarning)\n"
     ]
    },
    {
     "data": {
      "text/plain": [
       "{'took': 249,\n",
       " 'timed_out': False,\n",
       " '_shards': {'total': 1, 'successful': 1, 'skipped': 0, 'failed': 0},\n",
       " 'hits': {'total': {'value': 1, 'relation': 'eq'},\n",
       "  'max_score': 0.0,\n",
       "  'hits': [{'_index': 'sirus_2020',\n",
       "    '_type': '_doc',\n",
       "    '_id': '37899345500104',\n",
       "    '_score': 0.0,\n",
       "    '_source': {'sirus_id': '378993455',\n",
       "     'nic': '00104',\n",
       "     'ape': '3530Z',\n",
       "     'apet': '3530Z',\n",
       "     'eff_3112_et': '151.0',\n",
       "     'eff_etp_et': '141.0',\n",
       "     'eff_et_effet_daaaammjj': '20181231',\n",
       "     'enseigne_et1': '',\n",
       "     'nom_comm_et': '',\n",
       "     'adr_et_loc_geo': '7511200294',\n",
       "     'adr_et_compl': '3/5/5BIS',\n",
       "     'adr_et_voie_num': '3',\n",
       "     'adr_et_voie_repet': '',\n",
       "     'adr_et_voie_type': 'BD',\n",
       "     'adr_et_voie_lib': 'DIDEROT',\n",
       "     'adr_et_cedex': '',\n",
       "     'adr_et_distsp': '',\n",
       "     'sir_adr_et_com_lib': 'PARIS 12',\n",
       "     'adr_et_post': '75012',\n",
       "     'adr_et_l1': 'CLIMESPACE',\n",
       "     'adr_et_l2': '',\n",
       "     'adr_et_l3': '3/5/5BIS',\n",
       "     'adr_et_l4': '3 BD DIDEROT',\n",
       "     'adr_et_l5': '',\n",
       "     'adr_et_l6': '75012 PARIS 12',\n",
       "     'adr_et_l7': '',\n",
       "     'nic_siege': '00104',\n",
       "     'unite_type': '1',\n",
       "     'region': '11',\n",
       "     'adr_depcom': '75112',\n",
       "     'region_impl': '11',\n",
       "     'region_mult': 'MONO',\n",
       "     'tr_eff_etp': '22',\n",
       "     'cj': '5599',\n",
       "     'denom': 'CLIMESPACE',\n",
       "     'denom_condense': 'CLIMESPACE',\n",
       "     'sigle': '',\n",
       "     'enseigne': '',\n",
       "     'eff_3112_unitelegale': '151.0',\n",
       "     'eff_etp_unitelegale': '141.0',\n",
       "     'eff_effet_daaaammjj_unitelegale': '20181231',\n",
       "     'siret_id': '37899345500104',\n",
       "     'siret': '37899345500104',\n",
       "     'longitude': '2.368859',\n",
       "     'latitude': '48.845458',\n",
       "     'geo_score': '0.82',\n",
       "     'geo_type': 'housenumber',\n",
       "     'geo_adresse': '3 Boulevard Diderot 75012 Paris',\n",
       "     'location': '48.845458, 2.368859'}}]}}"
      ]
     },
     "execution_count": 5,
     "metadata": {},
     "output_type": "execute_result"
    }
   ],
   "source": [
    "specificsearch = fc.es.search(index = 'sirus_2020', body = \n",
    "'''{\n",
    "  \"query\": {\n",
    "    \"bool\": {\n",
    "      \"should\":\n",
    "          { \"match\": { \"rs_denom\":   \"CPCU - CENTRALE DE BERCY\"}},\n",
    "      \"filter\": [\n",
    "          {\"geo_distance\": {\n",
    "                  \"distance\": \"0.5km\",\n",
    "                  \"location\": {\n",
    "                        \"lat\": \"48.84329\", \n",
    "                        \"lon\": \"2.37396\"\n",
    "                              }\n",
    "                            }\n",
    "            }, \n",
    "            { \"prefix\":  { \"apet\": \"3530\" }}\n",
    "                ]\n",
    "            }\n",
    "          }\n",
    "}'''\n",
    ")\n",
    "specificsearch"
   ]
  },
  {
   "cell_type": "markdown",
   "metadata": {},
   "source": [
    "## Les émissions de CO2\n",
    "\n",
    "On va commencer par se focaliser sur les gros émetteurs de CO2"
   ]
  },
  {
   "cell_type": "code",
   "execution_count": null,
   "metadata": {},
   "outputs": [],
   "source": [
    "emissions = dict_data['emissions']\n",
    "emissions_co2 = emissions.loc[emissions['polluant'].str.contains(\"CO2\")]\n",
    "emissions_co2 = emissions_co2.loc[emissions_co2['polluant'].str.contains('total')]\n",
    "emissions_co2.head(1)"
   ]
  },
  {
   "cell_type": "code",
   "execution_count": null,
   "metadata": {},
   "outputs": [],
   "source": [
    "emissions_co2['quantite'].div(1000).plot.hist(logx = True)"
   ]
  },
  {
   "cell_type": "code",
   "execution_count": null,
   "metadata": {},
   "outputs": [],
   "source": [
    "dict_data.head(1)"
   ]
  },
  {
   "cell_type": "code",
   "execution_count": null,
   "metadata": {},
   "outputs": [],
   "source": [
    "dict_data['emissions'][\"annee_emission\"].value_counts()"
   ]
  },
  {
   "cell_type": "code",
   "execution_count": null,
   "metadata": {},
   "outputs": [],
   "source": [
    "dict_data['emissions'][\"milieu\"].value_counts()"
   ]
  },
  {
   "cell_type": "code",
   "execution_count": null,
   "metadata": {},
   "outputs": [],
   "source": [
    "dechets_dang = dict_data['Trait_dechets_dangereux']"
   ]
  },
  {
   "cell_type": "code",
   "execution_count": null,
   "metadata": {},
   "outputs": [],
   "source": [
    "dict_data['etablissements']['identifiant'].nunique()"
   ]
  },
  {
   "cell_type": "code",
   "execution_count": null,
   "metadata": {},
   "outputs": [],
   "source": [
    "dict_data['etablissements'].head(1)"
   ]
  },
  {
   "cell_type": "code",
   "execution_count": null,
   "metadata": {},
   "outputs": [],
   "source": [
    "dict_data"
   ]
  },
  {
   "cell_type": "code",
   "execution_count": null,
   "metadata": {},
   "outputs": [],
   "source": []
  }
 ],
 "metadata": {
  "interpreter": {
   "hash": "ed5946f2a0d3f5e934efd92075c2a89b2cb5130d0efd6e4509a568bedf48ed26"
  },
  "kernelspec": {
   "display_name": "Python 3 (ipykernel)",
   "language": "python",
   "name": "python3"
  },
  "language_info": {
   "codemirror_mode": {
    "name": "ipython",
    "version": 3
   },
   "file_extension": ".py",
   "mimetype": "text/x-python",
   "name": "python",
   "nbconvert_exporter": "python",
   "pygments_lexer": "ipython3",
   "version": "3.10.4"
  }
 },
 "nbformat": 4,
 "nbformat_minor": 4
}
